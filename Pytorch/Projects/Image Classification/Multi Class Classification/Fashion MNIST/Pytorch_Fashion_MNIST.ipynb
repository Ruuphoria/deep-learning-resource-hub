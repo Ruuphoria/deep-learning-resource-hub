{
  "nbformat": 4,
  "nbformat_minor": 0,
  "metadata": {
    "colab": {
      "name": "Pytorch_Fashion_MNIST.ipynb",
      "provenance": []
    },
    "kernelspec": {
      "name": "python3",
      "display_name": "Python 3"
    },
    "widgets": {
      "application/vnd.jupyter.widget-state+json": {
        "4a0ae00d6a944a549a86018bb6e7388f": {
          "model_module": "@jupyter-widgets/controls",
          "model_name": "HBoxModel",
          "state": {
            "_view_name": "HBoxView",
            "_dom_classes": [],
            "_model_name": "HBoxModel",
            "_view_module": "@jupyter-widgets/controls",
            "_model_module_version": "1.5.0",
            "_view_count": null,
            "_view_module_version": "1.5.0",
            "box_style": "",
            "layout": "IPY_MODEL_1c2bd8a05ecd48b68b5ca70b7ef4f0d8",
            "_model_module": "@jupyter-widgets/controls",
            "children": [
              "IPY_MODEL_53660b41206a4bda9c62fbe9a05e02f0",
              "IPY_MODEL_8dced7093a0a4f8d951f1f8bb8d6a39c"
            ]
          }
        },
        "1c2bd8a05ecd48b68b5ca70b7ef4f0d8": {
          "model_module": "@jupyter-widgets/base",
          "model_name": "LayoutModel",
          "state": {
            "_view_name": "LayoutView",
            "grid_template_rows": null,
            "right": null,
            "justify_content": null,
            "_view_module": "@jupyter-widgets/base",
            "overflow": null,
            "_model_module_version": "1.2.0",
            "_view_count": null,
            "flex_flow": null,
            "width": null,
            "min_width": null,
            "border": null,
            "align_items": null,
            "bottom": null,
            "_model_module": "@jupyter-widgets/base",
            "top": null,
            "grid_column": null,
            "overflow_y": null,
            "overflow_x": null,
            "grid_auto_flow": null,
            "grid_area": null,
            "grid_template_columns": null,
            "flex": null,
            "_model_name": "LayoutModel",
            "justify_items": null,
            "grid_row": null,
            "max_height": null,
            "align_content": null,
            "visibility": null,
            "align_self": null,
            "height": null,
            "min_height": null,
            "padding": null,
            "grid_auto_rows": null,
            "grid_gap": null,
            "max_width": null,
            "order": null,
            "_view_module_version": "1.2.0",
            "grid_template_areas": null,
            "object_position": null,
            "object_fit": null,
            "grid_auto_columns": null,
            "margin": null,
            "display": null,
            "left": null
          }
        },
        "53660b41206a4bda9c62fbe9a05e02f0": {
          "model_module": "@jupyter-widgets/controls",
          "model_name": "FloatProgressModel",
          "state": {
            "_view_name": "ProgressView",
            "style": "IPY_MODEL_43277f03822e4b8a97076b65ad12f5f2",
            "_dom_classes": [],
            "description": "",
            "_model_name": "FloatProgressModel",
            "bar_style": "info",
            "max": 1,
            "_view_module": "@jupyter-widgets/controls",
            "_model_module_version": "1.5.0",
            "value": 1,
            "_view_count": null,
            "_view_module_version": "1.5.0",
            "orientation": "horizontal",
            "min": 0,
            "description_tooltip": null,
            "_model_module": "@jupyter-widgets/controls",
            "layout": "IPY_MODEL_99128608cdfe49feb94f4ac4ee007128"
          }
        },
        "8dced7093a0a4f8d951f1f8bb8d6a39c": {
          "model_module": "@jupyter-widgets/controls",
          "model_name": "HTMLModel",
          "state": {
            "_view_name": "HTMLView",
            "style": "IPY_MODEL_9be67b099a4e40c2a7e5e2197caffd75",
            "_dom_classes": [],
            "description": "",
            "_model_name": "HTMLModel",
            "placeholder": "​",
            "_view_module": "@jupyter-widgets/controls",
            "_model_module_version": "1.5.0",
            "value": " 26427392/? [00:19&lt;00:00, 13850027.42it/s]",
            "_view_count": null,
            "_view_module_version": "1.5.0",
            "description_tooltip": null,
            "_model_module": "@jupyter-widgets/controls",
            "layout": "IPY_MODEL_554c60900f3d4f23b1099f2cdbc6da80"
          }
        },
        "43277f03822e4b8a97076b65ad12f5f2": {
          "model_module": "@jupyter-widgets/controls",
          "model_name": "ProgressStyleModel",
          "state": {
            "_view_name": "StyleView",
            "_model_name": "ProgressStyleModel",
            "description_width": "initial",
            "_view_module": "@jupyter-widgets/base",
            "_model_module_version": "1.5.0",
            "_view_count": null,
            "_view_module_version": "1.2.0",
            "bar_color": null,
            "_model_module": "@jupyter-widgets/controls"
          }
        },
        "99128608cdfe49feb94f4ac4ee007128": {
          "model_module": "@jupyter-widgets/base",
          "model_name": "LayoutModel",
          "state": {
            "_view_name": "LayoutView",
            "grid_template_rows": null,
            "right": null,
            "justify_content": null,
            "_view_module": "@jupyter-widgets/base",
            "overflow": null,
            "_model_module_version": "1.2.0",
            "_view_count": null,
            "flex_flow": null,
            "width": null,
            "min_width": null,
            "border": null,
            "align_items": null,
            "bottom": null,
            "_model_module": "@jupyter-widgets/base",
            "top": null,
            "grid_column": null,
            "overflow_y": null,
            "overflow_x": null,
            "grid_auto_flow": null,
            "grid_area": null,
            "grid_template_columns": null,
            "flex": null,
            "_model_name": "LayoutModel",
            "justify_items": null,
            "grid_row": null,
            "max_height": null,
            "align_content": null,
            "visibility": null,
            "align_self": null,
            "height": null,
            "min_height": null,
            "padding": null,
            "grid_auto_rows": null,
            "grid_gap": null,
            "max_width": null,
            "order": null,
            "_view_module_version": "1.2.0",
            "grid_template_areas": null,
            "object_position": null,
            "object_fit": null,
            "grid_auto_columns": null,
            "margin": null,
            "display": null,
            "left": null
          }
        },
        "9be67b099a4e40c2a7e5e2197caffd75": {
          "model_module": "@jupyter-widgets/controls",
          "model_name": "DescriptionStyleModel",
          "state": {
            "_view_name": "StyleView",
            "_model_name": "DescriptionStyleModel",
            "description_width": "",
            "_view_module": "@jupyter-widgets/base",
            "_model_module_version": "1.5.0",
            "_view_count": null,
            "_view_module_version": "1.2.0",
            "_model_module": "@jupyter-widgets/controls"
          }
        },
        "554c60900f3d4f23b1099f2cdbc6da80": {
          "model_module": "@jupyter-widgets/base",
          "model_name": "LayoutModel",
          "state": {
            "_view_name": "LayoutView",
            "grid_template_rows": null,
            "right": null,
            "justify_content": null,
            "_view_module": "@jupyter-widgets/base",
            "overflow": null,
            "_model_module_version": "1.2.0",
            "_view_count": null,
            "flex_flow": null,
            "width": null,
            "min_width": null,
            "border": null,
            "align_items": null,
            "bottom": null,
            "_model_module": "@jupyter-widgets/base",
            "top": null,
            "grid_column": null,
            "overflow_y": null,
            "overflow_x": null,
            "grid_auto_flow": null,
            "grid_area": null,
            "grid_template_columns": null,
            "flex": null,
            "_model_name": "LayoutModel",
            "justify_items": null,
            "grid_row": null,
            "max_height": null,
            "align_content": null,
            "visibility": null,
            "align_self": null,
            "height": null,
            "min_height": null,
            "padding": null,
            "grid_auto_rows": null,
            "grid_gap": null,
            "max_width": null,
            "order": null,
            "_view_module_version": "1.2.0",
            "grid_template_areas": null,
            "object_position": null,
            "object_fit": null,
            "grid_auto_columns": null,
            "margin": null,
            "display": null,
            "left": null
          }
        },
        "74d404f1e7454438a194698cbaae322e": {
          "model_module": "@jupyter-widgets/controls",
          "model_name": "HBoxModel",
          "state": {
            "_view_name": "HBoxView",
            "_dom_classes": [],
            "_model_name": "HBoxModel",
            "_view_module": "@jupyter-widgets/controls",
            "_model_module_version": "1.5.0",
            "_view_count": null,
            "_view_module_version": "1.5.0",
            "box_style": "",
            "layout": "IPY_MODEL_6e642de55f5c43edb69f5ddcad9ca5b9",
            "_model_module": "@jupyter-widgets/controls",
            "children": [
              "IPY_MODEL_01199352a29046508ef5d4a4c443a69a",
              "IPY_MODEL_4cd55a19581f4101a48a98a4be24023f"
            ]
          }
        },
        "6e642de55f5c43edb69f5ddcad9ca5b9": {
          "model_module": "@jupyter-widgets/base",
          "model_name": "LayoutModel",
          "state": {
            "_view_name": "LayoutView",
            "grid_template_rows": null,
            "right": null,
            "justify_content": null,
            "_view_module": "@jupyter-widgets/base",
            "overflow": null,
            "_model_module_version": "1.2.0",
            "_view_count": null,
            "flex_flow": null,
            "width": null,
            "min_width": null,
            "border": null,
            "align_items": null,
            "bottom": null,
            "_model_module": "@jupyter-widgets/base",
            "top": null,
            "grid_column": null,
            "overflow_y": null,
            "overflow_x": null,
            "grid_auto_flow": null,
            "grid_area": null,
            "grid_template_columns": null,
            "flex": null,
            "_model_name": "LayoutModel",
            "justify_items": null,
            "grid_row": null,
            "max_height": null,
            "align_content": null,
            "visibility": null,
            "align_self": null,
            "height": null,
            "min_height": null,
            "padding": null,
            "grid_auto_rows": null,
            "grid_gap": null,
            "max_width": null,
            "order": null,
            "_view_module_version": "1.2.0",
            "grid_template_areas": null,
            "object_position": null,
            "object_fit": null,
            "grid_auto_columns": null,
            "margin": null,
            "display": null,
            "left": null
          }
        },
        "01199352a29046508ef5d4a4c443a69a": {
          "model_module": "@jupyter-widgets/controls",
          "model_name": "FloatProgressModel",
          "state": {
            "_view_name": "ProgressView",
            "style": "IPY_MODEL_689e155caef04d89ae84c7098098880f",
            "_dom_classes": [],
            "description": "  0%",
            "_model_name": "FloatProgressModel",
            "bar_style": "info",
            "max": 1,
            "_view_module": "@jupyter-widgets/controls",
            "_model_module_version": "1.5.0",
            "value": 0,
            "_view_count": null,
            "_view_module_version": "1.5.0",
            "orientation": "horizontal",
            "min": 0,
            "description_tooltip": null,
            "_model_module": "@jupyter-widgets/controls",
            "layout": "IPY_MODEL_331786fb778b437189bea4350d65b720"
          }
        },
        "4cd55a19581f4101a48a98a4be24023f": {
          "model_module": "@jupyter-widgets/controls",
          "model_name": "HTMLModel",
          "state": {
            "_view_name": "HTMLView",
            "style": "IPY_MODEL_1f5fa9eda2a34dcfbb4de654ee66b89c",
            "_dom_classes": [],
            "description": "",
            "_model_name": "HTMLModel",
            "placeholder": "​",
            "_view_module": "@jupyter-widgets/controls",
            "_model_module_version": "1.5.0",
            "value": " 0/29515 [00:00&lt;?, ?it/s]",
            "_view_count": null,
            "_view_module_version": "1.5.0",
            "description_tooltip": null,
            "_model_module": "@jupyter-widgets/controls",
            "layout": "IPY_MODEL_84ab9b5368ae4f3186c66eb9508b28c2"
          }
        },
        "689e155caef04d89ae84c7098098880f": {
          "model_module": "@jupyter-widgets/controls",
          "model_name": "ProgressStyleModel",
          "state": {
            "_view_name": "StyleView",
            "_model_name": "ProgressStyleModel",
            "description_width": "initial",
            "_view_module": "@jupyter-widgets/base",
            "_model_module_version": "1.5.0",
            "_view_count": null,
            "_view_module_version": "1.2.0",
            "bar_color": null,
            "_model_module": "@jupyter-widgets/controls"
          }
        },
        "331786fb778b437189bea4350d65b720": {
          "model_module": "@jupyter-widgets/base",
          "model_name": "LayoutModel",
          "state": {
            "_view_name": "LayoutView",
            "grid_template_rows": null,
            "right": null,
            "justify_content": null,
            "_view_module": "@jupyter-widgets/base",
            "overflow": null,
            "_model_module_version": "1.2.0",
            "_view_count": null,
            "flex_flow": null,
            "width": null,
            "min_width": null,
            "border": null,
            "align_items": null,
            "bottom": null,
            "_model_module": "@jupyter-widgets/base",
            "top": null,
            "grid_column": null,
            "overflow_y": null,
            "overflow_x": null,
            "grid_auto_flow": null,
            "grid_area": null,
            "grid_template_columns": null,
            "flex": null,
            "_model_name": "LayoutModel",
            "justify_items": null,
            "grid_row": null,
            "max_height": null,
            "align_content": null,
            "visibility": null,
            "align_self": null,
            "height": null,
            "min_height": null,
            "padding": null,
            "grid_auto_rows": null,
            "grid_gap": null,
            "max_width": null,
            "order": null,
            "_view_module_version": "1.2.0",
            "grid_template_areas": null,
            "object_position": null,
            "object_fit": null,
            "grid_auto_columns": null,
            "margin": null,
            "display": null,
            "left": null
          }
        },
        "1f5fa9eda2a34dcfbb4de654ee66b89c": {
          "model_module": "@jupyter-widgets/controls",
          "model_name": "DescriptionStyleModel",
          "state": {
            "_view_name": "StyleView",
            "_model_name": "DescriptionStyleModel",
            "description_width": "",
            "_view_module": "@jupyter-widgets/base",
            "_model_module_version": "1.5.0",
            "_view_count": null,
            "_view_module_version": "1.2.0",
            "_model_module": "@jupyter-widgets/controls"
          }
        },
        "84ab9b5368ae4f3186c66eb9508b28c2": {
          "model_module": "@jupyter-widgets/base",
          "model_name": "LayoutModel",
          "state": {
            "_view_name": "LayoutView",
            "grid_template_rows": null,
            "right": null,
            "justify_content": null,
            "_view_module": "@jupyter-widgets/base",
            "overflow": null,
            "_model_module_version": "1.2.0",
            "_view_count": null,
            "flex_flow": null,
            "width": null,
            "min_width": null,
            "border": null,
            "align_items": null,
            "bottom": null,
            "_model_module": "@jupyter-widgets/base",
            "top": null,
            "grid_column": null,
            "overflow_y": null,
            "overflow_x": null,
            "grid_auto_flow": null,
            "grid_area": null,
            "grid_template_columns": null,
            "flex": null,
            "_model_name": "LayoutModel",
            "justify_items": null,
            "grid_row": null,
            "max_height": null,
            "align_content": null,
            "visibility": null,
            "align_self": null,
            "height": null,
            "min_height": null,
            "padding": null,
            "grid_auto_rows": null,
            "grid_gap": null,
            "max_width": null,
            "order": null,
            "_view_module_version": "1.2.0",
            "grid_template_areas": null,
            "object_position": null,
            "object_fit": null,
            "grid_auto_columns": null,
            "margin": null,
            "display": null,
            "left": null
          }
        },
        "e3d255d608df4129b2fab5180c220279": {
          "model_module": "@jupyter-widgets/controls",
          "model_name": "HBoxModel",
          "state": {
            "_view_name": "HBoxView",
            "_dom_classes": [],
            "_model_name": "HBoxModel",
            "_view_module": "@jupyter-widgets/controls",
            "_model_module_version": "1.5.0",
            "_view_count": null,
            "_view_module_version": "1.5.0",
            "box_style": "",
            "layout": "IPY_MODEL_6aef286237c44f22b2f655f81b32b648",
            "_model_module": "@jupyter-widgets/controls",
            "children": [
              "IPY_MODEL_254001c8701248aca84dd6d114b4a6f1",
              "IPY_MODEL_36d9fd155e4d452abe6de90f1a7774d2"
            ]
          }
        },
        "6aef286237c44f22b2f655f81b32b648": {
          "model_module": "@jupyter-widgets/base",
          "model_name": "LayoutModel",
          "state": {
            "_view_name": "LayoutView",
            "grid_template_rows": null,
            "right": null,
            "justify_content": null,
            "_view_module": "@jupyter-widgets/base",
            "overflow": null,
            "_model_module_version": "1.2.0",
            "_view_count": null,
            "flex_flow": null,
            "width": null,
            "min_width": null,
            "border": null,
            "align_items": null,
            "bottom": null,
            "_model_module": "@jupyter-widgets/base",
            "top": null,
            "grid_column": null,
            "overflow_y": null,
            "overflow_x": null,
            "grid_auto_flow": null,
            "grid_area": null,
            "grid_template_columns": null,
            "flex": null,
            "_model_name": "LayoutModel",
            "justify_items": null,
            "grid_row": null,
            "max_height": null,
            "align_content": null,
            "visibility": null,
            "align_self": null,
            "height": null,
            "min_height": null,
            "padding": null,
            "grid_auto_rows": null,
            "grid_gap": null,
            "max_width": null,
            "order": null,
            "_view_module_version": "1.2.0",
            "grid_template_areas": null,
            "object_position": null,
            "object_fit": null,
            "grid_auto_columns": null,
            "margin": null,
            "display": null,
            "left": null
          }
        },
        "254001c8701248aca84dd6d114b4a6f1": {
          "model_module": "@jupyter-widgets/controls",
          "model_name": "FloatProgressModel",
          "state": {
            "_view_name": "ProgressView",
            "style": "IPY_MODEL_b3550926b90447cbbc8ef678ab32d088",
            "_dom_classes": [],
            "description": "",
            "_model_name": "FloatProgressModel",
            "bar_style": "info",
            "max": 1,
            "_view_module": "@jupyter-widgets/controls",
            "_model_module_version": "1.5.0",
            "value": 1,
            "_view_count": null,
            "_view_module_version": "1.5.0",
            "orientation": "horizontal",
            "min": 0,
            "description_tooltip": null,
            "_model_module": "@jupyter-widgets/controls",
            "layout": "IPY_MODEL_d89eb4ed174d4c989a24605f6ca66179"
          }
        },
        "36d9fd155e4d452abe6de90f1a7774d2": {
          "model_module": "@jupyter-widgets/controls",
          "model_name": "HTMLModel",
          "state": {
            "_view_name": "HTMLView",
            "style": "IPY_MODEL_f9eae64d61414a1599ff0ce29c53b28e",
            "_dom_classes": [],
            "description": "",
            "_model_name": "HTMLModel",
            "placeholder": "​",
            "_view_module": "@jupyter-widgets/controls",
            "_model_module_version": "1.5.0",
            "value": " 4423680/? [00:17&lt;00:00, 1483525.56it/s]",
            "_view_count": null,
            "_view_module_version": "1.5.0",
            "description_tooltip": null,
            "_model_module": "@jupyter-widgets/controls",
            "layout": "IPY_MODEL_c60984f7c25d4a33a9857a9ffa23e199"
          }
        },
        "b3550926b90447cbbc8ef678ab32d088": {
          "model_module": "@jupyter-widgets/controls",
          "model_name": "ProgressStyleModel",
          "state": {
            "_view_name": "StyleView",
            "_model_name": "ProgressStyleModel",
            "description_width": "initial",
            "_view_module": "@jupyter-widgets/base",
            "_model_module_version": "1.5.0",
            "_view_count": null,
            "_view_module_version": "1.2.0",
            "bar_color": null,
            "_model_module": "@jupyter-widgets/controls"
          }
        },
        "d89eb4ed174d4c989a24605f6ca66179": {
          "model_module": "@jupyter-widgets/base",
          "model_name": "LayoutModel",
          "state": {
            "_view_name": "LayoutView",
            "grid_template_rows": null,
            "right": null,
            "justify_content": null,
            "_view_module": "@jupyter-widgets/base",
            "overflow": null,
            "_model_module_version": "1.2.0",
            "_view_count": null,
            "flex_flow": null,
            "width": null,
            "min_width": null,
            "border": null,
            "align_items": null,
            "bottom": null,
            "_model_module": "@jupyter-widgets/base",
            "top": null,
            "grid_column": null,
            "overflow_y": null,
            "overflow_x": null,
            "grid_auto_flow": null,
            "grid_area": null,
            "grid_template_columns": null,
            "flex": null,
            "_model_name": "LayoutModel",
            "justify_items": null,
            "grid_row": null,
            "max_height": null,
            "align_content": null,
            "visibility": null,
            "align_self": null,
            "height": null,
            "min_height": null,
            "padding": null,
            "grid_auto_rows": null,
            "grid_gap": null,
            "max_width": null,
            "order": null,
            "_view_module_version": "1.2.0",
            "grid_template_areas": null,
            "object_position": null,
            "object_fit": null,
            "grid_auto_columns": null,
            "margin": null,
            "display": null,
            "left": null
          }
        },
        "f9eae64d61414a1599ff0ce29c53b28e": {
          "model_module": "@jupyter-widgets/controls",
          "model_name": "DescriptionStyleModel",
          "state": {
            "_view_name": "StyleView",
            "_model_name": "DescriptionStyleModel",
            "description_width": "",
            "_view_module": "@jupyter-widgets/base",
            "_model_module_version": "1.5.0",
            "_view_count": null,
            "_view_module_version": "1.2.0",
            "_model_module": "@jupyter-widgets/controls"
          }
        },
        "c60984f7c25d4a33a9857a9ffa23e199": {
          "model_module": "@jupyter-widgets/base",
          "model_name": "LayoutModel",
          "state": {
            "_view_name": "LayoutView",
            "grid_template_rows": null,
            "right": null,
            "justify_content": null,
            "_view_module": "@jupyter-widgets/base",
            "overflow": null,
            "_model_module_version": "1.2.0",
            "_view_count": null,
            "flex_flow": null,
            "width": null,
            "min_width": null,
            "border": null,
            "align_items": null,
            "bottom": null,
            "_model_module": "@jupyter-widgets/base",
            "top": null,
            "grid_column": null,
            "overflow_y": null,
            "overflow_x": null,
            "grid_auto_flow": null,
            "grid_area": null,
            "grid_template_columns": null,
            "flex": null,
            "_model_name": "LayoutModel",
            "justify_items": null,
            "grid_row": null,
            "max_height": null,
            "align_content": null,
            "visibility": null,
            "align_self": null,
            "height": null,
            "min_height": null,
            "padding": null,
            "grid_auto_rows": null,
            "grid_gap": null,
            "max_width": null,
            "order": null,
            "_view_module_version": "1.2.0",
            "grid_template_areas": null,
            "object_position": null,
            "object_fit": null,
            "grid_auto_columns": null,
            "margin": null,
            "display": null,
            "left": null
          }
        },
        "1758b3fc0e2e40d3bd5df9e50d2d190c": {
          "model_module": "@jupyter-widgets/controls",
          "model_name": "HBoxModel",
          "state": {
            "_view_name": "HBoxView",
            "_dom_classes": [],
            "_model_name": "HBoxModel",
            "_view_module": "@jupyter-widgets/controls",
            "_model_module_version": "1.5.0",
            "_view_count": null,
            "_view_module_version": "1.5.0",
            "box_style": "",
            "layout": "IPY_MODEL_e3f3f9d88555468ba723f7422f4df2ea",
            "_model_module": "@jupyter-widgets/controls",
            "children": [
              "IPY_MODEL_74c5fc12c238472c9e517f2196070258",
              "IPY_MODEL_6b6e976a19834f64b74cdc9ad9e32b9c"
            ]
          }
        },
        "e3f3f9d88555468ba723f7422f4df2ea": {
          "model_module": "@jupyter-widgets/base",
          "model_name": "LayoutModel",
          "state": {
            "_view_name": "LayoutView",
            "grid_template_rows": null,
            "right": null,
            "justify_content": null,
            "_view_module": "@jupyter-widgets/base",
            "overflow": null,
            "_model_module_version": "1.2.0",
            "_view_count": null,
            "flex_flow": null,
            "width": null,
            "min_width": null,
            "border": null,
            "align_items": null,
            "bottom": null,
            "_model_module": "@jupyter-widgets/base",
            "top": null,
            "grid_column": null,
            "overflow_y": null,
            "overflow_x": null,
            "grid_auto_flow": null,
            "grid_area": null,
            "grid_template_columns": null,
            "flex": null,
            "_model_name": "LayoutModel",
            "justify_items": null,
            "grid_row": null,
            "max_height": null,
            "align_content": null,
            "visibility": null,
            "align_self": null,
            "height": null,
            "min_height": null,
            "padding": null,
            "grid_auto_rows": null,
            "grid_gap": null,
            "max_width": null,
            "order": null,
            "_view_module_version": "1.2.0",
            "grid_template_areas": null,
            "object_position": null,
            "object_fit": null,
            "grid_auto_columns": null,
            "margin": null,
            "display": null,
            "left": null
          }
        },
        "74c5fc12c238472c9e517f2196070258": {
          "model_module": "@jupyter-widgets/controls",
          "model_name": "FloatProgressModel",
          "state": {
            "_view_name": "ProgressView",
            "style": "IPY_MODEL_38904fdfda6741b997c6030718371534",
            "_dom_classes": [],
            "description": "  0%",
            "_model_name": "FloatProgressModel",
            "bar_style": "info",
            "max": 1,
            "_view_module": "@jupyter-widgets/controls",
            "_model_module_version": "1.5.0",
            "value": 0,
            "_view_count": null,
            "_view_module_version": "1.5.0",
            "orientation": "horizontal",
            "min": 0,
            "description_tooltip": null,
            "_model_module": "@jupyter-widgets/controls",
            "layout": "IPY_MODEL_a812d20f0e7044ceb5c426d0506785a1"
          }
        },
        "6b6e976a19834f64b74cdc9ad9e32b9c": {
          "model_module": "@jupyter-widgets/controls",
          "model_name": "HTMLModel",
          "state": {
            "_view_name": "HTMLView",
            "style": "IPY_MODEL_47c6a630d86e4fbda32f79a4a7660275",
            "_dom_classes": [],
            "description": "",
            "_model_name": "HTMLModel",
            "placeholder": "​",
            "_view_module": "@jupyter-widgets/controls",
            "_model_module_version": "1.5.0",
            "value": " 0/5148 [00:00&lt;?, ?it/s]",
            "_view_count": null,
            "_view_module_version": "1.5.0",
            "description_tooltip": null,
            "_model_module": "@jupyter-widgets/controls",
            "layout": "IPY_MODEL_0f78fa2f0d064fc3b4572c9c1994551b"
          }
        },
        "38904fdfda6741b997c6030718371534": {
          "model_module": "@jupyter-widgets/controls",
          "model_name": "ProgressStyleModel",
          "state": {
            "_view_name": "StyleView",
            "_model_name": "ProgressStyleModel",
            "description_width": "initial",
            "_view_module": "@jupyter-widgets/base",
            "_model_module_version": "1.5.0",
            "_view_count": null,
            "_view_module_version": "1.2.0",
            "bar_color": null,
            "_model_module": "@jupyter-widgets/controls"
          }
        },
        "a812d20f0e7044ceb5c426d0506785a1": {
          "model_module": "@jupyter-widgets/base",
          "model_name": "LayoutModel",
          "state": {
            "_view_name": "LayoutView",
            "grid_template_rows": null,
            "right": null,
            "justify_content": null,
            "_view_module": "@jupyter-widgets/base",
            "overflow": null,
            "_model_module_version": "1.2.0",
            "_view_count": null,
            "flex_flow": null,
            "width": null,
            "min_width": null,
            "border": null,
            "align_items": null,
            "bottom": null,
            "_model_module": "@jupyter-widgets/base",
            "top": null,
            "grid_column": null,
            "overflow_y": null,
            "overflow_x": null,
            "grid_auto_flow": null,
            "grid_area": null,
            "grid_template_columns": null,
            "flex": null,
            "_model_name": "LayoutModel",
            "justify_items": null,
            "grid_row": null,
            "max_height": null,
            "align_content": null,
            "visibility": null,
            "align_self": null,
            "height": null,
            "min_height": null,
            "padding": null,
            "grid_auto_rows": null,
            "grid_gap": null,
            "max_width": null,
            "order": null,
            "_view_module_version": "1.2.0",
            "grid_template_areas": null,
            "object_position": null,
            "object_fit": null,
            "grid_auto_columns": null,
            "margin": null,
            "display": null,
            "left": null
          }
        },
        "47c6a630d86e4fbda32f79a4a7660275": {
          "model_module": "@jupyter-widgets/controls",
          "model_name": "DescriptionStyleModel",
          "state": {
            "_view_name": "StyleView",
            "_model_name": "DescriptionStyleModel",
            "description_width": "",
            "_view_module": "@jupyter-widgets/base",
            "_model_module_version": "1.5.0",
            "_view_count": null,
            "_view_module_version": "1.2.0",
            "_model_module": "@jupyter-widgets/controls"
          }
        },
        "0f78fa2f0d064fc3b4572c9c1994551b": {
          "model_module": "@jupyter-widgets/base",
          "model_name": "LayoutModel",
          "state": {
            "_view_name": "LayoutView",
            "grid_template_rows": null,
            "right": null,
            "justify_content": null,
            "_view_module": "@jupyter-widgets/base",
            "overflow": null,
            "_model_module_version": "1.2.0",
            "_view_count": null,
            "flex_flow": null,
            "width": null,
            "min_width": null,
            "border": null,
            "align_items": null,
            "bottom": null,
            "_model_module": "@jupyter-widgets/base",
            "top": null,
            "grid_column": null,
            "overflow_y": null,
            "overflow_x": null,
            "grid_auto_flow": null,
            "grid_area": null,
            "grid_template_columns": null,
            "flex": null,
            "_model_name": "LayoutModel",
            "justify_items": null,
            "grid_row": null,
            "max_height": null,
            "align_content": null,
            "visibility": null,
            "align_self": null,
            "height": null,
            "min_height": null,
            "padding": null,
            "grid_auto_rows": null,
            "grid_gap": null,
            "max_width": null,
            "order": null,
            "_view_module_version": "1.2.0",
            "grid_template_areas": null,
            "object_position": null,
            "object_fit": null,
            "grid_auto_columns": null,
            "margin": null,
            "display": null,
            "left": null
          }
        }
      }
    }
  },
  "cells": [
    {
      "cell_type": "markdown",
      "metadata": {
        "id": "lFQ04RB8w4ba",
        "colab_type": "text"
      },
      "source": [
        "# **İmage Recognition using Pytorch with Fashion MNIST DataSet** \n",
        "\n",
        "The Fashion MNIST Datasets contain a set of  28x28 grayscale images of clotes. Our goal is building a neural network using Pytorch and then training the network to predict clothes.\n",
        "*italicized text*"
      ]
    },
    {
      "cell_type": "code",
      "metadata": {
        "id": "LetDAkbex3Qu",
        "colab_type": "code",
        "colab": {}
      },
      "source": [
        "#importing required libraries..\n",
        "import torch\n",
        "import numpy as np\n",
        "import torch.nn as nn\n",
        "import torch.optim as optim \n",
        "import torch.nn.functional as F\n",
        "from torchvision import datasets, transforms\n",
        "from torch.utils.data.sampler import  SubsetRandomSampler  #for validation test"
      ],
      "execution_count": 1,
      "outputs": []
    },
    {
      "cell_type": "markdown",
      "metadata": {
        "id": "eOOlHtgHygGc",
        "colab_type": "text"
      },
      "source": [
        "# **Load and Visualize the Data**"
      ]
    },
    {
      "cell_type": "code",
      "metadata": {
        "id": "--9rCNYRynEu",
        "colab_type": "code",
        "colab": {
          "base_uri": "https://localhost:8080/",
          "height": 366,
          "referenced_widgets": [
            "4a0ae00d6a944a549a86018bb6e7388f",
            "1c2bd8a05ecd48b68b5ca70b7ef4f0d8",
            "53660b41206a4bda9c62fbe9a05e02f0",
            "8dced7093a0a4f8d951f1f8bb8d6a39c",
            "43277f03822e4b8a97076b65ad12f5f2",
            "99128608cdfe49feb94f4ac4ee007128",
            "9be67b099a4e40c2a7e5e2197caffd75",
            "554c60900f3d4f23b1099f2cdbc6da80",
            "74d404f1e7454438a194698cbaae322e",
            "6e642de55f5c43edb69f5ddcad9ca5b9",
            "01199352a29046508ef5d4a4c443a69a",
            "4cd55a19581f4101a48a98a4be24023f",
            "689e155caef04d89ae84c7098098880f",
            "331786fb778b437189bea4350d65b720",
            "1f5fa9eda2a34dcfbb4de654ee66b89c",
            "84ab9b5368ae4f3186c66eb9508b28c2",
            "e3d255d608df4129b2fab5180c220279",
            "6aef286237c44f22b2f655f81b32b648",
            "254001c8701248aca84dd6d114b4a6f1",
            "36d9fd155e4d452abe6de90f1a7774d2",
            "b3550926b90447cbbc8ef678ab32d088",
            "d89eb4ed174d4c989a24605f6ca66179",
            "f9eae64d61414a1599ff0ce29c53b28e",
            "c60984f7c25d4a33a9857a9ffa23e199",
            "1758b3fc0e2e40d3bd5df9e50d2d190c",
            "e3f3f9d88555468ba723f7422f4df2ea",
            "74c5fc12c238472c9e517f2196070258",
            "6b6e976a19834f64b74cdc9ad9e32b9c",
            "38904fdfda6741b997c6030718371534",
            "a812d20f0e7044ceb5c426d0506785a1",
            "47c6a630d86e4fbda32f79a4a7660275",
            "0f78fa2f0d064fc3b4572c9c1994551b"
          ]
        },
        "outputId": "b09a4db1-78eb-4094-813d-50ff4983b33b"
      },
      "source": [
        "\n",
        "#Define a transform to convert to images to tensor and normalize\n",
        "transform = transforms.Compose([transforms.ToTensor(),\n",
        "                               transforms.Normalize((0.5,),(0.5,),)]) #mean and std have to be sequences (e.g., tuples), \n",
        "                                                                      # therefore we should add a comma after the values\n",
        "                          \n",
        "#Load the data: train and test sets\n",
        "trainset = datasets.FashionMNIST('~/.pytorch/F_MNIST_data', download=True, train=True, transform=transform)\n",
        "testset = datasets.FashionMNIST('~/.pytorch/F_MNIST_data', download=True, train=False, transform=transform)\n",
        "\n",
        "#Preparing for validaion test\n",
        "indices = list(range(len(trainset)))\n",
        "np.random.shuffle(indices)\n",
        "#to get 20% of the train set\n",
        "split = int(np.floor(0.2 * len(trainset)))\n",
        "train_sample = SubsetRandomSampler(indices[:split])\n",
        "valid_sample = SubsetRandomSampler(indices[split:])\n",
        "\n",
        "#Data Loader\n",
        "trainloader = torch.utils.data.DataLoader(trainset, sampler=train_sample, batch_size=64)\n",
        "validloader = torch.utils.data.DataLoader(trainset, sampler=valid_sample, batch_size=64)\n",
        "testloader = torch.utils.data.DataLoader(testset, batch_size=64, shuffle=True)\n",
        "\n"
      ],
      "execution_count": 2,
      "outputs": [
        {
          "output_type": "stream",
          "text": [
            "Downloading http://fashion-mnist.s3-website.eu-central-1.amazonaws.com/train-images-idx3-ubyte.gz to /root/.pytorch/F_MNIST_data/FashionMNIST/raw/train-images-idx3-ubyte.gz\n"
          ],
          "name": "stdout"
        },
        {
          "output_type": "display_data",
          "data": {
            "application/vnd.jupyter.widget-view+json": {
              "model_id": "4a0ae00d6a944a549a86018bb6e7388f",
              "version_minor": 0,
              "version_major": 2
            },
            "text/plain": [
              "HBox(children=(FloatProgress(value=1.0, bar_style='info', max=1.0), HTML(value='')))"
            ]
          },
          "metadata": {
            "tags": []
          }
        },
        {
          "output_type": "stream",
          "text": [
            "Extracting /root/.pytorch/F_MNIST_data/FashionMNIST/raw/train-images-idx3-ubyte.gz to /root/.pytorch/F_MNIST_data/FashionMNIST/raw\n",
            "Downloading http://fashion-mnist.s3-website.eu-central-1.amazonaws.com/train-labels-idx1-ubyte.gz to /root/.pytorch/F_MNIST_data/FashionMNIST/raw/train-labels-idx1-ubyte.gz\n"
          ],
          "name": "stdout"
        },
        {
          "output_type": "display_data",
          "data": {
            "application/vnd.jupyter.widget-view+json": {
              "model_id": "74d404f1e7454438a194698cbaae322e",
              "version_minor": 0,
              "version_major": 2
            },
            "text/plain": [
              "HBox(children=(FloatProgress(value=1.0, bar_style='info', max=1.0), HTML(value='')))"
            ]
          },
          "metadata": {
            "tags": []
          }
        },
        {
          "output_type": "stream",
          "text": [
            "Extracting /root/.pytorch/F_MNIST_data/FashionMNIST/raw/train-labels-idx1-ubyte.gz to /root/.pytorch/F_MNIST_data/FashionMNIST/raw\n",
            "Downloading http://fashion-mnist.s3-website.eu-central-1.amazonaws.com/t10k-images-idx3-ubyte.gz to /root/.pytorch/F_MNIST_data/FashionMNIST/raw/t10k-images-idx3-ubyte.gz\n"
          ],
          "name": "stdout"
        },
        {
          "output_type": "display_data",
          "data": {
            "application/vnd.jupyter.widget-view+json": {
              "model_id": "e3d255d608df4129b2fab5180c220279",
              "version_minor": 0,
              "version_major": 2
            },
            "text/plain": [
              "HBox(children=(FloatProgress(value=1.0, bar_style='info', max=1.0), HTML(value='')))"
            ]
          },
          "metadata": {
            "tags": []
          }
        },
        {
          "output_type": "stream",
          "text": [
            "Extracting /root/.pytorch/F_MNIST_data/FashionMNIST/raw/t10k-images-idx3-ubyte.gz to /root/.pytorch/F_MNIST_data/FashionMNIST/raw\n",
            "Downloading http://fashion-mnist.s3-website.eu-central-1.amazonaws.com/t10k-labels-idx1-ubyte.gz to /root/.pytorch/F_MNIST_data/FashionMNIST/raw/t10k-labels-idx1-ubyte.gz\n"
          ],
          "name": "stdout"
        },
        {
          "output_type": "display_data",
          "data": {
            "application/vnd.jupyter.widget-view+json": {
              "model_id": "1758b3fc0e2e40d3bd5df9e50d2d190c",
              "version_minor": 0,
              "version_major": 2
            },
            "text/plain": [
              "HBox(children=(FloatProgress(value=1.0, bar_style='info', max=1.0), HTML(value='')))"
            ]
          },
          "metadata": {
            "tags": []
          }
        },
        {
          "output_type": "stream",
          "text": [
            "Extracting /root/.pytorch/F_MNIST_data/FashionMNIST/raw/t10k-labels-idx1-ubyte.gz to /root/.pytorch/F_MNIST_data/FashionMNIST/raw\n",
            "Processing...\n",
            "Done!\n"
          ],
          "name": "stdout"
        },
        {
          "output_type": "stream",
          "text": [
            "/usr/local/lib/python3.6/dist-packages/torchvision/datasets/mnist.py:469: UserWarning: The given NumPy array is not writeable, and PyTorch does not support non-writeable tensors. This means you can write to the underlying (supposedly non-writeable) NumPy array using the tensor. You may want to copy the array to protect its data or make it writeable before converting it to a tensor. This type of warning will be suppressed for the rest of this program. (Triggered internally at  /pytorch/torch/csrc/utils/tensor_numpy.cpp:141.)\n",
            "  return torch.from_numpy(parsed.astype(m[2], copy=False)).view(*s)\n"
          ],
          "name": "stderr"
        }
      ]
    },
    {
      "cell_type": "code",
      "metadata": {
        "id": "XY-pukiltB5e",
        "colab_type": "code",
        "colab": {
          "base_uri": "https://localhost:8080/",
          "height": 168
        },
        "outputId": "16438306-393b-4f54-fc51-31898ac9416b"
      },
      "source": [
        "trainset"
      ],
      "execution_count": 3,
      "outputs": [
        {
          "output_type": "execute_result",
          "data": {
            "text/plain": [
              "Dataset FashionMNIST\n",
              "    Number of datapoints: 60000\n",
              "    Root location: /root/.pytorch/F_MNIST_data\n",
              "    Split: Train\n",
              "    StandardTransform\n",
              "Transform: Compose(\n",
              "               ToTensor()\n",
              "               Normalize(mean=(0.5,), std=(0.5,))\n",
              "           )"
            ]
          },
          "metadata": {
            "tags": []
          },
          "execution_count": 3
        }
      ]
    },
    {
      "cell_type": "markdown",
      "metadata": {
        "id": "nU-0ZOgF28It",
        "colab_type": "text"
      },
      "source": [
        "# **Visualize a Batch of Training Data**"
      ]
    },
    {
      "cell_type": "code",
      "metadata": {
        "id": "Ty4wpOYXtQ_t",
        "colab_type": "code",
        "colab": {
          "base_uri": "https://localhost:8080/",
          "height": 34
        },
        "outputId": "2ac59453-132d-49d4-ee37-2ce0627f47d1"
      },
      "source": [
        "trainloader"
      ],
      "execution_count": 4,
      "outputs": [
        {
          "output_type": "execute_result",
          "data": {
            "text/plain": [
              "<torch.utils.data.dataloader.DataLoader at 0x7fbd6189fd30>"
            ]
          },
          "metadata": {
            "tags": []
          },
          "execution_count": 4
        }
      ]
    },
    {
      "cell_type": "code",
      "metadata": {
        "id": "qn_Wlugz3BBZ",
        "colab_type": "code",
        "colab": {
          "base_uri": "https://localhost:8080/",
          "height": 386
        },
        "outputId": "50b38072-92b8-42b9-ca00-74e95bea3f7b"
      },
      "source": [
        "import matplotlib.pyplot as plt\n",
        "%matplotlib inline\n",
        "\n",
        "dataiter = iter(trainloader)\n",
        "print(dataiter)\n",
        "images, labels = dataiter.next()\n",
        "\n",
        "\n",
        "fig = plt.figure(figsize=(15,5))\n",
        "for idx in np.arange(20):\n",
        "  # xticks=[], yticks=[] is empty to print the images without any ticks around them\n",
        "  #np.sqeeze : Remove single-dimensional entries from the shape of an array.\n",
        "  ax = fig.add_subplot(4, 20/4, idx+1, xticks=[], yticks=[])\n",
        "  ax.imshow(np.squeeze(images[idx]), cmap='gray')\n",
        "   # .item() gets the value contained in a Tensor\n",
        "  ax.set_title(labels[idx].item())\n",
        "  fig.tight_layout()"
      ],
      "execution_count": 5,
      "outputs": [
        {
          "output_type": "stream",
          "text": [
            "<torch.utils.data.dataloader._SingleProcessDataLoaderIter object at 0x7fbd6127bb38>\n"
          ],
          "name": "stdout"
        },
        {
          "output_type": "display_data",
          "data": {
            "image/png": "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