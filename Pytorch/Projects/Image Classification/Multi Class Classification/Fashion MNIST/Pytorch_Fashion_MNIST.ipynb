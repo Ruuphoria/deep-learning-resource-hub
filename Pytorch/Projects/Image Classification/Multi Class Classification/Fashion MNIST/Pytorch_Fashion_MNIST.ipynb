{
  "nbformat": 4,
  "nbformat_minor": 0,
  "metadata": {
    "colab": {
      "name": "Pytorch_Fashion_MNIST.ipynb",
      "provenance": []
    },
    "kernelspec": {
      "name": "python3",
      "display_name": "Python 3"
    },
    "widgets": {
      "application/vnd.jupyter.widget-state+json": {
        "4a0ae00d6a944a549a86018bb6e7388f": {
          "model_module": "@jupyter-widgets/controls",
          "model_name": "HBoxModel",
          "state": {
            "_view_name": "HBoxView",
            "_dom_classes": [],
            "_model_name": "HBoxModel",
            "_view_module": "@jupyter-widgets/controls",
            "_model_module_version": "1.5.0",
            "_view_count": null,
            "_view_module_version": "1.5.0",
            "box_style": "",
            "layout": "IPY_MODEL_1c2bd8a05ecd48b68b5ca70b7ef4f0d8",
            "_model_module": "@jupyter-widgets/controls",
            "children": [
              "IPY_MODEL_53660b41206a4bda9c62fbe9a05e02f0",
              "IPY_MODEL_8dced7093a0a4f8d951f1f8bb8d6a39c"
            ]
          }
        },
        "1c2bd8a05ecd48b68b5ca70b7ef4f0d8": {
          "model_module": "@jupyter-widgets/base",
          "model_name": "LayoutModel",
          "state": {
            "_view_name": "LayoutView",
            "grid_template_rows": null,
            "right": null,
            "justify_content": null,
            "_view_module": "@jupyter-widgets/base",
            "overflow": null,
            "_model_module_version": "1.2.0",
            "_view_count": null,
            "flex_flow": null,
            "width": null,
            "min_width": null,
            "border": null,
            "align_items": null,
            "bottom": null,
            "_model_module": "@jupyter-widgets/base",
            "top": null,
            "grid_column": null,
            "overflow_y": null,
            "overflow_x": null,
            "grid_auto_flow": null,
            "grid_area": null,
            "grid_template_columns": null,
            "flex": null,
            "_model_name": "LayoutModel",
            "justify_items": null,
            "grid_row": null,
            "max_height": null,
            "align_content": null,
            "visibility": null,
            "align_self": null,
            "height": null,
            "min_height": null,
            "padding": null,
            "grid_auto_rows": null,
            "grid_gap": null,
            "max_width": null,
            "order": null,
            "_view_module_version": "1.2.0",
            "grid_template_areas": null,
            "object_position": null,
            "object_fit": null,
            "grid_auto_columns": null,
            "margin": null,
            "display": null,
            "left": null
          }
        },
        "53660b41206a4bda9c62fbe9a05e02f0": {
          "model_module": "@jupyter-widgets/controls",
          "model_name": "FloatProgressModel",
          "state": {
            "_view_name": "ProgressView",
            "style": "IPY_MODEL_43277f03822e4b8a97076b65ad12f5f2",
            "_dom_classes": [],
            "description": "",
            "_model_name": "FloatProgressModel",
            "bar_style": "info",
            "max": 1,
            "_view_module": "@jupyter-widgets/controls",
            "_model_module_version": "1.5.0",
            "value": 1,
            "_view_count": null,
            "_view_module_version": "1.5.0",
            "orientation": "horizontal",
            "min": 0,
            "description_tooltip": null,
            "_model_module": "@jupyter-widgets/controls",
            "layout": "IPY_MODEL_99128608cdfe49feb94f4ac4ee007128"
          }
        },
        "8dced7093a0a4f8d951f1f8bb8d6a39c": {
          "model_module": "@jupyter-widgets/controls",
          "model_name": "HTMLModel",
          "state": {
            "_view_name": "HTMLView",
            "style": "IPY_MODEL_9be67b099a4e40c2a7e5e2197caffd75",
            "_dom_classes": [],
            "description": "",
            "_model_name": "HTMLModel",
            "placeholder": "​",
            "_view_module": "@jupyter-widgets/controls",
            "_model_module_version": "1.5.0",
            "value": " 26427392/? [00:19&lt;00:00, 13850027.42it/s]",
            "_view_count": null,
            "_view_module_version": "1.5.0",
            "description_tooltip": null,
            "_model_module": "@jupyter-widgets/controls",
            "layout": "IPY_MODEL_554c60900f3d4f23b1099f2cdbc6da80"
          }
        },
        "43277f03822e4b8a97076b65ad12f5f2": {
          "model_module": "@jupyter-widgets/controls",
          "model_name": "ProgressStyleModel",
          "state": {
            "_view_name": "StyleView",
            "_model_name": "ProgressStyleModel",
            "description_width": "initial",
            "_view_module": "@jupyter-widgets/base",
            "_model_module_version": "1.5.0",
            "_view_count": null,
            "_view_module_version": "1.2.0",
            "bar_color": null,
            "_model_module": "@jupyter-widgets/controls"
          }
        },
        "99128608cdfe49feb94f4ac4ee007128": {
          "model_module": "@jupyter-widgets/base",
          "model_name": "LayoutModel",
          "state": {
            "_view_name": "LayoutView",
            "grid_template_rows": null,
            "right": null,
            "justify_content": null,
            "_view_module": "@jupyter-widgets/base",
            "overflow": null,
            "_model_module_version": "1.2.0",
            "_view_count": null,
            "flex_flow": null,
            "width": null,
            "min_width": null,
            "border": null,
            "align_items": null,
            "bottom": null,
            "_model_module": "@jupyter-widgets/base",
            "top": null,
            "grid_column": null,
            "overflow_y": null,
            "overflow_x": null,
            "grid_auto_flow": null,
            "grid_area": null,
            "grid_template_columns": null,
            "flex": null,
            "_model_name": "LayoutModel",
            "justify_items": null,
            "grid_row": null,
            "max_height": null,
            "align_content": null,
            "visibility": null,
            "align_self": null,
            "height": null,
            "min_height": null,
            "padding": null,
            "grid_auto_rows": null,
            "grid_gap": null,
            "max_width": null,
            "order": null,
            "_view_module_version": "1.2.0",
            "grid_template_areas": null,
            "object_position": null,
            "object_fit": null,
            "grid_auto_columns": null,
            "margin": null,
            "display": null,
            "left": null
          }
        },
        "9be67b099a4e40c2a7e5e2197caffd75": {
          "model_module": "@jupyter-widgets/controls",
          "model_name": "DescriptionStyleModel",
          "state": {
            "_view_name": "StyleView",
            "_model_name": "DescriptionStyleModel",
            "description_width": "",
            "_view_module": "@jupyter-widgets/base",
            "_model_module_version": "1.5.0",
            "_view_count": null,
            "_view_module_version": "1.2.0",
            "_model_module": "@jupyter-widgets/controls"
          }
        },
        "554c60900f3d4f23b1099f2cdbc6da80": {
          "model_module": "@jupyter-widgets/base",
          "model_name": "LayoutModel",
          "state": {
            "_view_name": "LayoutView",
            "grid_template_rows": null,
            "right": null,
            "justify_content": null,
            "_view_module": "@jupyter-widgets/base",
            "overflow": null,
            "_model_module_version": "1.2.0",
            "_view_count": null,
            "flex_flow": null,
            "width": null,
            "min_width": null,
            "border": null,
            "align_items": null,
            "bottom": null,
            "_model_module": "@jupyter-widgets/base",
            "top": null,
            "grid_column": null,
            "overflow_y": null,
            "overflow_x": null,
            "grid_auto_flow": null,
            "grid_area": null,
            "grid_template_columns": null,
            "flex": null,
            "_model_name": "LayoutModel",
            "justify_items": null,
            "grid_row": null,
            "max_height": null,
            "align_content": null,
            "visibility": null,
            "align_self": null,
            "height": null,
            "min_height": null,
            "padding": null,
            "grid_auto_rows": null,
            "grid_gap": null,
            "max_width": null,
            "order": null,
            "_view_module_version": "1.2.0",
            "grid_template_areas": null,
            "object_position": null,
            "object_fit": null,
            "grid_auto_columns": null,
            "margin": null,
            "display": null,
            "left": null
          }
        },
        "74d404f1e7454438a194698cbaae322e": {
          "model_module": "@jupyter-widgets/controls",
          "model_name": "HBoxModel",
          "state": {
            "_view_name": "HBoxView",
            "_dom_classes": [],
            "_model_name": "HBoxModel",
            "_view_module": "@jupyter-widgets/controls",
            "_model_module_version": "1.5.0",
            "_view_count": null,
            "_view_module_version": "1.5.0",
            "box_style": "",
            "layout": "IPY_MODEL_6e642de55f5c43edb69f5ddcad9ca5b9",
            "_model_module": "@jupyter-widgets/controls",
            "children": [
              "IPY_MODEL_01199352a29046508ef5d4a4c443a69a",
              "IPY_MODEL_4cd55a19581f4101a48a98a4be24023f"
            ]
          }
        },
        "6e642de55f5c43edb69f5ddcad9ca5b9": {
          "model_module": "@jupyter-widgets/base",
          "model_name": "LayoutModel",
          "state": {
            "_view_name": "LayoutView",
            "grid_template_rows": null,
            "right": null,
            "justify_content": null,
            "_view_module": "@jupyter-widgets/base",
            "overflow": null,
            "_model_module_version": "1.2.0",
            "_view_count": null,
            "flex_flow": null,
            "width": null,
            "min_width": null,
            "border": null,
            "align_items": null,
            "bottom": null,
            "_model_module": "@jupyter-widgets/base",
            "top": null,
            "grid_column": null,
            "overflow_y": null,
            "overflow_x": null,
            "grid_auto_flow": null,
            "grid_area": null,
            "grid_template_columns": null,
            "flex": null,
            "_model_name": "LayoutModel",
            "justify_items": null,
            "grid_row": null,
            "max_height": null,
            "align_content": null,
            "visibility": null,
            "align_self": null,
            "height": null,
            "min_height": null,
            "padding": null,
            "grid_auto_rows": null,
            "grid_gap": null,
            "max_width": null,
            "order": null,
            "_view_module_version": "1.2.0",
            "grid_template_areas": null,
            "object_position": null,
            "object_fit": null,
            "grid_auto_columns": null,
            "margin": null,
            "display": null,
            "left": null
          }
        },
        "01199352a29046508ef5d4a4c443a69a": {
          "model_module": "@jupyter-widgets/controls",
          "model_name": "FloatProgressModel",
          "state": {
            "_view_name": "ProgressView",
            "style": "IPY_MODEL_689e155caef04d89ae84c7098098880f",
            "_dom_classes": [],
            "description": "  0%",
            "_model_name": "FloatProgressModel",
            "bar_style": "info",
            "max": 1,
            "_view_module": "@jupyter-widgets/controls",
            "_model_module_version": "1.5.0",
            "value": 0,
            "_view_count": null,
            "_view_module_version": "1.5.0",
            "orientation": "horizontal",
            "min": 0,
            "description_tooltip": null,
            "_model_module": "@jupyter-widgets/controls",
            "layout": "IPY_MODEL_331786fb778b437189bea4350d65b720"
          }
        },
        "4cd55a19581f4101a48a98a4be24023f": {
          "model_module": "@jupyter-widgets/controls",
          "model_name": "HTMLModel",
          "state": {
            "_view_name": "HTMLView",
            "style": "IPY_MODEL_1f5fa9eda2a34dcfbb4de654ee66b89c",
            "_dom_classes": [],
            "description": "",
            "_model_name": "HTMLModel",
            "placeholder": "​",
            "_view_module": "@jupyter-widgets/controls",
            "_model_module_version": "1.5.0",
            "value": " 0/29515 [00:00&lt;?, ?it/s]",
            "_view_count": null,
            "_view_module_version": "1.5.0",
            "description_tooltip": null,
            "_model_module": "@jupyter-widgets/controls",
            "layout": "IPY_MODEL_84ab9b5368ae4f3186c66eb9508b28c2"
          }
        },
        "689e155caef04d89ae84c7098098880f": {
          "model_module": "@jupyter-widgets/controls",
          "model_name": "ProgressStyleModel",
          "state": {
            "_view_name": "StyleView",
            "_model_name": "ProgressStyleModel",
            "description_width": "initial",
            "_view_module": "@jupyter-widgets/base",
            "_model_module_version": "1.5.0",
            "_view_count": null,
            "_view_module_version": "1.2.0",
            "bar_color": null,
            "_model_module": "@jupyter-widgets/controls"
          }
        },
        "331786fb778b437189bea4350d65b720": {
          "model_module": "@jupyter-widgets/base",
          "model_name": "LayoutModel",
          "state": {
            "_view_name": "LayoutView",
            "grid_template_rows": null,
            "right": null,
            "justify_content": null,
            "_view_module": "@jupyter-widgets/base",
            "overflow": null,
            "_model_module_version": "1.2.0",
            "_view_count": null,
            "flex_flow": null,
            "width": null,
            "min_width": null,
            "border": null,
            "align_items": null,
            "bottom": null,
            "_model_module": "@jupyter-widgets/base",
            "top": null,
            "grid_column": null,
            "overflow_y": null,
            "overflow_x": null,
            "grid_auto_flow": null,
            "grid_area": null,
            "grid_template_columns": null,
            "flex": null,
            "_model_name": "LayoutModel",
            "justify_items": null,
            "grid_row": null,
            "max_height": null,
            "align_content": null,
            "visibility": null,
            "align_self": null,
            "height": null,
            "min_height": null,
            "padding": null,
            "grid_auto_rows": null,
            "grid_gap": null,
            "max_width": null,
            "order": null,
            "_view_module_version": "1.2.0",
            "grid_template_areas": null,
            "object_position": null,
            "object_fit": null,
            "grid_auto_columns": null,
            "margin": null,
            "display": null,
            "left": null
          }
        },
        "1f5fa9eda2a34dcfbb4de654ee66b89c": {
          "model_module": "@jupyter-widgets/controls",
          "model_name": "DescriptionStyleModel",
          "state": {
            "_view_name": "StyleView",
            "_model_name": "DescriptionStyleModel",
            "description_width": "",
            "_view_module": "@jupyter-widgets/base",
            "_model_module_version": "1.5.0",
            "_view_count": null,
            "_view_module_version": "1.2.0",
            "_model_module": "@jupyter-widgets/controls"
          }
        },
        "84ab9b5368ae4f3186c66eb9508b28c2": {
          "model_module": "@jupyter-widgets/base",
          "model_name": "LayoutModel",
          "state": {
            "_view_name": "LayoutView",
            "grid_template_rows": null,
            "right": null,
            "justify_content": null,
            "_view_module": "@jupyter-widgets/base",
            "overflow": null,
            "_model_module_version": "1.2.0",
            "_view_count": null,
            "flex_flow": null,
            "width": null,
            "min_width": null,
            "border": null,
            "align_items": null,
            "bottom": null,
            "_model_module": "@jupyter-widgets/base",
            "top": null,
            "grid_column": null,
            "overflow_y": null,
            "overflow_x": null,
            "grid_auto_flow": null,
            "grid_area": null,
            "grid_template_columns": null,
            "flex": null,
            "_model_name": "LayoutModel",
            "justify_items": null,
            "grid_row": null,
            "max_height": null,
            "align_content": null,
            "visibility": null,
            "align_self": null,
            "height": null,
            "min_height": null,
            "padding": null,
            "grid_auto_rows": null,
            "grid_gap": null,
            "max_width": null,
            "order": null,
            "_view_module_version": "1.2.0",
            "grid_template_areas": null,
            "object_position": null,
            "object_fit": null,
            "grid_auto_columns": null,
            "margin": null,
            "display": null,
            "left": null
          }
        },
        "e3d255d608df4129b2fab5180c220279": {
          "model_module": "@jupyter-widgets/controls",
          "model_name": "HBoxModel",
          "state": {
            "_view_name": "HBoxView",
            "_dom_classes": [],
            "_model_name": "HBoxModel",
            "_view_module": "@jupyter-widgets/controls",
            "_model_module_version": "1.5.0",
            "_view_count": null,
            "_view_module_version": "1.5.0",
            "box_style": "",
            "layout": "IPY_MODEL_6aef286237c44f22b2f655f81b32b648",
            "_model_module": "@jupyter-widgets/controls",
            "children": [
              "IPY_MODEL_254001c8701248aca84dd6d114b4a6f1",
              "IPY_MODEL_36d9fd155e4d452abe6de90f1a7774d2"
            ]
          }
        },
        "6aef286237c44f22b2f655f81b32b648": {
          "model_module": "@jupyter-widgets/base",
          "model_name": "LayoutModel",
          "state": {
            "_view_name": "LayoutView",
            "grid_template_rows": null,
            "right": null,
            "justify_content": null,
            "_view_module": "@jupyter-widgets/base",
            "overflow": null,
            "_model_module_version": "1.2.0",
            "_view_count": null,
            "flex_flow": null,
            "width": null,
            "min_width": null,
            "border": null,
            "align_items": null,
            "bottom": null,
            "_model_module": "@jupyter-widgets/base",
            "top": null,
            "grid_column": null,
            "overflow_y": null,
            "overflow_x": null,
            "grid_auto_flow": null,
            "grid_area": null,
            "grid_template_columns": null,
            "flex": null,
            "_model_name": "LayoutModel",
            "justify_items": null,
            "grid_row": null,
            "max_height": null,
            "align_content": null,
            "visibility": null,
            "align_self": null,
            "height": null,
            "min_height": null,
            "padding": null,
            "grid_auto_rows": null,
            "grid_gap": null,
            "max_width": null,
            "order": null,
            "_view_module_version": "1.2.0",
            "grid_template_areas": null,
            "object_position": null,
            "object_fit": null,
            "grid_auto_columns": null,
            "margin": null,
            "display": null,
            "left": null
          }
        },
        "254001c8701248aca84dd6d114b4a6f1": {
          "model_module": "@jupyter-widgets/controls",
          "model_name": "FloatProgressModel",
          "state": {
            "_view_name": "ProgressView",
            "style": "IPY_MODEL_b3550926b90447cbbc8ef678ab32d088",
            "_dom_classes": [],
            "description": "",
            "_model_name": "FloatProgressModel",
            "bar_style": "info",
            "max": 1,
            "_view_module": "@jupyter-widgets/controls",
            "_model_module_version": "1.5.0",
            "value": 1,
            "_view_count": null,
            "_view_module_version": "1.5.0",
            "orientation": "horizontal",
            "min": 0,
            "description_tooltip": null,
            "_model_module": "@jupyter-widgets/controls",
            "layout": "IPY_MODEL_d89eb4ed174d4c989a24605f6ca66179"
          }
        },
        "36d9fd155e4d452abe6de90f1a7774d2": {
          "model_module": "@jupyter-widgets/controls",
          "model_name": "HTMLModel",
          "state": {
            "_view_name": "HTMLView",
            "style": "IPY_MODEL_f9eae64d61414a1599ff0ce29c53b28e",
            "_dom_classes": [],
            "description": "",
            "_model_name": "HTMLModel",
            "placeholder": "​",
            "_view_module": "@jupyter-widgets/controls",
            "_model_module_version": "1.5.0",
            "value": " 4423680/? [00:17&lt;00:00, 1483525.56it/s]",
            "_view_count": null,
            "_view_module_version": "1.5.0",
            "description_tooltip": null,
            "_model_module": "@jupyter-widgets/controls",
            "layout": "IPY_MODEL_c60984f7c25d4a33a9857a9ffa23e199"
          }
        },
        "b3550926b90447cbbc8ef678ab32d088": {
          "model_module": "@jupyter-widgets/controls",
          "model_name": "ProgressStyleModel",
          "state": {
            "_view_name": "StyleView",
            "_model_name": "ProgressStyleModel",
            "description_width": "initial",
            "_view_module": "@jupyter-widgets/base",
            "_model_module_version": "1.5.0",
            "_view_count": null,
            "_view_module_version": "1.2.0",
            "bar_color": null,
            "_model_module": "@jupyter-widgets/controls"
          }
        },
        "d89eb4ed174d4c989a24605f6ca66179": {
          "model_module": "@jupyter-widgets/base",
          "model_name": "LayoutModel",
          "state": {
            "_view_name": "LayoutView",
            "grid_template_rows": null,
            "right": null,
            "justify_content": null,
            "_view_module": "@jupyter-widgets/base",
            "overflow": null,
            "_model_module_version": "1.2.0",
            "_view_count": null,
            "flex_flow": null,
            "width": null,
            "min_width": null,
            "border": null,
            "align_items": null,
            "bottom": null,
            "_model_module": "@jupyter-widgets/base",
            "top": null,
            "grid_column": null,
            "overflow_y": null,
            "overflow_x": null,
            "grid_auto_flow": null,
            "grid_area": null,
            "grid_template_columns": null,
            "flex": null,
            "_model_name": "LayoutModel",
            "justify_items": null,
            "grid_row": null,
            "max_height": null,
            "align_content": null,
            "visibility": null,
            "align_self": null,
            "height": null,
            "min_height": null,
            "padding": null,
            "grid_auto_rows": null,
            "grid_gap": null,
            "max_width": null,
            "order": null,
            "_view_module_version": "1.2.0",
            "grid_template_areas": null,
            "object_position": null,
            "object_fit": null,
            "grid_auto_columns": null,
            "margin": null,
            "display": null,
            "left": null
          }
        },
        "f9eae64d61414a1599ff0ce29c53b28e": {
          "model_module": "@jupyter-widgets/controls",
          "model_name": "DescriptionStyleModel",
          "state": {
            "_view_name": "StyleView",
            "_model_name": "DescriptionStyleModel",
            "description_width": "",
            "_view_module": "@jupyter-widgets/base",
            "_model_module_version": "1.5.0",
            "_view_count": null,
            "_view_module_version": "1.2.0",
            "_model_module": "@jupyter-widgets/controls"
          }
        },
        "c60984f7c25d4a33a9857a9ffa23e199": {
          "model_module": "@jupyter-widgets/base",
          "model_name": "LayoutModel",
          "state": {
            "_view_name": "LayoutView",
            "grid_template_rows": null,
            "right": null,
            "justify_content": null,
            "_view_module": "@jupyter-widgets/base",
            "overflow": null,
            "_model_module_version": "1.2.0",
            "_view_count": null,
            "flex_flow": null,
            "width": null,
            "min_width": null,
            "border": null,
            "align_items": null,
            "bottom": null,
            "_model_module": "@jupyter-widgets/base",
            "top": null,
            "grid_column": null,
            "overflow_y": null,
            "overflow_x": null,
            "grid_auto_flow": null,
            "grid_area": null,
            "grid_template_columns": null,
            "flex": null,
            "_model_name": "LayoutModel",
            "justify_items": null,
            "grid_row": null,
            "max_height": null,
            "align_content": null,
            "visibility": null,
            "align_self": null,
            "height": null,
            "min_height": null,
            "padding": null,
            "grid_auto_rows": null,
            "grid_gap": null,
            "max_width": null,
            "order": null,
            "_view_module_version": "1.2.0",
            "grid_template_areas": null,
            "object_position": null,
            "object_fit": null,
            "grid_auto_columns": null,
            "margin": null,
            "display": null,
            "left": null
          }
        },
        "1758b3fc0e2e40d3bd5df9e50d2d190c": {
          "model_module": "@jupyter-widgets/controls",
          "model_name": "HBoxModel",
          "state": {
            "_view_name": "HBoxView",
            "_dom_classes": [],
            "_model_name": "HBoxModel",
            "_view_module": "@jupyter-widgets/controls",
            "_model_module_version": "1.5.0",
            "_view_count": null,
            "_view_module_version": "1.5.0",
            "box_style": "",
            "layout": "IPY_MODEL_e3f3f9d88555468ba723f7422f4df2ea",
            "_model_module": "@jupyter-widgets/controls",
            "children": [
              "IPY_MODEL_74c5fc12c238472c9e517f2196070258",
              "IPY_MODEL_6b6e976a19834f64b74cdc9ad9e32b9c"
            ]
          }
        },
        "e3f3f9d88555468ba723f7422f4df2ea": {
          "model_module": "@jupyter-widgets/base",
          "model_name": "LayoutModel",
          "state": {
            "_view_name": "LayoutView",
            "grid_template_rows": null,
            "right": null,
            "justify_content": null,
            "_view_module": "@jupyter-widgets/base",
            "overflow": null,
            "_model_module_version": "1.2.0",
            "_view_count": null,
            "flex_flow": null,
            "width": null,
            "min_width": null,
            "border": null,
            "align_items": null,
            "bottom": null,
            "_model_module": "@jupyter-widgets/base",
            "top": null,
            "grid_column": null,
            "overflow_y": null,
            "overflow_x": null,
            "grid_auto_flow": null,
            "grid_area": null,
            "grid_template_columns": null,
            "flex": null,
            "_model_name": "LayoutModel",
            "justify_items": null,
            "grid_row": null,
            "max_height": null,
            "align_content": null,
            "visibility": null,
            "align_self": null,
            "height": null,
            "min_height": null,
            "padding": null,
            "grid_auto_rows": null,
            "grid_gap": null,
            "max_width": null,
            "order": null,
            "_view_module_version": "1.2.0",
            "grid_template_areas": null,
            "object_position": null,
            "object_fit": null,
            "grid_auto_columns": null,
            "margin": null,
            "display": null,
            "left": null
          }
        },
        "74c5fc12c238472c9e517f2196070258": {
          "model_module": "@jupyter-widgets/controls",
          "model_name": "FloatProgressModel",
          "state": {
            "_view_name": "ProgressView",
            "style": "IPY_MODEL_38904fdfda6741b997c6030718371534",
            "_dom_classes": [],
            "description": "  0%",
            "_model_name": "FloatProgressModel",
            "bar_style": "info",
            "max": 1,
            "_view_module": "@jupyter-widgets/controls",
            "_model_module_version": "1.5.0",
            "value": 0,
            "_view_count": null,
            "_view_module_version": "1.5.0",
            "orientation": "horizontal",
            "min": 0,
            "description_tooltip": null,
            "_model_module": "@jupyter-widgets/controls",
            "layout": "IPY_MODEL_a812d20f0e7044ceb5c426d0506785a1"
          }
        },
        "6b6e976a19834f64b74cdc9ad9e32b9c": {
          "model_module": "@jupyter-widgets/controls",
          "model_name": "HTMLModel",
          "state": {
            "_view_name": "HTMLView",
            "style": "IPY_MODEL_47c6a630d86e4fbda32f79a4a7660275",
            "_dom_classes": [],
            "description": "",
            "_model_name": "HTMLModel",
            "placeholder": "​",
            "_view_module": "@jupyter-widgets/controls",
            "_model_module_version": "1.5.0",
            "value": " 0/5148 [00:00&lt;?, ?it/s]",
            "_view_count": null,
            "_view_module_version": "1.5.0",
            "description_tooltip": null,
            "_model_module": "@jupyter-widgets/controls",
            "layout": "IPY_MODEL_0f78fa2f0d064fc3b4572c9c1994551b"
          }
        },
        "38904fdfda6741b997c6030718371534": {
          "model_module": "@jupyter-widgets/controls",
          "model_name": "ProgressStyleModel",
          "state": {
            "_view_name": "StyleView",
            "_model_name": "ProgressStyleModel",
            "description_width": "initial",
            "_view_module": "@jupyter-widgets/base",
            "_model_module_version": "1.5.0",
            "_view_count": null,
            "_view_module_version": "1.2.0",
            "bar_color": null,
            "_model_module": "@jupyter-widgets/controls"
          }
        },
        "a812d20f0e7044ceb5c426d0506785a1": {
          "model_module": "@jupyter-widgets/base",
          "model_name": "LayoutModel",
          "state": {
            "_view_name": "LayoutView",
            "grid_template_rows": null,
            "right": null,
            "justify_content": null,
            "_view_module": "@jupyter-widgets/base",
            "overflow": null,
            "_model_module_version": "1.2.0",
            "_view_count": null,
            "flex_flow": null,
            "width": null,
            "min_width": null,
            "border": null,
            "align_items": null,
            "bottom": null,
            "_model_module": "@jupyter-widgets/base",
            "top": null,
            "grid_column": null,
            "overflow_y": null,
            "overflow_x": null,
            "grid_auto_flow": null,
            "grid_area": null,
            "grid_template_columns": null,
            "flex": null,
            "_model_name": "LayoutModel",
            "justify_items": null,
            "grid_row": null,
            "max_height": null,
            "align_content": null,
            "visibility": null,
            "align_self": null,
            "height": null,
            "min_height": null,
            "padding": null,
            "grid_auto_rows": null,
            "grid_gap": null,
            "max_width": null,
            "order": null,
            "_view_module_version": "1.2.0",
            "grid_template_areas": null,
            "object_position": null,
            "object_fit": null,
            "grid_auto_columns": null,
            "margin": null,
            "display": null,
            "left": null
          }
        },
        "47c6a630d86e4fbda32f79a4a7660275": {
          "model_module": "@jupyter-widgets/controls",
          "model_name": "DescriptionStyleModel",
          "state": {
            "_view_name": "StyleView",
            "_model_name": "DescriptionStyleModel",
            "description_width": "",
            "_view_module": "@jupyter-widgets/base",
            "_model_module_version": "1.5.0",
            "_view_count": null,
            "_view_module_version": "1.2.0",
            "_model_module": "@jupyter-widgets/controls"
          }
        },
        "0f78fa2f0d064fc3b4572c9c1994551b": {
          "model_module": "@jupyter-widgets/base",
          "model_name": "LayoutModel",
          "state": {
            "_view_name": "LayoutView",
            "grid_template_rows": null,
            "right": null,
            "justify_content": null,
            "_view_module": "@jupyter-widgets/base",
            "overflow": null,
            "_model_module_version": "1.2.0",
            "_view_count": null,
            "flex_flow": null,
            "width": null,
            "min_width": null,
            "border": null,
            "align_items": null,
            "bottom": null,
            "_model_module": "@jupyter-widgets/base",
            "top": null,
            "grid_column": null,
            "overflow_y": null,
            "overflow_x": null,
            "grid_auto_flow": null,
            "grid_area": null,
            "grid_template_columns": null,
            "flex": null,
            "_model_name": "LayoutModel",
            "justify_items": null,
            "grid_row": null,
            "max_height": null,
            "align_content": null,
            "visibility": null,
            "align_self": null,
            "height": null,
            "min_height": null,
            "padding": null,
            "grid_auto_rows": null,
            "grid_gap": null,
            "max_width": null,
            "order": null,
            "_view_module_version": "1.2.0",
            "grid_template_areas": null,
            "object_position": null,
            "object_fit": null,
            "grid_auto_columns": null,
            "margin": null,
            "display": null,
            "left": null
          }
        }
      }
    }
  },
  "cells": [
    {
      "cell_type": "markdown",
      "metadata": {
        "id": "lFQ04RB8w4ba",
        "colab_type": "text"
      },
      "source": [
        "# **İmage Recognition using Pytorch with Fashion MNIST DataSet** \n",
        "\n",
        "The Fashion MNIST Datasets contain a set of  28x28 grayscale images of clotes. Our goal is building a neural network using Pytorch and then training the network to predict clothes.\n",
        "*italicized text*"
      ]
    },
    {
      "cell_type": "code",
      "metadata": {
        "id": "LetDAkbex3Qu",
        "colab_type": "code",
        "colab": {}
      },
      "source": [
        "#importing required libraries..\n",
        "import torch\n",
        "import numpy as np\n",
        "import torch.nn as nn\n",
        "import torch.optim as optim \n",
        "import torch.nn.functional as F\n",
        "from torchvision import datasets, transforms\n",
        "from torch.utils.data.sampler import  SubsetRandomSampler  #for validation test"
      ],
      "execution_count": 1,
      "outputs": []
    },
    {
      "cell_type": "markdown",
      "metadata": {
        "id": "eOOlHtgHygGc",
        "colab_type": "text"
      },
      "source": [
        "# **Load and Visualize the Data**"
      ]
    },
    {
      "cell_type": "code",
      "metadata": {
        "id": "--9rCNYRynEu",
        "colab_type": "code",
        "colab": {
          "base_uri": "https://localhost:8080/",
          "height": 366,
          "referenced_widgets": [
            "4a0ae00d6a944a549a86018bb6e7388f",
            "1c2bd8a05ecd48b68b5ca70b7ef4f0d8",
            "53660b41206a4bda9c62fbe9a05e02f0",
            "8dced7093a0a4f8d951f1f8bb8d6a39c",
            "43277f03822e4b8a97076b65ad12f5f2",
            "99128608cdfe49feb94f4ac4ee007128",
            "9be67b099a4e40c2a7e5e2197caffd75",
            "554c60900f3d4f23b1099f2cdbc6da80",
            "74d404f1e7454438a194698cbaae322e",
            "6e642de55f5c43edb69f5ddcad9ca5b9",
            "01199352a29046508ef5d4a4c443a69a",
            "4cd55a19581f4101a48a98a4be24023f",
            "689e155caef04d89ae84c7098098880f",
            "331786fb778b437189bea4350d65b720",
            "1f5fa9eda2a34dcfbb4de654ee66b89c",
            "84ab9b5368ae4f3186c66eb9508b28c2",
            "e3d255d608df4129b2fab5180c220279",
            "6aef286237c44f22b2f655f81b32b648",
            "254001c8701248aca84dd6d114b4a6f1",
            "36d9fd155e4d452abe6de90f1a7774d2",
            "b3550926b90447cbbc8ef678ab32d088",
            "d89eb4ed174d4c989a24605f6ca66179",
            "f9eae64d61414a1599ff0ce29c53b28e",
            "c60984f7c25d4a33a9857a9ffa23e199",
            "1758b3fc0e2e40d3bd5df9e50d2d190c",
            "e3f3f9d88555468ba723f7422f4df2ea",
            "74c5fc12c238472c9e517f2196070258",
            "6b6e976a19834f64b74cdc9ad9e32b9c",
            "38904fdfda6741b997c6030718371534",
            "a812d20f0e7044ceb5c426d0506785a1",
            "47c6a630d86e4fbda32f79a4a7660275",
            "0f78fa2f0d064fc3b4572c9c1994551b"
          ]
        },
        "outputId": "b09a4db1-78eb-4094-813d-50ff4983b33b"
      },
      "source": [
        "\n",
        "#Define a transform to convert to images to tensor and normalize\n",
        "transform = transforms.Compose([transforms.ToTensor(),\n",
        "                               transforms.Normalize((0.5,),(0.5,),)]) #mean and std have to be sequences (e.g., tuples), \n",
        "                                                                      # therefore we should add a comma after the values\n",
        "                          \n",
        "#Load the data: train and test sets\n",
        "trainset = datasets.FashionMNIST('~/.pytorch/F_MNIST_data', download=True, train=True, transform=transform)\n",
        "testset = datasets.FashionMNIST('~/.pytorch/F_MNIST_data', download=True, train=False, transform=transform)\n",
        "\n",
        "#Preparing for validaion test\n",
        "indices = list(range(len(trainset)))\n",
        "np.random.shuffle(indices)\n",
        "#to get 20% of the train set\n",
        "split = int(np.floor(0.2 * len(trainset)))\n",
        "train_sample = SubsetRandomSampler(indices[:split])\n",
        "valid_sample = SubsetRandomSampler(indices[split:])\n",
        "\n",
        "#Data Loader\n",
        "trainloader = torch.utils.data.DataLoader(trainset, sampler=train_sample, batch_size=64)\n",
        "validloader = torch.utils.data.DataLoader(trainset, sampler=valid_sample, batch_size=64)\n",
        "testloader = torch.utils.data.DataLoader(testset, batch_size=64, shuffle=True)\n",
        "\n"
      ],
      "execution_count": 2,
      "outputs": [
        {
          "output_type": "stream",
          "text": [
            "Downloading http://fashion-mnist.s3-website.eu-central-1.amazonaws.com/train-images-idx3-ubyte.gz to /root/.pytorch/F_MNIST_data/FashionMNIST/raw/train-images-idx3-ubyte.gz\n"
          ],
          "name": "stdout"
        },
        {
          "output_type": "display_data",
          "data": {
            "application/vnd.jupyter.widget-view+json": {
              "model_id": "4a0ae00d6a944a549a86018bb6e7388f",
              "version_minor": 0,
              "version_major": 2
            },
            "text/plain": [
              "HBox(children=(FloatProgress(value=1.0, bar_style='info', max=1.0), HTML(value='')))"
            ]
          },
          "metadata": {
            "tags": []
          }
        },
        {
          "output_type": "stream",
          "text": [
            "Extracting /root/.pytorch/F_MNIST_data/FashionMNIST/raw/train-images-idx3-ubyte.gz to /root/.pytorch/F_MNIST_data/FashionMNIST/raw\n",
            "Downloading http://fashion-mnist.s3-website.eu-central-1.amazonaws.com/train-labels-idx1-ubyte.gz to /root/.pytorch/F_MNIST_data/FashionMNIST/raw/train-labels-idx1-ubyte.gz\n"
          ],
          "name": "stdout"
        },
        {
          "output_type": "display_data",
          "data": {
            "application/vnd.jupyter.widget-view+json": {
              "model_id": "74d404f1e7454438a194698cbaae322e",
              "version_minor": 0,
              "version_major": 2
            },
            "text/plain": [
              "HBox(children=(FloatProgress(value=1.0, bar_style='info', max=1.0), HTML(value='')))"
            ]
          },
          "metadata": {
            "tags": []
          }
        },
        {
          "output_type": "stream",
          "text": [
            "Extracting /root/.pytorch/F_MNIST_data/FashionMNIST/raw/train-labels-idx1-ubyte.gz to /root/.pytorch/F_MNIST_data/FashionMNIST/raw\n",
            "Downloading http://fashion-mnist.s3-website.eu-central-1.amazonaws.com/t10k-images-idx3-ubyte.gz to /root/.pytorch/F_MNIST_data/FashionMNIST/raw/t10k-images-idx3-ubyte.gz\n"
          ],
          "name": "stdout"
        },
        {
          "output_type": "display_data",
          "data": {
            "application/vnd.jupyter.widget-view+json": {
              "model_id": "e3d255d608df4129b2fab5180c220279",
              "version_minor": 0,
              "version_major": 2
            },
            "text/plain": [
              "HBox(children=(FloatProgress(value=1.0, bar_style='info', max=1.0), HTML(value='')))"
            ]
          },
          "metadata": {
            "tags": []
          }
        },
        {
          "output_type": "stream",
          "text": [
            "Extracting /root/.pytorch/F_MNIST_data/FashionMNIST/raw/t10k-images-idx3-ubyte.gz to /root/.pytorch/F_MNIST_data/FashionMNIST/raw\n",
            "Downloading http://fashion-mnist.s3-website.eu-central-1.amazonaws.com/t10k-labels-idx1-ubyte.gz to /root/.pytorch/F_MNIST_data/FashionMNIST/raw/t10k-labels-idx1-ubyte.gz\n"
          ],
          "name": "stdout"
        },
        {
          "output_type": "display_data",
          "data": {
            "application/vnd.jupyter.widget-view+json": {
              "model_id": "1758b3fc0e2e40d3bd5df9e50d2d190c",
              "version_minor": 0,
              "version_major": 2
            },
            "text/plain": [
              "HBox(children=(FloatProgress(value=1.0, bar_style='info', max=1.0), HTML(value='')))"
            ]
          },
          "metadata": {
            "tags": []
          }
        },
        {
          "output_type": "stream",
          "text": [
            "Extracting /root/.pytorch/F_MNIST_data/FashionMNIST/raw/t10k-labels-idx1-ubyte.gz to /root/.pytorch/F_MNIST_data/FashionMNIST/raw\n",
            "Processing...\n",
            "Done!\n"
          ],
          "name": "stdout"
        },
        {
          "output_type": "stream",
          "text": [
            "/usr/local/lib/python3.6/dist-packages/torchvision/datasets/mnist.py:469: UserWarning: The given NumPy array is not writeable, and PyTorch does not support non-writeable tensors. This means you can write to the underlying (supposedly non-writeable) NumPy array using the tensor. You may want to copy the array to protect its data or make it writeable before converting it to a tensor. This type of warning will be suppressed for the rest of this program. (Triggered internally at  /pytorch/torch/csrc/utils/tensor_numpy.cpp:141.)\n",
            "  return torch.from_numpy(parsed.astype(m[2], copy=False)).view(*s)\n"
          ],
          "name": "stderr"
        }
      ]
    },
    {
      "cell_type": "code",
      "metadata": {
        "id": "XY-pukiltB5e",
        "colab_type": "code",
        "colab": {
          "base_uri": "https://localhost:8080/",
          "height": 168
        },
        "outputId": "16438306-393b-4f54-fc51-31898ac9416b"
      },
      "source": [
        "trainset"
      ],
      "execution_count": 3,
      "outputs": [
        {
          "output_type": "execute_result",
          "data": {
            "text/plain": [
              "Dataset FashionMNIST\n",
              "    Number of datapoints: 60000\n",
              "    Root location: /root/.pytorch/F_MNIST_data\n",
              "    Split: Train\n",
              "    StandardTransform\n",
              "Transform: Compose(\n",
              "               ToTensor()\n",
              "               Normalize(mean=(0.5,), std=(0.5,))\n",
              "           )"
            ]
          },
          "metadata": {
            "tags": []
          },
          "execution_count": 3
        }
      ]
    },
    {
      "cell_type": "markdown",
      "metadata": {
        "id": "nU-0ZOgF28It",
        "colab_type": "text"
      },
      "source": [
        "# **Visualize a Batch of Training Data**"
      ]
    },
    {
      "cell_type": "code",
      "metadata": {
        "id": "Ty4wpOYXtQ_t",
        "colab_type": "code",
        "colab": {
          "base_uri": "https://localhost:8080/",
          "height": 34
        },
        "outputId": "2ac59453-132d-49d4-ee37-2ce0627f47d1"
      },
      "source": [
        "trainloader"
      ],
      "execution_count": 4,
      "outputs": [
        {
          "output_type": "execute_result",
          "data": {
            "text/plain": [
              "<torch.utils.data.dataloader.DataLoader at 0x7fbd6189fd30>"
            ]
          },
          "metadata": {
            "tags": []
          },
          "execution_count": 4
        }
      ]
    },
    {
      "cell_type": "code",
      "metadata": {
        "id": "qn_Wlugz3BBZ",
        "colab_type": "code",
        "colab": {
          "base_uri": "https://localhost:8080/",
          "height": 386
        },
        "outputId": "50b38072-92b8-42b9-ca00-74e95bea3f7b"
      },
      "source": [
        "import matplotlib.pyplot as plt\n",
        "%matplotlib inline\n",
        "\n",
        "dataiter = iter(trainloader)\n",
        "print(dataiter)\n",
        "images, labels = dataiter.next()\n",
        "\n",
        "\n",
        "fig = plt.figure(figsize=(15,5))\n",
        "for idx in np.arange(20):\n",
        "  # xticks=[], yticks=[] is empty to print the images without any ticks around them\n",
        "  #np.sqeeze : Remove single-dimensional entries from the shape of an array.\n",
        "  ax = fig.add_subplot(4, 20/4, idx+1, xticks=[], yticks=[])\n",
        "  ax.imshow(np.squeeze(images[idx]), cmap='gray')\n",
        "   # .item() gets the value contained in a Tensor\n",
        "  ax.set_title(labels[idx].item())\n",
        "  fig.tight_layout()"
      ],
      "execution_count": 5,
      "outputs": [
        {
          "output_type": "stream",
          "text": [
            "<torch.utils.data.dataloader._SingleProcessDataLoaderIter object at 0x7fbd6127bb38>\n"
          ],
          "name": "stdout"
        },
        {
          "output_type": "display_data",
          "data": {
            "image/png": "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