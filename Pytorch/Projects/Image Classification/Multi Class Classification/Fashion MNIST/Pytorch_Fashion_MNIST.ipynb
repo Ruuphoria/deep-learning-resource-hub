{
  "nbformat": 4,
  "nbformat_minor": 0,
  "metadata": {
    "colab": {
      "name": "Pytorch_Fashion_MNIST.ipynb",
      "provenance": []
    },
    "kernelspec": {
      "name": "python3",
      "display_name": "Python 3"
    },
    "widgets": {
      "application/vnd.jupyter.widget-state+json": {
        "4a0ae00d6a944a549a86018bb6e7388f": {
          "model_module": "@jupyter-widgets/controls",
          "model_name": "HBoxModel",
          "state": {
            "_view_name": "HBoxView",
            "_dom_classes": [],
            "_model_name": "HBoxModel",
            "_view_module": "@jupyter-widgets/controls",
            "_model_module_version": "1.5.0",
            "_view_count": null,
            "_view_module_version": "1.5.0",
            "box_style": "",
            "layout": "IPY_MODEL_1c2bd8a05ecd48b68b5ca70b7ef4f0d8",
            "_model_module": "@jupyter-widgets/controls",
            "children": [
              "IPY_MODEL_53660b41206a4bda9c62fbe9a05e02f0",
              "IPY_MODEL_8dced7093a0a4f8d951f1f8bb8d6a39c"
            ]
          }
        },
        "1c2bd8a05ecd48b68b5ca70b7ef4f0d8": {
          "model_module": "@jupyter-widgets/base",
          "model_name": "LayoutModel",
          "state": {
            "_view_name": "LayoutView",
            "grid_template_rows": null,
            "right": null,
            "justify_content": null,
            "_view_module": "@jupyter-widgets/base",
            "overflow": null,
            "_model_module_version": "1.2.0",
            "_view_count": null,
            "flex_flow": null,
            "width": null,
            "min_width": null,
            "border": null,
            "align_items": null,
            "bottom": null,
            "_model_module": "@jupyter-widgets/base",
            "top": null,
            "grid_column": null,
            "overflow_y": null,
            "overflow_x": null,
            "grid_auto_flow": null,
            "grid_area": null,
            "grid_template_columns": null,
            "flex": null,
            "_model_name": "LayoutModel",
            "justify_items": null,
            "grid_row": null,
            "max_height": null,
            "align_content": null,
            "visibility": null,
            "align_self": null,
            "height": null,
            "min_height": null,
            "padding": null,
            "grid_auto_rows": null,
            "grid_gap": null,
            "max_width": null,
            "order": null,
            "_view_module_version": "1.2.0",
            "grid_template_areas": null,
            "object_position": null,
            "object_fit": null,
            "grid_auto_columns": null,
            "margin": null,
            "display": null,
            "left": null
          }
        },
        "53660b41206a4bda9c62fbe9a05e02f0": {
          "model_module": "@jupyter-widgets/controls",
          "model_name": "FloatProgressModel",
          "state": {
            "_view_name": "ProgressView",
            "style": "IPY_MODEL_43277f03822e4b8a97076b65ad12f5f2",
            "_dom_classes": [],
            "description": "",
            "_model_name": "FloatProgressModel",
            "bar_style": "info",
            "max": 1,
            "_view_module": "@jupyter-widgets/controls",
            "_model_module_version": "1.5.0",
            "value": 1,
            "_view_count": null,
            "_view_module_version": "1.5.0",
            "orientation": "horizontal",
            "min": 0,
            "description_tooltip": null,
            "_model_module": "@jupyter-widgets/controls",
            "layout": "IPY_MODEL_99128608cdfe49feb94f4ac4ee007128"
          }
        },
        "8dced7093a0a4f8d951f1f8bb8d6a39c": {
          "model_module": "@jupyter-widgets/controls",
          "model_name": "HTMLModel",
          "state": {
            "_view_name": "HTMLView",
            "style": "IPY_MODEL_9be67b099a4e40c2a7e5e2197caffd75",
            "_dom_classes": [],
            "description": "",
            "_model_name": "HTMLModel",
            "placeholder": "​",
            "_view_module": "@jupyter-widgets/controls",
            "_model_module_version": "1.5.0",
            "value": " 26427392/? [00:19&lt;00:00, 13850027.42it/s]",
            "_view_count": null,
            "_view_module_version": "1.5.0",
            "description_tooltip": null,
            "_model_module": "@jupyter-widgets/controls",
            "layout": "IPY_MODEL_554c60900f3d4f23b1099f2cdbc6da80"
          }
        },
        "43277f03822e4b8a97076b65ad12f5f2": {
          "model_module": "@jupyter-widgets/controls",
          "model_name": "ProgressStyleModel",
          "state": {
            "_view_name": "StyleView",
            "_model_name": "ProgressStyleModel",
            "description_width": "initial",
            "_view_module": "@jupyter-widgets/base",
            "_model_module_version": "1.5.0",
            "_view_count": null,
            "_view_module_version": "1.2.0",
            "bar_color": null,
            "_model_module": "@jupyter-widgets/controls"
          }
        },
        "99128608cdfe49feb94f4ac4ee007128": {
          "model_module": "@jupyter-widgets/base",
          "model_name": "LayoutModel",
          "state": {
            "_view_name": "LayoutView",
            "grid_template_rows": null,
            "right": null,
            "justify_content": null,
            "_view_module": "@jupyter-widgets/base",
            "overflow": null,
            "_model_module_version": "1.2.0",
            "_view_count": null,
            "flex_flow": null,
            "width": null,
            "min_width": null,
            "border": null,
            "align_items": null,
            "bottom": null,
            "_model_module": "@jupyter-widgets/base",
            "top": null,
            "grid_column": null,
            "overflow_y": null,
            "overflow_x": null,
            "grid_auto_flow": null,
            "grid_area": null,
            "grid_template_columns": null,
            "flex": null,
            "_model_name": "LayoutModel",
            "justify_items": null,
            "grid_row": null,
            "max_height": null,
            "align_content": null,
            "visibility": null,
            "align_self": null,
            "height": null,
            "min_height": null,
            "padding": null,
            "grid_auto_rows": null,
            "grid_gap": null,
            "max_width": null,
            "order": null,
            "_view_module_version": "1.2.0",
            "grid_template_areas": null,
            "object_position": null,
            "object_fit": null,
            "grid_auto_columns": null,
            "margin": null,
            "display": null,
            "left": null
          }
        },
        "9be67b099a4e40c2a7e5e2197caffd75": {
          "model_module": "@jupyter-widgets/controls",
          "model_name": "DescriptionStyleModel",
          "state": {
            "_view_name": "StyleView",
            "_model_name": "DescriptionStyleModel",
            "description_width": "",
            "_view_module": "@jupyter-widgets/base",
            "_model_module_version": "1.5.0",
            "_view_count": null,
            "_view_module_version": "1.2.0",
            "_model_module": "@jupyter-widgets/controls"
          }
        },
        "554c60900f3d4f23b1099f2cdbc6da80": {
          "model_module": "@jupyter-widgets/base",
          "model_name": "LayoutModel",
          "state": {
            "_view_name": "LayoutView",
            "grid_template_rows": null,
            "right": null,
            "justify_content": null,
            "_view_module": "@jupyter-widgets/base",
            "overflow": null,
            "_model_module_version": "1.2.0",
            "_view_count": null,
            "flex_flow": null,
            "width": null,
            "min_width": null,
            "border": null,
            "align_items": null,
            "bottom": null,
            "_model_module": "@jupyter-widgets/base",
            "top": null,
            "grid_column": null,
            "overflow_y": null,
            "overflow_x": null,
            "grid_auto_flow": null,
            "grid_area": null,
            "grid_template_columns": null,
            "flex": null,
            "_model_name": "LayoutModel",
            "justify_items": null,
            "grid_row": null,
            "max_height": null,
            "align_content": null,
            "visibility": null,
            "align_self": null,
            "height": null,
            "min_height": null,
            "padding": null,
            "grid_auto_rows": null,
            "grid_gap": null,
            "max_width": null,
            "order": null,
            "_view_module_version": "1.2.0",
            "grid_template_areas": null,
            "object_position": null,
            "object_fit": null,
            "grid_auto_columns": null,
            "margin": null,
            "display": null,
            "left": null
          }
        },
        "74d404f1e7454438a194698cbaae322e": {
          "model_module": "@jupyter-widgets/controls",
          "model_name": "HBoxModel",
          "state": {
            "_view_name": "HBoxView",
            "_dom_classes": [],
            "_model_name": "HBoxModel",
            "_view_module": "@jupyter-widgets/controls",
            "_model_module_version": "1.5.0",
            "_view_count": null,
            "_view_module_version": "1.5.0",
            "box_style": "",
            "layout": "IPY_MODEL_6e642de55f5c43edb69f5ddcad9ca5b9",
            "_model_module": "@jupyter-widgets/controls",
            "children": [
              "IPY_MODEL_01199352a29046508ef5d4a4c443a69a",
              "IPY_MODEL_4cd55a19581f4101a48a98a4be24023f"
            ]
          }
        },
        "6e642de55f5c43edb69f5ddcad9ca5b9": {
          "model_module": "@jupyter-widgets/base",
          "model_name": "LayoutModel",
          "state": {
            "_view_name": "LayoutView",
            "grid_template_rows": null,
            "right": null,
            "justify_content": null,
            "_view_module": "@jupyter-widgets/base",
            "overflow": null,
            "_model_module_version": "1.2.0",
            "_view_count": null,
            "flex_flow": null,
            "width": null,
            "min_width": null,
            "border": null,
            "align_items": null,
            "bottom": null,
            "_model_module": "@jupyter-widgets/base",
            "top": null,
            "grid_column": null,
            "overflow_y": null,
            "overflow_x": null,
            "grid_auto_flow": null,
            "grid_area": null,
            "grid_template_columns": null,
            "flex": null,
            "_model_name": "LayoutModel",
            "justify_items": null,
            "grid_row": null,
            "max_height": null,
            "align_content": null,
            "visibility": null,
            "align_self": null,
            "height": null,
            "min_height": null,
            "padding": null,
            "grid_auto_rows": null,
            "grid_gap": null,
            "max_width": null,
            "order": null,
            "_view_module_version": "1.2.0",
            "grid_template_areas": null,
            "object_position": null,
            "object_fit": null,
            "grid_auto_columns": null,
            "margin": null,
            "display": null,
            "left": null
          }
        },
        "01199352a29046508ef5d4a4c443a69a": {
          "model_module": "@jupyter-widgets/controls",
          "model_name": "FloatProgressModel",
          "state": {
            "_view_name": "ProgressView",
            "style": "IPY_MODEL_689e155caef04d89ae84c7098098880f",
            "_dom_classes": [],
            "description": "  0%",
            "_model_name": "FloatProgressModel",
            "bar_style": "info",
            "max": 1,
            "_view_module": "@jupyter-widgets/controls",
            "_model_module_version": "1.5.0",
            "value": 0,
            "_view_count": null,
            "_view_module_version": "1.5.0",
            "orientation": "horizontal",
            "min": 0,
            "description_tooltip": null,
            "_model_module": "@jupyter-widgets/controls",
            "layout": "IPY_MODEL_331786fb778b437189bea4350d65b720"
          }
        },
        "4cd55a19581f4101a48a98a4be24023f": {
          "model_module": "@jupyter-widgets/controls",
          "model_name": "HTMLModel",
          "state": {
            "_view_name": "HTMLView",
            "style": "IPY_MODEL_1f5fa9eda2a34dcfbb4de654ee66b89c",
            "_dom_classes": [],
            "description": "",
            "_model_name": "HTMLModel",
            "placeholder": "​",
            "_view_module": "@jupyter-widgets/controls",
            "_model_module_version": "1.5.0",
            "value": " 0/29515 [00:00&lt;?, ?it/s]",
            "_view_count": null,
            "_view_module_version": "1.5.0",
            "description_tooltip": null,
            "_model_module": "@jupyter-widgets/controls",
            "layout": "IPY_MODEL_84ab9b5368ae4f3186c66eb9508b28c2"
          }
        },
        "689e155caef04d89ae84c7098098880f": {
          "model_module": "@jupyter-widgets/controls",
          "model_name": "ProgressStyleModel",
          "state": {
            "_view_name": "StyleView",
            "_model_name": "ProgressStyleModel",
            "description_width": "initial",
            "_view_module": "@jupyter-widgets/base",
            "_model_module_version": "1.5.0",
            "_view_count": null,
            "_view_module_version": "1.2.0",
            "bar_color": null,
            "_model_module": "@jupyter-widgets/controls"
          }
        },
        "331786fb778b437189bea4350d65b720": {
          "model_module": "@jupyter-widgets/base",
          "model_name": "LayoutModel",
          "state": {
            "_view_name": "LayoutView",
            "grid_template_rows": null,
            "right": null,
            "justify_content": null,
            "_view_module": "@jupyter-widgets/base",
            "overflow": null,
            "_model_module_version": "1.2.0",
            "_view_count": null,
            "flex_flow": null,
            "width": null,
            "min_width": null,
            "border": null,
            "align_items": null,
            "bottom": null,
            "_model_module": "@jupyter-widgets/base",
            "top": null,
            "grid_column": null,
            "overflow_y": null,
            "overflow_x": null,
            "grid_auto_flow": null,
            "grid_area": null,
            "grid_template_columns": null,
            "flex": null,
            "_model_name": "LayoutModel",
            "justify_items": null,
            "grid_row": null,
            "max_height": null,
            "align_content": null,
            "visibility": null,
            "align_self": null,
            "height": null,
            "min_height": null,
            "padding": null,
            "grid_auto_rows": null,
            "grid_gap": null,
            "max_width": null,
            "order": null,
            "_view_module_version": "1.2.0",
            "grid_template_areas": null,
            "object_position": null,
            "object_fit": null,
            "grid_auto_columns": null,
            "margin": null,
            "display": null,
            "left": null
          }
        },
        "1f5fa9eda2a34dcfbb4de654ee66b89c": {
          "model_module": "@jupyter-widgets/controls",
          "model_name": "DescriptionStyleModel",
          "state": {
            "_view_name": "StyleView",
            "_model_name": "DescriptionStyleModel",
            "description_width": "",
            "_view_module": "@jupyter-widgets/base",
            "_model_module_version": "1.5.0",
            "_view_count": null,
            "_view_module_version": "1.2.0",
            "_model_module": "@jupyter-widgets/controls"
          }
        },
        "84ab9b5368ae4f3186c66eb9508b28c2": {
          "model_module": "@jupyter-widgets/base",
          "model_name": "LayoutModel",
          "state": {
            "_view_name": "LayoutView",
            "grid_template_rows": null,
            "right": null,
            "justify_content": null,
            "_view_module": "@jupyter-widgets/base",
            "overflow": null,
            "_model_module_version": "1.2.0",
            "_view_count": null,
            "flex_flow": null,
            "width": null,
            "min_width": null,
            "border": null,
            "align_items": null,
            "bottom": null,
            "_model_module": "@jupyter-widgets/base",
            "top": null,
            "grid_column": null,
            "overflow_y": null,
            "overflow_x": null,
            "grid_auto_flow": null,
            "grid_area": null,
            "grid_template_columns": null,
            "flex": null,
            "_model_name": "LayoutModel",
            "justify_items": null,
            "grid_row": null,
            "max_height": null,
            "align_content": null,
            "visibility": null,
            "align_self": null,
            "height": null,
            "min_height": null,
            "padding": null,
            "grid_auto_rows": null,
            "grid_gap": null,
            "max_width": null,
            "order": null,
            "_view_module_version": "1.2.0",
            "grid_template_areas": null,
            "object_position": null,
            "object_fit": null,
            "grid_auto_columns": null,
            "margin": null,
            "display": null,
            "left": null
          }
        },
        "e3d255d608df4129b2fab5180c220279": {
          "model_module": "@jupyter-widgets/controls",
          "model_name": "HBoxModel",
          "state": {
            "_view_name": "HBoxView",
            "_dom_classes": [],
            "_model_name": "HBoxModel",
            "_view_module": "@jupyter-widgets/controls",
            "_model_module_version": "1.5.0",
            "_view_count": null,
            "_view_module_version": "1.5.0",
            "box_style": "",
            "layout": "IPY_MODEL_6aef286237c44f22b2f655f81b32b648",
            "_model_module": "@jupyter-widgets/controls",
            "children": [
              "IPY_MODEL_254001c8701248aca84dd6d114b4a6f1",
              "IPY_MODEL_36d9fd155e4d452abe6de90f1a7774d2"
            ]
          }
        },
        "6aef286237c44f22b2f655f81b32b648": {
          "model_module": "@jupyter-widgets/base",
          "model_name": "LayoutModel",
          "state": {
            "_view_name": "LayoutView",
            "grid_template_rows": null,
            "right": null,
            "justify_content": null,
            "_view_module": "@jupyter-widgets/base",
            "overflow": null,
            "_model_module_version": "1.2.0",
            "_view_count": null,
            "flex_flow": null,
            "width": null,
            "min_width": null,
            "border": null,
            "align_items": null,
            "bottom": null,
            "_model_module": "@jupyter-widgets/base",
            "top": null,
            "grid_column": null,
            "overflow_y": null,
            "overflow_x": null,
            "grid_auto_flow": null,
            "grid_area": null,
            "grid_template_columns": null,
            "flex": null,
            "_model_name": "LayoutModel",
            "justify_items": null,
            "grid_row": null,
            "max_height": null,
            "align_content": null,
            "visibility": null,
            "align_self": null,
            "height": null,
            "min_height": null,
            "padding": null,
            "grid_auto_rows": null,
            "grid_gap": null,
            "max_width": null,
            "order": null,
            "_view_module_version": "1.2.0",
            "grid_template_areas": null,
            "object_position": null,
            "object_fit": null,
            "grid_auto_columns": null,
            "margin": null,
            "display": null,
            "left": null
          }
        },
        "254001c8701248aca84dd6d114b4a6f1": {
          "model_module": "@jupyter-widgets/controls",
          "model_name": "FloatProgressModel",
          "state": {
            "_view_name": "ProgressView",
            "style": "IPY_MODEL_b3550926b90447cbbc8ef678ab32d088",
            "_dom_classes": [],
            "description": "",
            "_model_name": "FloatProgressModel",
            "bar_style": "info",
            "max": 1,
            "_view_module": "@jupyter-widgets/controls",
            "_model_module_version": "1.5.0",
            "value": 1,
            "_view_count": null,
            "_view_module_version": "1.5.0",
            "orientation": "horizontal",
            "min": 0,
            "description_tooltip": null,
            "_model_module": "@jupyter-widgets/controls",
            "layout": "IPY_MODEL_d89eb4ed174d4c989a24605f6ca66179"
          }
        },
        "36d9fd155e4d452abe6de90f1a7774d2": {
          "model_module": "@jupyter-widgets/controls",
          "model_name": "HTMLModel",
          "state": {
            "_view_name": "HTMLView",
            "style": "IPY_MODEL_f9eae64d61414a1599ff0ce29c53b28e",
            "_dom_classes": [],
            "description": "",
            "_model_name": "HTMLModel",
            "placeholder": "​",
            "_view_module": "@jupyter-widgets/controls",
            "_model_module_version": "1.5.0",
            "value": " 4423680/? [00:17&lt;00:00, 1483525.56it/s]",
            "_view_count": null,
            "_view_module_version": "1.5.0",
            "description_tooltip": null,
            "_model_module": "@jupyter-widgets/controls",
            "layout": "IPY_MODEL_c60984f7c25d4a33a9857a9ffa23e199"
          }
        },
        "b3550926b90447cbbc8ef678ab32d088": {
          "model_module": "@jupyter-widgets/controls",
          "model_name": "ProgressStyleModel",
          "state": {
            "_view_name": "StyleView",
            "_model_name": "ProgressStyleModel",
            "description_width": "initial",
            "_view_module": "@jupyter-widgets/base",
            "_model_module_version": "1.5.0",
            "_view_count": null,
            "_view_module_version": "1.2.0",
            "bar_color": null,
            "_model_module": "@jupyter-widgets/controls"
          }
        },
        "d89eb4ed174d4c989a24605f6ca66179": {
          "model_module": "@jupyter-widgets/base",
          "model_name": "LayoutModel",
          "state": {
            "_view_name": "LayoutView",
            "grid_template_rows": null,
            "right": null,
            "justify_content": null,
            "_view_module": "@jupyter-widgets/base",
            "overflow": null,
            "_model_module_version": "1.2.0",
            "_view_count": null,
            "flex_flow": null,
            "width": null,
            "min_width": null,
            "border": null,
            "align_items": null,
            "bottom": null,
            "_model_module": "@jupyter-widgets/base",
            "top": null,
            "grid_column": null,
            "overflow_y": null,
            "overflow_x": null,
            "grid_auto_flow": null,
            "grid_area": null,
            "grid_template_columns": null,
            "flex": null,
            "_model_name": "LayoutModel",
            "justify_items": null,
            "grid_row": null,
            "max_height": null,
            "align_content": null,
            "visibility": null,
            "align_self": null,
            "height": null,
            "min_height": null,
            "padding": null,
            "grid_auto_rows": null,
            "grid_gap": null,
            "max_width": null,
            "order": null,
            "_view_module_version": "1.2.0",
            "grid_template_areas": null,
            "object_position": null,
            "object_fit": null,
            "grid_auto_columns": null,
            "margin": null,
            "display": null,
            "left": null
          }
        },
        "f9eae64d61414a1599ff0ce29c53b28e": {
          "model_module": "@jupyter-widgets/controls",
          "model_name": "DescriptionStyleModel",
          "state": {
            "_view_name": "StyleView",
            "_model_name": "DescriptionStyleModel",
            "description_width": "",
            "_view_module": "@jupyter-widgets/base",
            "_model_module_version": "1.5.0",
            "_view_count": null,
            "_view_module_version": "1.2.0",
            "_model_module": "@jupyter-widgets/controls"
          }
        },
        "c60984f7c25d4a33a9857a9ffa23e199": {
          "model_module": "@jupyter-widgets/base",
          "model_name": "LayoutModel",
          "state": {
            "_view_name": "LayoutView",
            "grid_template_rows": null,
            "right": null,
            "justify_content": null,
            "_view_module": "@jupyter-widgets/base",
            "overflow": null,
            "_model_module_version": "1.2.0",
            "_view_count": null,
            "flex_flow": null,
            "width": null,
            "min_width": null,
            "border": null,
            "align_items": null,
            "bottom": null,
            "_model_module": "@jupyter-widgets/base",
            "top": null,
            "grid_column": null,
            "overflow_y": null,
            "overflow_x": null,
            "grid_auto_flow": null,
            "grid_area": null,
            "grid_template_columns": null,
            "flex": null,
            "_model_name": "LayoutModel",
            "justify_items": null,
            "grid_row": null,
            "max_height": null,
            "align_content": null,
            "visibility": null,
            "align_self": null,
            "height": null,
            "min_height": null,
            "padding": null,
            "grid_auto_rows": null,
            "grid_gap": null,
            "max_width": null,
            "order": null,
            "_view_module_version": "1.2.0",
            "grid_template_areas": null,
            "object_position": null,
            "object_fit": null,
            "grid_auto_columns": null,
            "margin": null,
            "display": null,
            "left": null
          }
        },
        "1758b3fc0e2e40d3bd5df9e50d2d190c": {
          "model_module": "@jupyter-widgets/controls",
          "model_name": "HBoxModel",
          "state": {
            "_view_name": "HBoxView",
            "_dom_classes": [],
            "_model_name": "HBoxModel",
            "_view_module": "@jupyter-widgets/controls",
            "_model_module_version": "1.5.0",
            "_view_count": null,
            "_view_module_version": "1.5.0",
            "box_style": "",
            "layout": "IPY_MODEL_e3f3f9d88555468ba723f7422f4df2ea",
            "_model_module": "@jupyter-widgets/controls",
            "children": [
              "IPY_MODEL_74c5fc12c238472c9e517f2196070258",
              "IPY_MODEL_6b6e976a19834f64b74cdc9ad9e32b9c"
            ]
          }
        },
        "e3f3f9d88555468ba723f7422f4df2ea": {
          "model_module": "@jupyter-widgets/base",
          "model_name": "LayoutModel",
          "state": {
            "_view_name": "LayoutView",
            "grid_template_rows": null,
            "right": null,
            "justify_content": null,
            "_view_module": "@jupyter-widgets/base",
            "overflow": null,
            "_model_module_version": "1.2.0",
            "_view_count": null,
            "flex_flow": null,
            "width": null,
            "min_width": null,
            "border": null,
            "align_items": null,
            "bottom": null,
            "_model_module": "@jupyter-widgets/base",
            "top": null,
            "grid_column": null,
            "overflow_y": null,
            "overflow_x": null,
            "grid_auto_flow": null,
            "grid_area": null,
            "grid_template_columns": null,
            "flex": null,
            "_model_name": "LayoutModel",
            "justify_items": null,
            "grid_row": null,
            "max_height": null,
            "align_content": null,
            "visibility": null,
            "align_self": null,
            "height": null,
            "min_height": null,
            "padding": null,
            "grid_auto_rows": null,
            "grid_gap": null,
            "max_width": null,
            "order": null,
            "_view_module_version": "1.2.0",
            "grid_template_areas": null,
            "object_position": null,
            "object_fit": null,
            "grid_auto_columns": null,
            "margin": null,
            "display": null,
            "left": null
          }
        },
        "74c5fc12c238472c9e517f2196070258": {
          "model_module": "@jupyter-widgets/controls",
          "model_name": "FloatProgressModel",
          "state": {
            "_view_name": "ProgressView",
            "style": "IPY_MODEL_38904fdfda6741b997c6030718371534",
            "_dom_classes": [],
            "description": "  0%",
            "_model_name": "FloatProgressModel",
            "bar_style": "info",
            "max": 1,
            "_view_module": "@jupyter-widgets/controls",
            "_model_module_version": "1.5.0",
            "value": 0,
            "_view_count": null,
            "_view_module_version": "1.5.0",
            "orientation": "horizontal",
            "min": 0,
            "description_tooltip": null,
            "_model_module": "@jupyter-widgets/controls",
            "layout": "IPY_MODEL_a812d20f0e7044ceb5c426d0506785a1"
          }
        },
        "6b6e976a19834f64b74cdc9ad9e32b9c": {
          "model_module": "@jupyter-widgets/controls",
          "model_name": "HTMLModel",
          "state": {
            "_view_name": "HTMLView",
            "style": "IPY_MODEL_47c6a630d86e4fbda32f79a4a7660275",
            "_dom_classes": [],
            "description": "",
            "_model_name": "HTMLModel",
            "placeholder": "​",
            "_view_module": "@jupyter-widgets/controls",
            "_model_module_version": "1.5.0",
            "value": " 0/5148 [00:00&lt;?, ?it/s]",
            "_view_count": null,
            "_view_module_version": "1.5.0",
            "description_tooltip": null,
            "_model_module": "@jupyter-widgets/controls",
            "layout": "IPY_MODEL_0f78fa2f0d064fc3b4572c9c1994551b"
          }
        },
        "38904fdfda6741b997c6030718371534": {
          "model_module": "@jupyter-widgets/controls",
          "model_name": "ProgressStyleModel",
          "state": {
            "_view_name": "StyleView",
            "_model_name": "ProgressStyleModel",
            "description_width": "initial",
            "_view_module": "@jupyter-widgets/base",
            "_model_module_version": "1.5.0",
            "_view_count": null,
            "_view_module_version": "1.2.0",
            "bar_color": null,
            "_model_module": "@jupyter-widgets/controls"
          }
        },
        "a812d20f0e7044ceb5c426d0506785a1": {
          "model_module": "@jupyter-widgets/base",
          "model_name": "LayoutModel",
          "state": {
            "_view_name": "LayoutView",
            "grid_template_rows": null,
            "right": null,
            "justify_content": null,
            "_view_module": "@jupyter-widgets/base",
            "overflow": null,
            "_model_module_version": "1.2.0",
            "_view_count": null,
            "flex_flow": null,
            "width": null,
            "min_width": null,
            "border": null,
            "align_items": null,
            "bottom": null,
            "_model_module": "@jupyter-widgets/base",
            "top": null,
            "grid_column": null,
            "overflow_y": null,
            "overflow_x": null,
            "grid_auto_flow": null,
            "grid_area": null,
            "grid_template_columns": null,
            "flex": null,
            "_model_name": "LayoutModel",
            "justify_items": null,
            "grid_row": null,
            "max_height": null,
            "align_content": null,
            "visibility": null,
            "align_self": null,
            "height": null,
            "min_height": null,
            "padding": null,
            "grid_auto_rows": null,
            "grid_gap": null,
            "max_width": null,
            "order": null,
            "_view_module_version": "1.2.0",
            "grid_template_areas": null,
            "object_position": null,
            "object_fit": null,
            "grid_auto_columns": null,
            "margin": null,
            "display": null,
            "left": null
          }
        },
        "47c6a630d86e4fbda32f79a4a7660275": {
          "model_module": "@jupyter-widgets/controls",
          "model_name": "DescriptionStyleModel",
          "state": {
            "_view_name": "StyleView",
            "_model_name": "DescriptionStyleModel",
            "description_width": "",
            "_view_module": "@jupyter-widgets/base",
            "_model_module_version": "1.5.0",
            "_view_count": null,
            "_view_module_version": "1.2.0",
            "_model_module": "@jupyter-widgets/controls"
          }
        },
        "0f78fa2f0d064fc3b4572c9c1994551b": {
          "model_module": "@jupyter-widgets/base",
          "model_name": "LayoutModel",
          "state": {
            "_view_name": "LayoutView",
            "grid_template_rows": null,
            "right": null,
            "justify_content": null,
            "_view_module": "@jupyter-widgets/base",
            "overflow": null,
            "_model_module_version": "1.2.0",
            "_view_count": null,
            "flex_flow": null,
            "width": null,
            "min_width": null,
            "border": null,
            "align_items": null,
            "bottom": null,
            "_model_module": "@jupyter-widgets/base",
            "top": null,
            "grid_column": null,
            "overflow_y": null,
            "overflow_x": null,
            "grid_auto_flow": null,
            "grid_area": null,
            "grid_template_columns": null,
            "flex": null,
            "_model_name": "LayoutModel",
            "justify_items": null,
            "grid_row": null,
            "max_height": null,
            "align_content": null,
            "visibility": null,
            "align_self": null,
            "height": null,
            "min_height": null,
            "padding": null,
            "grid_auto_rows": null,
            "grid_gap": null,
            "max_width": null,
            "order": null,
            "_view_module_version": "1.2.0",
            "grid_template_areas": null,
            "object_position": null,
            "object_fit": null,
            "grid_auto_columns": null,
            "margin": null,
            "display": null,
            "left": null
          }
        }
      }
    }
  },
  "cells": [
    {
      "cell_type": "markdown",
      "metadata": {
        "id": "lFQ04RB8w4ba",
        "colab_type": "text"
      },
      "source": [
        "# **İmage Recognition using Pytorch with Fashion MNIST DataSet** \n",
        "\n",
        "The Fashion MNIST Datasets contain a set of  28x28 grayscale images of clotes. Our goal is building a neural network using Pytorch and then training the network to predict clothes.\n",
        "*italicized text*"
      ]
    },
    {
      "cell_type": "code",
      "metadata": {
        "id": "LetDAkbex3Qu",
        "colab_type": "code",
        "colab": {}
      },
      "source": [
        "#importing required libraries..\n",
        "import torch\n",
        "import numpy as np\n",
        "import torch.nn as nn\n",
        "import torch.optim as optim \n",
        "import torch.nn.functional as F\n",
        "from torchvision import datasets, transforms\n",
        "from torch.utils.data.sampler import  SubsetRandomSampler  #for validation test"
      ],
      "execution_count": 1,
      "outputs": []
    },
    {
      "cell_type": "markdown",
      "metadata": {
        "id": "eOOlHtgHygGc",
        "colab_type": "text"
      },
      "source": [
        "# **Load and Visualize the Data**"
      ]
    },
    {
      "cell_type": "code",
      "metadata": {
        "id": "--9rCNYRynEu",
        "colab_type": "code",
        "colab": {
          "base_uri": "https://localhost:8080/",
          "height": 366,
          "referenced_widgets": [
            "4a0ae00d6a944a549a86018bb6e7388f",
            "1c2bd8a05ecd48b68b5ca70b7ef4f0d8",
            "53660b41206a4bda9c62fbe9a05e02f0",
            "8dced7093a0a4f8d951f1f8bb8d6a39c",
            "43277f03822e4b8a97076b65ad12f5f2",
            "99128608cdfe49feb94f4ac4ee007128",
            "9be67b099a4e40c2a7e5e2197caffd75",
            "554c60900f3d4f23b1099f2cdbc6da80",
            "74d404f1e7454438a194698cbaae322e",
            "6e642de55f5c43edb69f5ddcad9ca5b9",
            "01199352a29046508ef5d4a4c443a69a",
            "4cd55a19581f4101a48a98a4be24023f",
            "689e155caef04d89ae84c7098098880f",
            "331786fb778b437189bea4350d65b720",
            "1f5fa9eda2a34dcfbb4de654ee66b89c",
            "84ab9b5368ae4f3186c66eb9508b28c2",
            "e3d255d608df4129b2fab5180c220279",
            "6aef286237c44f22b2f655f81b32b648",
            "254001c8701248aca84dd6d114b4a6f1",
            "36d9fd155e4d452abe6de90f1a7774d2",
            "b3550926b90447cbbc8ef678ab32d088",
            "d89eb4ed174d4c989a24605f6ca66179",
            "f9eae64d61414a1599ff0ce29c53b28e",
            "c60984f7c25d4a33a9857a9ffa23e199",
            "1758b3fc0e2e40d3bd5df9e50d2d190c",
            "e3f3f9d88555468ba723f7422f4df2ea",
            "74c5fc12c238472c9e517f2196070258",
            "6b6e976a19834f64b74cdc9ad9e32b9c",
            "38904fdfda6741b997c6030718371534",
            "a812d20f0e7044ceb5c426d0506785a1",
            "47c6a630d86e4fbda32f79a4a7660275",
            "0f78fa2f0d064fc3b4572c9c1994551b"
          ]
        },
        "outputId": "b09a4db1-78eb-4094-813d-50ff4983b33b"
      },
      "source": [
        "\n",
        "#Define a transform to convert to images to tensor and normalize\n",
        "transform = transforms.Compose([transforms.ToTensor(),\n",
        "                               transforms.Normalize((0.5,),(0.5,),)]) #mean and std have to be sequences (e.g., tuples), \n",
        "                                                                      # therefore we should add a comma after the values\n",
        "                          \n",
        "#Load the data: train and test sets\n",
        "trainset = datasets.FashionMNIST('~/.pytorch/F_MNIST_data', download=True, train=True, transform=transform)\n",
        "testset = datasets.FashionMNIST('~/.pytorch/F_MNIST_data', download=True, train=False, transform=transform)\n",
        "\n",
        "#Preparing for validaion test\n",
        "indices = list(range(len(trainset)))\n",
        "np.random.shuffle(indices)\n",
        "#to get 20% of the train set\n",
        "split = int(np.floor(0.2 * len(trainset)))\n",
        "train_sample = SubsetRandomSampler(indices[:split])\n",
        "valid_sample = SubsetRandomSampler(indices[split:])\n",
        "\n",
        "#Data Loader\n",
        "trainloader = torch.utils.data.DataLoader(trainset, sampler=train_sample, batch_size=64)\n",
        "validloader = torch.utils.data.DataLoader(trainset, sampler=valid_sample, batch_size=64)\n",
        "testloader = torch.utils.data.DataLoader(testset, batch_size=64, shuffle=True)\n",
        "\n"
      ],
      "execution_count": 2,
      "outputs": [
        {
          "output_type": "stream",
          "text": [
            "Downloading http://fashion-mnist.s3-website.eu-central-1.amazonaws.com/train-images-idx3-ubyte.gz to /root/.pytorch/F_MNIST_data/FashionMNIST/raw/train-images-idx3-ubyte.gz\n"
          ],
          "name": "stdout"
        },
        {
          "output_type": "display_data",
          "data": {
            "application/vnd.jupyter.widget-view+json": {
              "model_id": "4a0ae00d6a944a549a86018bb6e7388f",
              "version_minor": 0,
              "version_major": 2
            },
            "text/plain": [
              "HBox(children=(FloatProgress(value=1.0, bar_style='info', max=1.0), HTML(value='')))"
            ]
          },
          "metadata": {
            "tags": []
          }
        },
        {
          "output_type": "stream",
          "text": [
            "Extracting /root/.pytorch/F_MNIST_data/FashionMNIST/raw/train-images-idx3-ubyte.gz to /root/.pytorch/F_MNIST_data/FashionMNIST/raw\n",
            "Downloading http://fashion-mnist.s3-website.eu-central-1.amazonaws.com/train-labels-idx1-ubyte.gz to /root/.pytorch/F_MNIST_data/FashionMNIST/raw/train-labels-idx1-ubyte.gz\n"
          ],
          "name": "stdout"
        },
        {
          "output_type": "display_data",
          "data": {
            "application/vnd.jupyter.widget-view+json": {
              "model_id": "74d404f1e7454438a194698cbaae322e",
              "version_minor": 0,
              "version_major": 2
            },
            "text/plain": [
              "HBox(children=(FloatProgress(value=1.0, bar_style='info', max=1.0), HTML(value='')))"
            ]
          },
          "metadata": {
            "tags": []
          }
        },
        {
          "output_type": "stream",
          "text": [
            "Extracting /root/.pytorch/F_MNIST_data/FashionMNIST/raw/train-labels-idx1-ubyte.gz to /root/.pytorch/F_MNIST_data/FashionMNIST/raw\n",
            "Downloading http://fashion-mnist.s3-website.eu-central-1.amazonaws.com/t10k-images-idx3-ubyte.gz to /root/.pytorch/F_MNIST_data/FashionMNIST/raw/t10k-images-idx3-ubyte.gz\n"
          ],
          "name": "stdout"
        },
        {
          "output_type": "display_data",
          "data": {
            "application/vnd.jupyter.widget-view+json": {
              "model_id": "e3d255d608df4129b2fab5180c220279",
              "version_minor": 0,
              "version_major": 2
            },
            "text/plain": [
              "HBox(children=(FloatProgress(value=1.0, bar_style='info', max=1.0), HTML(value='')))"
            ]
          },
          "metadata": {
            "tags": []
          }
        },
        {
          "output_type": "stream",
          "text": [
            "Extracting /root/.pytorch/F_MNIST_data/FashionMNIST/raw/t10k-images-idx3-ubyte.gz to /root/.pytorch/F_MNIST_data/FashionMNIST/raw\n",
            "Downloading http://fashion-mnist.s3-website.eu-central-1.amazonaws.com/t10k-labels-idx1-ubyte.gz to /root/.pytorch/F_MNIST_data/FashionMNIST/raw/t10k-labels-idx1-ubyte.gz\n"
          ],
          "name": "stdout"
        },
        {
          "output_type": "display_data",
          "data": {
            "application/vnd.jupyter.widget-view+json": {
              "model_id": "1758b3fc0e2e40d3bd5df9e50d2d190c",
              "version_minor": 0,
              "version_major": 2
            },
            "text/plain": [
              "HBox(children=(FloatProgress(value=1.0, bar_style='info', max=1.0), HTML(value='')))"
            ]
          },
          "metadata": {
            "tags": []
          }
        },
        {
          "output_type": "stream",
          "text": [
            "Extracting /root/.pytorch/F_MNIST_data/FashionMNIST/raw/t10k-labels-idx1-ubyte.gz to /root/.pytorch/F_MNIST_data/FashionMNIST/raw\n",
            "Processing...\n",
            "Done!\n"
          ],
          "name": "stdout"
        },
        {
          "output_type": "stream",
          "text": [
            "/usr/local/lib/python3.6/dist-packages/torchvision/datasets/mnist.py:469: UserWarning: The given NumPy array is not writeable, and PyTorch does not support non-writeable tensors. This means you can write to the underlying (supposedly non-writeable) NumPy array using the tensor. You may want to copy the array to protect its data or make it writeable before converting it to a tensor. This type of warning will be suppressed for the rest of this program. (Triggered internally at  /pytorch/torch/csrc/utils/tensor_numpy.cpp:141.)\n",
            "  return torch.from_numpy(parsed.astype(m[2], copy=False)).view(*s)\n"
          ],
          "name": "stderr"
        }
      ]
    },
    {
      "cell_type": "code",
      "metadata": {
        "id": "XY-pukiltB5e",
        "colab_type": "code",
        "colab": {
          "base_uri": "https://localhost:8080/",
          "height": 168
        },
        "outputId": "16438306-393b-4f54-fc51-31898ac9416b"
      },
      "source": [
        "trainset"
      ],
      "execution_count": 3,
      "outputs": [
        {
          "output_type": "execute_result",
          "data": {
            "text/plain": [
              "Dataset FashionMNIST\n",
              "    Number of datapoints: 60000\n",
              "    Root location: /root/.pytorch/F_MNIST_data\n",
              "    Split: Train\n",
              "    StandardTransform\n",
              "Transform: Compose(\n",
              "               ToTensor()\n",
              "               Normalize(mean=(0.5,), std=(0.5,))\n",
              "           )"
            ]
          },
          "metadata": {
            "tags": []
          },
          "execution_count": 3
        }
      ]
    },
    {
      "cell_type": "markdown",
      "metadata": {
        "id": "nU-0ZOgF28It",
        "colab_type": "text"
      },
      "source": [
        "# **Visualize a Batch of Training Data**"
      ]
    },
    {
      "cell_type": "code",
      "metadata": {
        "id": "Ty4wpOYXtQ_t",
        "colab_type": "code",
        "colab": {
          "base_uri": "https://localhost:8080/",
          "height": 34
        },
        "outputId": "2ac59453-132d-49d4-ee37-2ce0627f47d1"
      },
      "source": [
        "trainloader"
      ],
      "execution_count": 4,
      "outputs": [
        {
          "output_type": "execute_result",
          "data": {
            "text/plain": [
              "<torch.utils.data.dataloader.DataLoader at 0x7fbd6189fd30>"
            ]
          },
          "metadata": {
            "tags": []
          },
          "execution_count": 4
        }
      ]
    },
    {
      "cell_type": "code",
      "metadata": {
        "id": "qn_Wlugz3BBZ",
        "colab_type": "code",
        "colab": {
          "base_uri": "https://localhost:8080/",
          "height": 386
        },
        "outputId": "50b38072-92b8-42b9-ca00-74e95bea3f7b"
      },
      "source": [
        "import matplotlib.pyplot as plt\n",
        "%matplotlib inline\n",
        "\n",
        "dataiter = iter(trainloader)\n",
        "print(dataiter)\n",
        "images, labels = dataiter.next()\n",
        "\n",
        "\n",
        "fig = plt.figure(figsize=(15,5))\n",
        "for idx in np.arange(20):\n",
        "  # xticks=[], yticks=[] is empty to print the images without any ticks around them\n",
        "  #np.sqeeze : Remove single-dimensional entries from the shape of an array.\n",
        "  ax = fig.add_subplot(4, 20/4, idx+1, xticks=[], yticks=[])\n",
        "  ax.imshow(np.squeeze(images[idx]), cmap='gray')\n",
        "   # .item() gets the value contained in a Tensor\n",
        "  ax.set_title(labels[idx].item())\n",
        "  fig.tight_layout()"
      ],
      "execution_count": 5,
      "outputs": [
        {
          "output_type": "stream",
          "text": [
            "<torch.utils.data.dataloader._SingleProcessDataLoaderIter object at 0x7fbd6127bb38>\n"
          ],
          "name": "stdout"
        },
        {
          "output_type": "display_data",
          "data": {
            "image/png": "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