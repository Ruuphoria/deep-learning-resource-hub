{
 "cells": [
  {
   "cell_type": "markdown",
   "metadata": {},
   "source": [
    "## Dependencies"
   ]
  },
  {
   "cell_type": "code",
   "execution_count": 1,
   "metadata": {},
   "outputs": [],
   "source": [
    "import pandas as pd\n",
    "import numpy as np\n",
    "import matplotlib.pyplot as plt\n",
    "import seaborn as sns"
   ]
  },
  {
   "cell_type": "markdown",
   "metadata": {},
   "source": [
    "**Download Dataset:** [Link](https://www.kaggle.com/sachinpatel21/az-handwritten-alphabets-in-csv-format)\n",
    "\n",
    "## Methods"
   ]
  },
  {
   "cell_type": "code",
   "execution_count": 2,
   "metadata": {},
   "outputs": [],
   "source": [
    "#load data\n",
    "def load_data():\n",
    "    df = pd.read_csv('D:/Data Sets/HandWrittenAlphabets/A_Z Handwritten Data.csv')\n",
    "    return df\n",
    "\n",
    "#desribe data\n",
    "def describe_data(df):\n",
    "    print(\"Shape:\",df.shape)\n",
    "    print(\"Columns:\",df.columns)\n",
    "    print('Unique Entities:',set(df['0']))\n",
    "\n",
    "#plotting a sample\n",
    "def show_sample(df):\n",
    "    plt.imshow(df.sample(n=1).iloc[:,1:].values.reshape((28,28)),cmap='gray')\n",
    "    plt.show()"
   ]
  },
  {
   "cell_type": "code",
   "execution_count": 3,
   "metadata": {},
   "outputs": [
    {
     "data": {
      "text/html": [
       "<div>\n",
       "<style scoped>\n",
       "    .dataframe tbody tr th:only-of-type {\n",
       "        vertical-align: middle;\n",
       "    }\n",
       "\n",
       "    .dataframe tbody tr th {\n",
       "        vertical-align: top;\n",
       "    }\n",
       "\n",
       "    .dataframe thead th {\n",
       "        text-align: right;\n",
       "    }\n",
       "</style>\n",
       "<table border=\"1\" class=\"dataframe\">\n",
       "  <thead>\n",
       "    <tr style=\"text-align: right;\">\n",
       "      <th></th>\n",
       "      <th>0</th>\n",
       "      <th>0.1</th>\n",
       "      <th>0.2</th>\n",
       "      <th>0.3</th>\n",
       "      <th>0.4</th>\n",
       "      <th>0.5</th>\n",
       "      <th>0.6</th>\n",
       "      <th>0.7</th>\n",
       "      <th>0.8</th>\n",
       "      <th>0.9</th>\n",
       "      <th>...</th>\n",
       "      <th>0.639</th>\n",
       "      <th>0.640</th>\n",
       "      <th>0.641</th>\n",
       "      <th>0.642</th>\n",
       "      <th>0.643</th>\n",
       "      <th>0.644</th>\n",
       "      <th>0.645</th>\n",
       "      <th>0.646</th>\n",
       "      <th>0.647</th>\n",
       "      <th>0.648</th>\n",
       "    </tr>\n",
       "  </thead>\n",
       "  <tbody>\n",
       "    <tr>\n",
       "      <th>0</th>\n",
       "      <td>0</td>\n",
       "      <td>0</td>\n",
       "      <td>0</td>\n",
       "      <td>0</td>\n",
       "      <td>0</td>\n",
       "      <td>0</td>\n",
       "      <td>0</td>\n",
       "      <td>0</td>\n",
       "      <td>0</td>\n",
       "      <td>0</td>\n",
       "      <td>...</td>\n",
       "      <td>0</td>\n",
       "      <td>0</td>\n",
       "      <td>0</td>\n",
       "      <td>0</td>\n",
       "      <td>0</td>\n",
       "      <td>0</td>\n",
       "      <td>0</td>\n",
       "      <td>0</td>\n",
       "      <td>0</td>\n",
       "      <td>0</td>\n",
       "    </tr>\n",
       "    <tr>\n",
       "      <th>1</th>\n",
       "      <td>0</td>\n",
       "      <td>0</td>\n",
       "      <td>0</td>\n",
       "      <td>0</td>\n",
       "      <td>0</td>\n",
       "      <td>0</td>\n",
       "      <td>0</td>\n",
       "      <td>0</td>\n",
       "      <td>0</td>\n",
       "      <td>0</td>\n",
       "      <td>...</td>\n",
       "      <td>0</td>\n",
       "      <td>0</td>\n",
       "      <td>0</td>\n",
       "      <td>0</td>\n",
       "      <td>0</td>\n",
       "      <td>0</td>\n",
       "      <td>0</td>\n",
       "      <td>0</td>\n",
       "      <td>0</td>\n",
       "      <td>0</td>\n",
       "    </tr>\n",
       "    <tr>\n",
       "      <th>2</th>\n",
       "      <td>0</td>\n",
       "      <td>0</td>\n",
       "      <td>0</td>\n",
       "      <td>0</td>\n",
       "      <td>0</td>\n",
       "      <td>0</td>\n",
       "      <td>0</td>\n",
       "      <td>0</td>\n",
       "      <td>0</td>\n",
       "      <td>0</td>\n",
       "      <td>...</td>\n",
       "      <td>0</td>\n",
       "      <td>0</td>\n",
       "      <td>0</td>\n",
       "      <td>0</td>\n",
       "      <td>0</td>\n",
       "      <td>0</td>\n",
       "      <td>0</td>\n",
       "      <td>0</td>\n",
       "      <td>0</td>\n",
       "      <td>0</td>\n",
       "    </tr>\n",
       "    <tr>\n",
       "      <th>3</th>\n",
       "      <td>0</td>\n",
       "      <td>0</td>\n",
       "      <td>0</td>\n",
       "      <td>0</td>\n",
       "      <td>0</td>\n",
       "      <td>0</td>\n",
       "      <td>0</td>\n",
       "      <td>0</td>\n",
       "      <td>0</td>\n",
       "      <td>0</td>\n",
       "      <td>...</td>\n",
       "      <td>0</td>\n",
       "      <td>0</td>\n",
       "      <td>0</td>\n",
       "      <td>0</td>\n",
       "      <td>0</td>\n",
       "      <td>0</td>\n",
       "      <td>0</td>\n",
       "      <td>0</td>\n",
       "      <td>0</td>\n",
       "      <td>0</td>\n",
       "    </tr>\n",
       "    <tr>\n",
       "      <th>4</th>\n",
       "      <td>0</td>\n",
       "      <td>0</td>\n",
       "      <td>0</td>\n",
       "      <td>0</td>\n",
       "      <td>0</td>\n",
       "      <td>0</td>\n",
       "      <td>0</td>\n",
       "      <td>0</td>\n",
       "      <td>0</td>\n",
       "      <td>0</td>\n",
       "      <td>...</td>\n",
       "      <td>0</td>\n",
       "      <td>0</td>\n",
       "      <td>0</td>\n",
       "      <td>0</td>\n",
       "      <td>0</td>\n",
       "      <td>0</td>\n",
       "      <td>0</td>\n",
       "      <td>0</td>\n",
       "      <td>0</td>\n",
       "      <td>0</td>\n",
       "    </tr>\n",
       "  </tbody>\n",
       "</table>\n",
       "<p>5 rows × 785 columns</p>\n",
       "</div>"
      ],
      "text/plain": [
       "   0  0.1  0.2  0.3  0.4  0.5  0.6  0.7  0.8  0.9  ...  0.639  0.640  0.641  \\\n",
       "0  0    0    0    0    0    0    0    0    0    0  ...      0      0      0   \n",
       "1  0    0    0    0    0    0    0    0    0    0  ...      0      0      0   \n",
       "2  0    0    0    0    0    0    0    0    0    0  ...      0      0      0   \n",
       "3  0    0    0    0    0    0    0    0    0    0  ...      0      0      0   \n",
       "4  0    0    0    0    0    0    0    0    0    0  ...      0      0      0   \n",
       "\n",
       "   0.642  0.643  0.644  0.645  0.646  0.647  0.648  \n",
       "0      0      0      0      0      0      0      0  \n",
       "1      0      0      0      0      0      0      0  \n",
       "2      0      0      0      0      0      0      0  \n",
       "3      0      0      0      0      0      0      0  \n",
       "4      0      0      0      0      0      0      0  \n",
       "\n",
       "[5 rows x 785 columns]"
      ]
     },
     "execution_count": 3,
     "metadata": {},
     "output_type": "execute_result"
    }
   ],
   "source": [
    "df = load_data()\n",
    "df.head()"
   ]
  },
  {
   "cell_type": "code",
   "execution_count": 4,
   "metadata": {},
   "outputs": [
    {
     "name": "stdout",
     "output_type": "stream",
     "text": [
      "Shape: (372450, 785)\n",
      "Columns: Index(['0', '0.1', '0.2', '0.3', '0.4', '0.5', '0.6', '0.7', '0.8', '0.9',\n",
      "       ...\n",
      "       '0.639', '0.640', '0.641', '0.642', '0.643', '0.644', '0.645', '0.646',\n",
      "       '0.647', '0.648'],\n",
      "      dtype='object', length=785)\n",
      "Unique Entities: {0, 1, 2, 3, 4, 5, 6, 7, 8, 9, 10, 11, 12, 13, 14, 15, 16, 17, 18, 19, 20, 21, 22, 23, 24, 25}\n"
     ]
    }
   ],
   "source": [
    "describe_data(df)"
   ]
  },
  {
   "cell_type": "markdown",
   "metadata": {},
   "source": [
    "## Understanding the data\n",
    "\n",
    "Target Variable: First column is the Target Column which has 26 uniquely encoded entities ==> [0-25] <br/>\n",
    "Independent Variable: Rest 784 columns are the pixel values of each handwritten alphabet <br/>"
   ]
  },
  {
   "cell_type": "code",
   "execution_count": 5,
   "metadata": {},
   "outputs": [
    {
     "data": {
      "text/plain": [
       "{0: 13869,\n",
       " 1: 8668,\n",
       " 2: 23409,\n",
       " 3: 10134,\n",
       " 4: 11440,\n",
       " 5: 1163,\n",
       " 6: 5762,\n",
       " 7: 7218,\n",
       " 8: 1120,\n",
       " 9: 8493,\n",
       " 10: 5603,\n",
       " 11: 11586,\n",
       " 12: 12336,\n",
       " 13: 19010,\n",
       " 14: 57825,\n",
       " 15: 19341,\n",
       " 16: 5812,\n",
       " 17: 11566,\n",
       " 18: 48419,\n",
       " 19: 22495,\n",
       " 20: 29008,\n",
       " 21: 4182,\n",
       " 22: 10784,\n",
       " 23: 6272,\n",
       " 24: 10859,\n",
       " 25: 6076}"
      ]
     },
     "execution_count": 5,
     "metadata": {},
     "output_type": "execute_result"
    }
   ],
   "source": [
    "#finding the no of samples each class has\n",
    "no_of_sample={}\n",
    "for i in range(len(df)):\n",
    "    if df['0'][i] not in no_of_sample:\n",
    "        no_of_sample.update({df['0'][i]:1})\n",
    "    else:\n",
    "        no_of_sample[df['0'][i]]+=1\n",
    "no_of_sample"
   ]
  },
  {
   "cell_type": "markdown",
   "metadata": {},
   "source": [
    "We see that the dataset is fucking imbalanced! So we will treat it accordingly!"
   ]
  },
  {
   "cell_type": "code",
   "execution_count": 6,
   "metadata": {},
   "outputs": [
    {
     "data": {
      "text/plain": [
       "1120"
      ]
     },
     "execution_count": 6,
     "metadata": {},
     "output_type": "execute_result"
    }
   ],
   "source": [
    "min(no_of_sample.values())"
   ]
  },
  {
   "cell_type": "code",
   "execution_count": 7,
   "metadata": {},
   "outputs": [
    {
     "data": {
      "text/plain": [
       "57825"
      ]
     },
     "execution_count": 7,
     "metadata": {},
     "output_type": "execute_result"
    }
   ],
   "source": [
    "max(no_of_sample.values())"
   ]
  },
  {
   "cell_type": "code",
   "execution_count": 8,
   "metadata": {},
   "outputs": [],
   "source": [
    "#spc==sample per class\n",
    "spc=min(no_of_sample.values())"
   ]
  },
  {
   "cell_type": "markdown",
   "metadata": {},
   "source": [
    "## Plotting an Image"
   ]
  },
  {
   "cell_type": "code",
   "execution_count": 9,
   "metadata": {},
   "outputs": [
    {
     "data": {
      "image/png": "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\n",
      "text/plain": [
       "<Figure size 432x288 with 1 Axes>"
      ]
     },
     "metadata": {
      "needs_background": "light"
     },
     "output_type": "display_data"
    }
   ],
   "source": [
    "show_sample(df)"
   ]
  },
  {
   "cell_type": "code",
   "execution_count": 10,
   "metadata": {},
   "outputs": [
    {
     "data": {
      "text/html": [
       "<div>\n",
       "<style scoped>\n",
       "    .dataframe tbody tr th:only-of-type {\n",
       "        vertical-align: middle;\n",
       "    }\n",
       "\n",
       "    .dataframe tbody tr th {\n",
       "        vertical-align: top;\n",
       "    }\n",
       "\n",
       "    .dataframe thead th {\n",
       "        text-align: right;\n",
       "    }\n",
       "</style>\n",
       "<table border=\"1\" class=\"dataframe\">\n",
       "  <thead>\n",
       "    <tr style=\"text-align: right;\">\n",
       "      <th></th>\n",
       "      <th>0</th>\n",
       "      <th>0.1</th>\n",
       "      <th>0.2</th>\n",
       "      <th>0.3</th>\n",
       "      <th>0.4</th>\n",
       "      <th>0.5</th>\n",
       "      <th>0.6</th>\n",
       "      <th>0.7</th>\n",
       "      <th>0.8</th>\n",
       "      <th>0.9</th>\n",
       "      <th>...</th>\n",
       "      <th>0.640</th>\n",
       "      <th>0.641</th>\n",
       "      <th>0.642</th>\n",
       "      <th>0.643</th>\n",
       "      <th>0.644</th>\n",
       "      <th>0.645</th>\n",
       "      <th>0.646</th>\n",
       "      <th>0.647</th>\n",
       "      <th>0.648</th>\n",
       "      <th>idx</th>\n",
       "    </tr>\n",
       "  </thead>\n",
       "  <tbody>\n",
       "    <tr>\n",
       "      <th>0</th>\n",
       "      <td>0</td>\n",
       "      <td>0</td>\n",
       "      <td>0</td>\n",
       "      <td>0</td>\n",
       "      <td>0</td>\n",
       "      <td>0</td>\n",
       "      <td>0</td>\n",
       "      <td>0</td>\n",
       "      <td>0</td>\n",
       "      <td>0</td>\n",
       "      <td>...</td>\n",
       "      <td>0</td>\n",
       "      <td>0</td>\n",
       "      <td>0</td>\n",
       "      <td>0</td>\n",
       "      <td>0</td>\n",
       "      <td>0</td>\n",
       "      <td>0</td>\n",
       "      <td>0</td>\n",
       "      <td>0</td>\n",
       "      <td>0</td>\n",
       "    </tr>\n",
       "    <tr>\n",
       "      <th>1</th>\n",
       "      <td>0</td>\n",
       "      <td>0</td>\n",
       "      <td>0</td>\n",
       "      <td>0</td>\n",
       "      <td>0</td>\n",
       "      <td>0</td>\n",
       "      <td>0</td>\n",
       "      <td>0</td>\n",
       "      <td>0</td>\n",
       "      <td>0</td>\n",
       "      <td>...</td>\n",
       "      <td>0</td>\n",
       "      <td>0</td>\n",
       "      <td>0</td>\n",
       "      <td>0</td>\n",
       "      <td>0</td>\n",
       "      <td>0</td>\n",
       "      <td>0</td>\n",
       "      <td>0</td>\n",
       "      <td>0</td>\n",
       "      <td>1</td>\n",
       "    </tr>\n",
       "    <tr>\n",
       "      <th>2</th>\n",
       "      <td>0</td>\n",
       "      <td>0</td>\n",
       "      <td>0</td>\n",
       "      <td>0</td>\n",
       "      <td>0</td>\n",
       "      <td>0</td>\n",
       "      <td>0</td>\n",
       "      <td>0</td>\n",
       "      <td>0</td>\n",
       "      <td>0</td>\n",
       "      <td>...</td>\n",
       "      <td>0</td>\n",
       "      <td>0</td>\n",
       "      <td>0</td>\n",
       "      <td>0</td>\n",
       "      <td>0</td>\n",
       "      <td>0</td>\n",
       "      <td>0</td>\n",
       "      <td>0</td>\n",
       "      <td>0</td>\n",
       "      <td>2</td>\n",
       "    </tr>\n",
       "    <tr>\n",
       "      <th>3</th>\n",
       "      <td>0</td>\n",
       "      <td>0</td>\n",
       "      <td>0</td>\n",
       "      <td>0</td>\n",
       "      <td>0</td>\n",
       "      <td>0</td>\n",
       "      <td>0</td>\n",
       "      <td>0</td>\n",
       "      <td>0</td>\n",
       "      <td>0</td>\n",
       "      <td>...</td>\n",
       "      <td>0</td>\n",
       "      <td>0</td>\n",
       "      <td>0</td>\n",
       "      <td>0</td>\n",
       "      <td>0</td>\n",
       "      <td>0</td>\n",
       "      <td>0</td>\n",
       "      <td>0</td>\n",
       "      <td>0</td>\n",
       "      <td>3</td>\n",
       "    </tr>\n",
       "    <tr>\n",
       "      <th>4</th>\n",
       "      <td>0</td>\n",
       "      <td>0</td>\n",
       "      <td>0</td>\n",
       "      <td>0</td>\n",
       "      <td>0</td>\n",
       "      <td>0</td>\n",
       "      <td>0</td>\n",
       "      <td>0</td>\n",
       "      <td>0</td>\n",
       "      <td>0</td>\n",
       "      <td>...</td>\n",
       "      <td>0</td>\n",
       "      <td>0</td>\n",
       "      <td>0</td>\n",
       "      <td>0</td>\n",
       "      <td>0</td>\n",
       "      <td>0</td>\n",
       "      <td>0</td>\n",
       "      <td>0</td>\n",
       "      <td>0</td>\n",
       "      <td>4</td>\n",
       "    </tr>\n",
       "  </tbody>\n",
       "</table>\n",
       "<p>5 rows × 786 columns</p>\n",
       "</div>"
      ],
      "text/plain": [
       "   0  0.1  0.2  0.3  0.4  0.5  0.6  0.7  0.8  0.9  ...  0.640  0.641  0.642  \\\n",
       "0  0    0    0    0    0    0    0    0    0    0  ...      0      0      0   \n",
       "1  0    0    0    0    0    0    0    0    0    0  ...      0      0      0   \n",
       "2  0    0    0    0    0    0    0    0    0    0  ...      0      0      0   \n",
       "3  0    0    0    0    0    0    0    0    0    0  ...      0      0      0   \n",
       "4  0    0    0    0    0    0    0    0    0    0  ...      0      0      0   \n",
       "\n",
       "   0.643  0.644  0.645  0.646  0.647  0.648  idx  \n",
       "0      0      0      0      0      0      0    0  \n",
       "1      0      0      0      0      0      0    1  \n",
       "2      0      0      0      0      0      0    2  \n",
       "3      0      0      0      0      0      0    3  \n",
       "4      0      0      0      0      0      0    4  \n",
       "\n",
       "[5 rows x 786 columns]"
      ]
     },
     "execution_count": 10,
     "metadata": {},
     "output_type": "execute_result"
    }
   ],
   "source": [
    "#adding the idx col to uniquely identify each row\n",
    "df['idx']=[i for i in range(len(df))]\n",
    "df.head()"
   ]
  },
  {
   "cell_type": "markdown",
   "metadata": {},
   "source": [
    "## Manual Cross Validation"
   ]
  },
  {
   "cell_type": "code",
   "execution_count": 11,
   "metadata": {},
   "outputs": [
    {
     "name": "stderr",
     "output_type": "stream",
     "text": [
      "100%|██████████████████████████████████████████████████████████████████████████████████| 26/26 [00:41<00:00,  1.60s/it]\n"
     ]
    }
   ],
   "source": [
    "from tqdm import tqdm\n",
    "\n",
    "# keeping the test size to be 0.2\n",
    "test_size = 0.2\n",
    "\n",
    "#each sample in the test set will be round figure of 1120*0.2\n",
    "test_sample_per_class = int(test_size*spc)\n",
    "train_sample_per_class = spc-test_sample_per_class\n",
    "\n",
    "train,test = [],[]\n",
    "for i in tqdm(range(26)):\n",
    "    train_sample=df[df['0']==i].sample(n=train_sample_per_class)\n",
    "    train_sample_idx=list(train_sample.idx)\n",
    "    \n",
    "    train.append(train_sample.iloc[:,:-1])\n",
    "    \n",
    "    all_samples=df[df['0']==i]\n",
    "    test.append(all_samples[~all_samples['idx'].isin(train_sample_idx)].iloc[:,:-1].sample(test_sample_per_class))"
   ]
  },
  {
   "cell_type": "code",
   "execution_count": 12,
   "metadata": {},
   "outputs": [
    {
     "data": {
      "text/plain": [
       "26"
      ]
     },
     "execution_count": 12,
     "metadata": {},
     "output_type": "execute_result"
    }
   ],
   "source": [
    "len(train)"
   ]
  },
  {
   "cell_type": "code",
   "execution_count": 13,
   "metadata": {},
   "outputs": [
    {
     "data": {
      "text/html": [
       "<div>\n",
       "<style scoped>\n",
       "    .dataframe tbody tr th:only-of-type {\n",
       "        vertical-align: middle;\n",
       "    }\n",
       "\n",
       "    .dataframe tbody tr th {\n",
       "        vertical-align: top;\n",
       "    }\n",
       "\n",
       "    .dataframe thead th {\n",
       "        text-align: right;\n",
       "    }\n",
       "</style>\n",
       "<table border=\"1\" class=\"dataframe\">\n",
       "  <thead>\n",
       "    <tr style=\"text-align: right;\">\n",
       "      <th></th>\n",
       "      <th>0</th>\n",
       "      <th>0.1</th>\n",
       "      <th>0.2</th>\n",
       "      <th>0.3</th>\n",
       "      <th>0.4</th>\n",
       "      <th>0.5</th>\n",
       "      <th>0.6</th>\n",
       "      <th>0.7</th>\n",
       "      <th>0.8</th>\n",
       "      <th>0.9</th>\n",
       "      <th>...</th>\n",
       "      <th>0.639</th>\n",
       "      <th>0.640</th>\n",
       "      <th>0.641</th>\n",
       "      <th>0.642</th>\n",
       "      <th>0.643</th>\n",
       "      <th>0.644</th>\n",
       "      <th>0.645</th>\n",
       "      <th>0.646</th>\n",
       "      <th>0.647</th>\n",
       "      <th>0.648</th>\n",
       "    </tr>\n",
       "  </thead>\n",
       "  <tbody>\n",
       "    <tr>\n",
       "      <th>9748</th>\n",
       "      <td>0</td>\n",
       "      <td>0</td>\n",
       "      <td>0</td>\n",
       "      <td>0</td>\n",
       "      <td>0</td>\n",
       "      <td>0</td>\n",
       "      <td>0</td>\n",
       "      <td>0</td>\n",
       "      <td>0</td>\n",
       "      <td>0</td>\n",
       "      <td>...</td>\n",
       "      <td>0</td>\n",
       "      <td>0</td>\n",
       "      <td>0</td>\n",
       "      <td>0</td>\n",
       "      <td>0</td>\n",
       "      <td>0</td>\n",
       "      <td>0</td>\n",
       "      <td>0</td>\n",
       "      <td>0</td>\n",
       "      <td>0</td>\n",
       "    </tr>\n",
       "    <tr>\n",
       "      <th>8329</th>\n",
       "      <td>0</td>\n",
       "      <td>0</td>\n",
       "      <td>0</td>\n",
       "      <td>0</td>\n",
       "      <td>0</td>\n",
       "      <td>0</td>\n",
       "      <td>0</td>\n",
       "      <td>0</td>\n",
       "      <td>0</td>\n",
       "      <td>0</td>\n",
       "      <td>...</td>\n",
       "      <td>0</td>\n",
       "      <td>0</td>\n",
       "      <td>0</td>\n",
       "      <td>0</td>\n",
       "      <td>0</td>\n",
       "      <td>0</td>\n",
       "      <td>0</td>\n",
       "      <td>0</td>\n",
       "      <td>0</td>\n",
       "      <td>0</td>\n",
       "    </tr>\n",
       "    <tr>\n",
       "      <th>6884</th>\n",
       "      <td>0</td>\n",
       "      <td>0</td>\n",
       "      <td>0</td>\n",
       "      <td>0</td>\n",
       "      <td>0</td>\n",
       "      <td>0</td>\n",
       "      <td>0</td>\n",
       "      <td>0</td>\n",
       "      <td>0</td>\n",
       "      <td>0</td>\n",
       "      <td>...</td>\n",
       "      <td>0</td>\n",
       "      <td>0</td>\n",
       "      <td>0</td>\n",
       "      <td>0</td>\n",
       "      <td>0</td>\n",
       "      <td>0</td>\n",
       "      <td>0</td>\n",
       "      <td>0</td>\n",
       "      <td>0</td>\n",
       "      <td>0</td>\n",
       "    </tr>\n",
       "    <tr>\n",
       "      <th>8830</th>\n",
       "      <td>0</td>\n",
       "      <td>0</td>\n",
       "      <td>0</td>\n",
       "      <td>0</td>\n",
       "      <td>0</td>\n",
       "      <td>0</td>\n",
       "      <td>0</td>\n",
       "      <td>0</td>\n",
       "      <td>0</td>\n",
       "      <td>0</td>\n",
       "      <td>...</td>\n",
       "      <td>0</td>\n",
       "      <td>0</td>\n",
       "      <td>0</td>\n",
       "      <td>0</td>\n",
       "      <td>0</td>\n",
       "      <td>0</td>\n",
       "      <td>0</td>\n",
       "      <td>0</td>\n",
       "      <td>0</td>\n",
       "      <td>0</td>\n",
       "    </tr>\n",
       "    <tr>\n",
       "      <th>2717</th>\n",
       "      <td>0</td>\n",
       "      <td>0</td>\n",
       "      <td>0</td>\n",
       "      <td>0</td>\n",
       "      <td>0</td>\n",
       "      <td>0</td>\n",
       "      <td>0</td>\n",
       "      <td>0</td>\n",
       "      <td>0</td>\n",
       "      <td>0</td>\n",
       "      <td>...</td>\n",
       "      <td>0</td>\n",
       "      <td>0</td>\n",
       "      <td>0</td>\n",
       "      <td>0</td>\n",
       "      <td>0</td>\n",
       "      <td>0</td>\n",
       "      <td>0</td>\n",
       "      <td>0</td>\n",
       "      <td>0</td>\n",
       "      <td>0</td>\n",
       "    </tr>\n",
       "    <tr>\n",
       "      <th>...</th>\n",
       "      <td>...</td>\n",
       "      <td>...</td>\n",
       "      <td>...</td>\n",
       "      <td>...</td>\n",
       "      <td>...</td>\n",
       "      <td>...</td>\n",
       "      <td>...</td>\n",
       "      <td>...</td>\n",
       "      <td>...</td>\n",
       "      <td>...</td>\n",
       "      <td>...</td>\n",
       "      <td>...</td>\n",
       "      <td>...</td>\n",
       "      <td>...</td>\n",
       "      <td>...</td>\n",
       "      <td>...</td>\n",
       "      <td>...</td>\n",
       "      <td>...</td>\n",
       "      <td>...</td>\n",
       "      <td>...</td>\n",
       "      <td>...</td>\n",
       "    </tr>\n",
       "    <tr>\n",
       "      <th>5056</th>\n",
       "      <td>0</td>\n",
       "      <td>0</td>\n",
       "      <td>0</td>\n",
       "      <td>0</td>\n",
       "      <td>0</td>\n",
       "      <td>0</td>\n",
       "      <td>0</td>\n",
       "      <td>0</td>\n",
       "      <td>0</td>\n",
       "      <td>0</td>\n",
       "      <td>...</td>\n",
       "      <td>0</td>\n",
       "      <td>0</td>\n",
       "      <td>0</td>\n",
       "      <td>0</td>\n",
       "      <td>0</td>\n",
       "      <td>0</td>\n",
       "      <td>0</td>\n",
       "      <td>0</td>\n",
       "      <td>0</td>\n",
       "      <td>0</td>\n",
       "    </tr>\n",
       "    <tr>\n",
       "      <th>4201</th>\n",
       "      <td>0</td>\n",
       "      <td>0</td>\n",
       "      <td>0</td>\n",
       "      <td>0</td>\n",
       "      <td>0</td>\n",
       "      <td>0</td>\n",
       "      <td>0</td>\n",
       "      <td>0</td>\n",
       "      <td>0</td>\n",
       "      <td>0</td>\n",
       "      <td>...</td>\n",
       "      <td>0</td>\n",
       "      <td>0</td>\n",
       "      <td>0</td>\n",
       "      <td>0</td>\n",
       "      <td>0</td>\n",
       "      <td>0</td>\n",
       "      <td>0</td>\n",
       "      <td>0</td>\n",
       "      <td>0</td>\n",
       "      <td>0</td>\n",
       "    </tr>\n",
       "    <tr>\n",
       "      <th>13456</th>\n",
       "      <td>0</td>\n",
       "      <td>0</td>\n",
       "      <td>0</td>\n",
       "      <td>0</td>\n",
       "      <td>0</td>\n",
       "      <td>0</td>\n",
       "      <td>0</td>\n",
       "      <td>0</td>\n",
       "      <td>0</td>\n",
       "      <td>0</td>\n",
       "      <td>...</td>\n",
       "      <td>0</td>\n",
       "      <td>0</td>\n",
       "      <td>0</td>\n",
       "      <td>0</td>\n",
       "      <td>0</td>\n",
       "      <td>0</td>\n",
       "      <td>0</td>\n",
       "      <td>0</td>\n",
       "      <td>0</td>\n",
       "      <td>0</td>\n",
       "    </tr>\n",
       "    <tr>\n",
       "      <th>6898</th>\n",
       "      <td>0</td>\n",
       "      <td>0</td>\n",
       "      <td>0</td>\n",
       "      <td>0</td>\n",
       "      <td>0</td>\n",
       "      <td>0</td>\n",
       "      <td>0</td>\n",
       "      <td>0</td>\n",
       "      <td>0</td>\n",
       "      <td>0</td>\n",
       "      <td>...</td>\n",
       "      <td>0</td>\n",
       "      <td>0</td>\n",
       "      <td>0</td>\n",
       "      <td>0</td>\n",
       "      <td>0</td>\n",
       "      <td>0</td>\n",
       "      <td>0</td>\n",
       "      <td>0</td>\n",
       "      <td>0</td>\n",
       "      <td>0</td>\n",
       "    </tr>\n",
       "    <tr>\n",
       "      <th>3321</th>\n",
       "      <td>0</td>\n",
       "      <td>0</td>\n",
       "      <td>0</td>\n",
       "      <td>0</td>\n",
       "      <td>0</td>\n",
       "      <td>0</td>\n",
       "      <td>0</td>\n",
       "      <td>0</td>\n",
       "      <td>0</td>\n",
       "      <td>0</td>\n",
       "      <td>...</td>\n",
       "      <td>0</td>\n",
       "      <td>0</td>\n",
       "      <td>0</td>\n",
       "      <td>0</td>\n",
       "      <td>0</td>\n",
       "      <td>0</td>\n",
       "      <td>0</td>\n",
       "      <td>0</td>\n",
       "      <td>0</td>\n",
       "      <td>0</td>\n",
       "    </tr>\n",
       "  </tbody>\n",
       "</table>\n",
       "<p>896 rows × 785 columns</p>\n",
       "</div>"
      ],
      "text/plain": [
       "       0  0.1  0.2  0.3  0.4  0.5  0.6  0.7  0.8  0.9  ...  0.639  0.640  \\\n",
       "9748   0    0    0    0    0    0    0    0    0    0  ...      0      0   \n",
       "8329   0    0    0    0    0    0    0    0    0    0  ...      0      0   \n",
       "6884   0    0    0    0    0    0    0    0    0    0  ...      0      0   \n",
       "8830   0    0    0    0    0    0    0    0    0    0  ...      0      0   \n",
       "2717   0    0    0    0    0    0    0    0    0    0  ...      0      0   \n",
       "...   ..  ...  ...  ...  ...  ...  ...  ...  ...  ...  ...    ...    ...   \n",
       "5056   0    0    0    0    0    0    0    0    0    0  ...      0      0   \n",
       "4201   0    0    0    0    0    0    0    0    0    0  ...      0      0   \n",
       "13456  0    0    0    0    0    0    0    0    0    0  ...      0      0   \n",
       "6898   0    0    0    0    0    0    0    0    0    0  ...      0      0   \n",
       "3321   0    0    0    0    0    0    0    0    0    0  ...      0      0   \n",
       "\n",
       "       0.641  0.642  0.643  0.644  0.645  0.646  0.647  0.648  \n",
       "9748       0      0      0      0      0      0      0      0  \n",
       "8329       0      0      0      0      0      0      0      0  \n",
       "6884       0      0      0      0      0      0      0      0  \n",
       "8830       0      0      0      0      0      0      0      0  \n",
       "2717       0      0      0      0      0      0      0      0  \n",
       "...      ...    ...    ...    ...    ...    ...    ...    ...  \n",
       "5056       0      0      0      0      0      0      0      0  \n",
       "4201       0      0      0      0      0      0      0      0  \n",
       "13456      0      0      0      0      0      0      0      0  \n",
       "6898       0      0      0      0      0      0      0      0  \n",
       "3321       0      0      0      0      0      0      0      0  \n",
       "\n",
       "[896 rows x 785 columns]"
      ]
     },
     "execution_count": 13,
     "metadata": {},
     "output_type": "execute_result"
    }
   ],
   "source": [
    "train[0]"
   ]
  },
  {
   "cell_type": "code",
   "execution_count": 14,
   "metadata": {},
   "outputs": [
    {
     "name": "stderr",
     "output_type": "stream",
     "text": [
      "100%|██████████████████████████████████████████████████████████████████████████████████| 25/25 [00:02<00:00, 11.76it/s]\n"
     ]
    }
   ],
   "source": [
    "trainset,testset= train[0].values,test[0].values\n",
    "\n",
    "for i in tqdm(range(1,26)):\n",
    "    trainset=np.append(trainset,train[i].values,axis=0)\n",
    "    testset=np.append(testset,test[i].values,axis=0)"
   ]
  },
  {
   "cell_type": "code",
   "execution_count": 15,
   "metadata": {},
   "outputs": [
    {
     "data": {
      "text/plain": [
       "(23296, 785)"
      ]
     },
     "execution_count": 15,
     "metadata": {},
     "output_type": "execute_result"
    }
   ],
   "source": [
    "trainset.shape"
   ]
  },
  {
   "cell_type": "code",
   "execution_count": 16,
   "metadata": {},
   "outputs": [],
   "source": [
    "#shuffling the data to prevent bias\n",
    "from sklearn.utils import shuffle\n",
    "train=shuffle(trainset)\n",
    "test=shuffle(testset)"
   ]
  },
  {
   "cell_type": "code",
   "execution_count": 17,
   "metadata": {},
   "outputs": [],
   "source": [
    "x_train,y_train=train[:,1:],train[:,0]\n",
    "x_test,y_test=test[:,1:],test[:,0]"
   ]
  },
  {
   "cell_type": "code",
   "execution_count": 18,
   "metadata": {},
   "outputs": [],
   "source": [
    "y_train=y_train.astype('float64')\n",
    "y_test=y_test.astype('float64')\n",
    "x_train=x_train.astype('float64')\n",
    "x_test=x_test.astype('float64')"
   ]
  },
  {
   "cell_type": "code",
   "execution_count": 19,
   "metadata": {},
   "outputs": [
    {
     "data": {
      "text/plain": [
       "8.0"
      ]
     },
     "execution_count": 19,
     "metadata": {},
     "output_type": "execute_result"
    }
   ],
   "source": [
    "y_train[1]"
   ]
  },
  {
   "cell_type": "code",
   "execution_count": 20,
   "metadata": {},
   "outputs": [
    {
     "data": {
      "text/plain": [
       "'\\ntraining=np.array(training,dtype=np.float64)\\ntesting=np.array(testing,dtype=np.float64)\\n\\ntraining=torch.from_numpy(training)\\ntesting=torch.from_numpy(testing)'"
      ]
     },
     "execution_count": 20,
     "metadata": {},
     "output_type": "execute_result"
    }
   ],
   "source": [
    "training=[(x_train[i],float(y_train[i])) for i in range(x_train.shape[0])]\n",
    "testing=[(x_test[i],float(y_test[i])) for i in range(x_test.shape[0])]\n",
    "'''\n",
    "training=np.array(training,dtype=np.float64)\n",
    "testing=np.array(testing,dtype=np.float64)\n",
    "\n",
    "training=torch.from_numpy(training)\n",
    "testing=torch.from_numpy(testing)'''"
   ]
  },
  {
   "cell_type": "code",
   "execution_count": 21,
   "metadata": {},
   "outputs": [],
   "source": [
    "import torch\n",
    "from torch.utils.data import DataLoader\n",
    "import torch.nn as nn\n",
    "import torch.nn.functional as f\n",
    "import torch.optim as optim"
   ]
  },
  {
   "cell_type": "code",
   "execution_count": 22,
   "metadata": {},
   "outputs": [],
   "source": [
    "train_loader = DataLoader(training,batch_size=10,shuffle=True)\n",
    "test_loader = DataLoader(testing,batch_size=10,shuffle=True)"
   ]
  },
  {
   "cell_type": "code",
   "execution_count": 23,
   "metadata": {},
   "outputs": [
    {
     "data": {
      "text/plain": [
       "<torch.utils.data.dataloader.DataLoader at 0x215b86a0e88>"
      ]
     },
     "execution_count": 23,
     "metadata": {},
     "output_type": "execute_result"
    }
   ],
   "source": [
    "train_loader"
   ]
  },
  {
   "cell_type": "code",
   "execution_count": 24,
   "metadata": {
    "scrolled": true
   },
   "outputs": [
    {
     "name": "stdout",
     "output_type": "stream",
     "text": [
      "torch.Size([10, 784])\n",
      "[tensor([[0., 0., 0.,  ..., 0., 0., 0.],\n",
      "        [0., 0., 0.,  ..., 0., 0., 0.],\n",
      "        [0., 0., 0.,  ..., 0., 0., 0.],\n",
      "        ...,\n",
      "        [0., 0., 0.,  ..., 0., 0., 0.],\n",
      "        [0., 0., 0.,  ..., 0., 0., 0.],\n",
      "        [0., 0., 0.,  ..., 0., 0., 0.]], dtype=torch.float64), tensor([16., 10., 20., 11., 19., 14.,  2., 12.,  9., 17.], dtype=torch.float64)]\n"
     ]
    }
   ],
   "source": [
    "for data in train_loader:\n",
    "    print(data[0].shape)\n",
    "    print(data)\n",
    "    break"
   ]
  },
  {
   "cell_type": "markdown",
   "metadata": {},
   "source": [
    "## Class Definition"
   ]
  },
  {
   "cell_type": "code",
   "execution_count": 25,
   "metadata": {},
   "outputs": [
    {
     "data": {
      "text/plain": [
       "Net(\n",
       "  (fc1): Linear(in_features=784, out_features=128, bias=True)\n",
       "  (fc2): Linear(in_features=128, out_features=128, bias=True)\n",
       "  (fc3): Linear(in_features=128, out_features=64, bias=True)\n",
       "  (fc4): Linear(in_features=64, out_features=32, bias=True)\n",
       "  (fc5): Linear(in_features=32, out_features=32, bias=True)\n",
       "  (fc6): Linear(in_features=32, out_features=26, bias=True)\n",
       ")"
      ]
     },
     "execution_count": 25,
     "metadata": {},
     "output_type": "execute_result"
    }
   ],
   "source": [
    "## Training class\n",
    "class Net(nn.Module):\n",
    "    def __init__(self):\n",
    "        super().__init__()\n",
    "        self.fc1=nn.Linear((28*28),128) #input layer (input1, output1)- input1 is 784=28*28 and 64 is output1 \n",
    "        self.fc2=nn.Linear(128,128) #hidden layer (input2=output1,output2)\n",
    "        self.fc3=nn.Linear(128,64) #hidden layer (input3=output2,output3)\n",
    "        self.fc4=nn.Linear(64,32) \n",
    "        self.fc5=nn.Linear(32,32)\n",
    "        self.fc6=nn.Linear(32,26) #output layer (input4=output3, output4)\n",
    "        nn.Dropout(0.2)\n",
    "\n",
    "    def forward(self,x):\n",
    "        x=f.relu(self.fc1(x))\n",
    "        x=f.relu(self.fc2(x))\n",
    "        x=f.relu(self.fc3(x))\n",
    "        x=f.relu(self.fc4(x))\n",
    "        x=f.relu(self.fc5(x))\n",
    "        x=self.fc6(x)\n",
    "        return f.log_softmax(x,dim=1)\n",
    "\n",
    "#object initialisation\n",
    "net=Net() \n",
    "net"
   ]
  },
  {
   "cell_type": "code",
   "execution_count": 26,
   "metadata": {},
   "outputs": [
    {
     "name": "stdout",
     "output_type": "stream",
     "text": [
      "torch.Size([1, 784])\n"
     ]
    },
    {
     "data": {
      "text/plain": [
       "tensor([[-3.4340, -3.1079, -3.2964, -3.2946, -3.2440, -3.0450, -3.2749, -3.3768,\n",
       "         -3.4004, -3.1658, -3.0624, -3.2044, -3.4608, -3.2818, -3.2783, -3.2119,\n",
       "         -3.4686, -3.3214, -3.3109, -3.2433, -3.0655, -3.4098, -3.1704, -3.1694,\n",
       "         -3.3449, -3.2496]], grad_fn=<LogSoftmaxBackward>)"
      ]
     },
     "execution_count": 26,
     "metadata": {},
     "output_type": "execute_result"
    }
   ],
   "source": [
    "x=torch.rand((28,28))\n",
    "x=x.view(-1,28*28)\n",
    "print(x.shape)\n",
    "out=net(x)\n",
    "out"
   ]
  },
  {
   "cell_type": "code",
   "execution_count": 31,
   "metadata": {},
   "outputs": [
    {
     "name": "stdout",
     "output_type": "stream",
     "text": [
      "25.0\n",
      "tensor(25., dtype=torch.float64)\n"
     ]
    },
    {
     "data": {
      "text/plain": [
       "tensor(6.7036, grad_fn=<NllLossBackward>)"
      ]
     },
     "execution_count": 31,
     "metadata": {},
     "output_type": "execute_result"
    }
   ],
   "source": [
    "x=training[0][0]\n",
    "y=training[0][1]\n",
    "print(y) \n",
    "x=x.reshape((1,784))\n",
    "#type(x)\n",
    "out=net(torch.from_numpy(x).float())\n",
    "#print(out)\n",
    "print(torch.from_numpy(np.array(y)))\n",
    "loss=f.nll_loss(out,torch.from_numpy(np.array([y]).astype('int64')))\n",
    "loss"
   ]
  },
  {
   "cell_type": "markdown",
   "metadata": {},
   "source": [
    "## Model Training"
   ]
  },
  {
   "cell_type": "code",
   "execution_count": 34,
   "metadata": {},
   "outputs": [
    {
     "name": "stderr",
     "output_type": "stream",
     "text": [
      "\n",
      "\n",
      "\n",
      "  0%|                                                                                            | 0/5 [00:00<?, ?it/s]\u001b[A\u001b[A\u001b[A\n",
      "\n",
      "\n",
      " 20%|████████████████▊                                                                   | 1/5 [01:27<05:49, 87.43s/it]\u001b[A\u001b[A\u001b[A"
     ]
    },
    {
     "name": "stdout",
     "output_type": "stream",
     "text": [
      "Loss: tensor(0.0004, grad_fn=<NllLossBackward>)\n"
     ]
    },
    {
     "name": "stderr",
     "output_type": "stream",
     "text": [
      "\n",
      "\n",
      "\n",
      " 40%|█████████████████████████████████▌                                                  | 2/5 [02:56<04:23, 87.91s/it]\u001b[A\u001b[A\u001b[A"
     ]
    },
    {
     "name": "stdout",
     "output_type": "stream",
     "text": [
      "Loss: tensor(0.0004, grad_fn=<NllLossBackward>)\n"
     ]
    },
    {
     "name": "stderr",
     "output_type": "stream",
     "text": [
      "\n",
      "\n",
      "\n",
      " 60%|██████████████████████████████████████████████████▍                                 | 3/5 [04:26<02:56, 88.49s/it]\u001b[A\u001b[A\u001b[A"
     ]
    },
    {
     "name": "stdout",
     "output_type": "stream",
     "text": [
      "Loss: tensor(2.1100e-05, grad_fn=<NllLossBackward>)\n"
     ]
    },
    {
     "name": "stderr",
     "output_type": "stream",
     "text": [
      "\n",
      "\n",
      "\n",
      " 80%|███████████████████████████████████████████████████████████████████▏                | 4/5 [06:01<01:30, 90.57s/it]\u001b[A\u001b[A\u001b[A"
     ]
    },
    {
     "name": "stdout",
     "output_type": "stream",
     "text": [
      "Loss: tensor(9.6316e-05, grad_fn=<NllLossBackward>)\n"
     ]
    },
    {
     "name": "stderr",
     "output_type": "stream",
     "text": [
      "\n",
      "\n",
      "\n",
      "100%|████████████████████████████████████████████████████████████████████████████████████| 5/5 [07:32<00:00, 90.60s/it]\u001b[A\u001b[A\u001b[A"
     ]
    },
    {
     "name": "stdout",
     "output_type": "stream",
     "text": [
      "Loss: tensor(0.0003, grad_fn=<NllLossBackward>)\n"
     ]
    },
    {
     "name": "stderr",
     "output_type": "stream",
     "text": [
      "\n"
     ]
    }
   ],
   "source": [
    "optimizer=optim.SGD(net.parameters(),lr=10**-3) #stagnant lr here; in most cases it is a decaying lr\n",
    "epochs=5\n",
    "loss_fn=nn.CrossEntropyLoss()\n",
    "\n",
    "train_loss=[]\n",
    "for epoch in tqdm(range(epochs)):\n",
    "    for data in training:\n",
    "        x,y=data\n",
    "        #print(x.shape)\n",
    "        x=x.reshape((1,784))\n",
    "        #print(x.shape)\n",
    "        net.zero_grad()\n",
    "        output=net(torch.from_numpy(x).float())\n",
    "        loss=loss_fn(output,torch.from_numpy(np.array([y]).astype('int64')))\n",
    "        loss.backward()\n",
    "        optimizer.step() #adjusting weights for us\n",
    "    print('Loss:',loss)\n",
    "    train_loss.append(loss.item())"
   ]
  },
  {
   "cell_type": "code",
   "execution_count": 35,
   "metadata": {},
   "outputs": [
    {
     "data": {
      "image/png": "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