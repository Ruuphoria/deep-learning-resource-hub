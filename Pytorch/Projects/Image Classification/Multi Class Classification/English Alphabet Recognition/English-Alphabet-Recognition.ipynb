{
 "cells": [
  {
   "cell_type": "markdown",
   "metadata": {},
   "source": [
    "## Dependencies"
   ]
  },
  {
   "cell_type": "code",
   "execution_count": 1,
   "metadata": {},
   "outputs": [],
   "source": [
    "import pandas as pd\n",
    "import numpy as np\n",
    "import matplotlib.pyplot as plt\n",
    "import seaborn as sns"
   ]
  },
  {
   "cell_type": "markdown",
   "metadata": {},
   "source": [
    "**Download Dataset:** [Link](https://www.kaggle.com/sachinpatel21/az-handwritten-alphabets-in-csv-format)\n",
    "\n",
    "## Methods"
   ]
  },
  {
   "cell_type": "code",
   "execution_count": 2,
   "metadata": {},
   "outputs": [],
   "source": [
    "#load data\n",
    "def load_data():\n",
    "    df = pd.read_csv('D:/Data Sets/HandWrittenAlphabets/A_Z Handwritten Data.csv')\n",
    "    return df\n",
    "\n",
    "#desribe data\n",
    "def describe_data(df):\n",
    "    print(\"Shape:\",df.shape)\n",
    "    print(\"Columns:\",df.columns)\n",
    "    print('Unique Entities:',set(df['0']))\n",
    "\n",
    "#plotting a sample\n",
    "def show_sample(df):\n",
    "    plt.imshow(df.sample(n=1).iloc[:,1:].values.reshape((28,28)),cmap='gray')\n",
    "    plt.show()"
   ]
  },
  {
   "cell_type": "code",
   "execution_count": 3,
   "metadata": {},
   "outputs": [
    {
     "data": {
      "text/html": [
       "<div>\n",
       "<style scoped>\n",
       "    .dataframe tbody tr th:only-of-type {\n",
       "        vertical-align: middle;\n",
       "    }\n",
       "\n",
       "    .dataframe tbody tr th {\n",
       "        vertical-align: top;\n",
       "    }\n",
       "\n",
       "    .dataframe thead th {\n",
       "        text-align: right;\n",
       "    }\n",
       "</style>\n",
       "<table border=\"1\" class=\"dataframe\">\n",
       "  <thead>\n",
       "    <tr style=\"text-align: right;\">\n",
       "      <th></th>\n",
       "      <th>0</th>\n",
       "      <th>0.1</th>\n",
       "      <th>0.2</th>\n",
       "      <th>0.3</th>\n",
       "      <th>0.4</th>\n",
       "      <th>0.5</th>\n",
       "      <th>0.6</th>\n",
       "      <th>0.7</th>\n",
       "      <th>0.8</th>\n",
       "      <th>0.9</th>\n",
       "      <th>...</th>\n",
       "      <th>0.639</th>\n",
       "      <th>0.640</th>\n",
       "      <th>0.641</th>\n",
       "      <th>0.642</th>\n",
       "      <th>0.643</th>\n",
       "      <th>0.644</th>\n",
       "      <th>0.645</th>\n",
       "      <th>0.646</th>\n",
       "      <th>0.647</th>\n",
       "      <th>0.648</th>\n",
       "    </tr>\n",
       "  </thead>\n",
       "  <tbody>\n",
       "    <tr>\n",
       "      <th>0</th>\n",
       "      <td>0</td>\n",
       "      <td>0</td>\n",
       "      <td>0</td>\n",
       "      <td>0</td>\n",
       "      <td>0</td>\n",
       "      <td>0</td>\n",
       "      <td>0</td>\n",
       "      <td>0</td>\n",
       "      <td>0</td>\n",
       "      <td>0</td>\n",
       "      <td>...</td>\n",
       "      <td>0</td>\n",
       "      <td>0</td>\n",
       "      <td>0</td>\n",
       "      <td>0</td>\n",
       "      <td>0</td>\n",
       "      <td>0</td>\n",
       "      <td>0</td>\n",
       "      <td>0</td>\n",
       "      <td>0</td>\n",
       "      <td>0</td>\n",
       "    </tr>\n",
       "    <tr>\n",
       "      <th>1</th>\n",
       "      <td>0</td>\n",
       "      <td>0</td>\n",
       "      <td>0</td>\n",
       "      <td>0</td>\n",
       "      <td>0</td>\n",
       "      <td>0</td>\n",
       "      <td>0</td>\n",
       "      <td>0</td>\n",
       "      <td>0</td>\n",
       "      <td>0</td>\n",
       "      <td>...</td>\n",
       "      <td>0</td>\n",
       "      <td>0</td>\n",
       "      <td>0</td>\n",
       "      <td>0</td>\n",
       "      <td>0</td>\n",
       "      <td>0</td>\n",
       "      <td>0</td>\n",
       "      <td>0</td>\n",
       "      <td>0</td>\n",
       "      <td>0</td>\n",
       "    </tr>\n",
       "    <tr>\n",
       "      <th>2</th>\n",
       "      <td>0</td>\n",
       "      <td>0</td>\n",
       "      <td>0</td>\n",
       "      <td>0</td>\n",
       "      <td>0</td>\n",
       "      <td>0</td>\n",
       "      <td>0</td>\n",
       "      <td>0</td>\n",
       "      <td>0</td>\n",
       "      <td>0</td>\n",
       "      <td>...</td>\n",
       "      <td>0</td>\n",
       "      <td>0</td>\n",
       "      <td>0</td>\n",
       "      <td>0</td>\n",
       "      <td>0</td>\n",
       "      <td>0</td>\n",
       "      <td>0</td>\n",
       "      <td>0</td>\n",
       "      <td>0</td>\n",
       "      <td>0</td>\n",
       "    </tr>\n",
       "    <tr>\n",
       "      <th>3</th>\n",
       "      <td>0</td>\n",
       "      <td>0</td>\n",
       "      <td>0</td>\n",
       "      <td>0</td>\n",
       "      <td>0</td>\n",
       "      <td>0</td>\n",
       "      <td>0</td>\n",
       "      <td>0</td>\n",
       "      <td>0</td>\n",
       "      <td>0</td>\n",
       "      <td>...</td>\n",
       "      <td>0</td>\n",
       "      <td>0</td>\n",
       "      <td>0</td>\n",
       "      <td>0</td>\n",
       "      <td>0</td>\n",
       "      <td>0</td>\n",
       "      <td>0</td>\n",
       "      <td>0</td>\n",
       "      <td>0</td>\n",
       "      <td>0</td>\n",
       "    </tr>\n",
       "    <tr>\n",
       "      <th>4</th>\n",
       "      <td>0</td>\n",
       "      <td>0</td>\n",
       "      <td>0</td>\n",
       "      <td>0</td>\n",
       "      <td>0</td>\n",
       "      <td>0</td>\n",
       "      <td>0</td>\n",
       "      <td>0</td>\n",
       "      <td>0</td>\n",
       "      <td>0</td>\n",
       "      <td>...</td>\n",
       "      <td>0</td>\n",
       "      <td>0</td>\n",
       "      <td>0</td>\n",
       "      <td>0</td>\n",
       "      <td>0</td>\n",
       "      <td>0</td>\n",
       "      <td>0</td>\n",
       "      <td>0</td>\n",
       "      <td>0</td>\n",
       "      <td>0</td>\n",
       "    </tr>\n",
       "  </tbody>\n",
       "</table>\n",
       "<p>5 rows × 785 columns</p>\n",
       "</div>"
      ],
      "text/plain": [
       "   0  0.1  0.2  0.3  0.4  0.5  0.6  0.7  0.8  0.9  ...  0.639  0.640  0.641  \\\n",
       "0  0    0    0    0    0    0    0    0    0    0  ...      0      0      0   \n",
       "1  0    0    0    0    0    0    0    0    0    0  ...      0      0      0   \n",
       "2  0    0    0    0    0    0    0    0    0    0  ...      0      0      0   \n",
       "3  0    0    0    0    0    0    0    0    0    0  ...      0      0      0   \n",
       "4  0    0    0    0    0    0    0    0    0    0  ...      0      0      0   \n",
       "\n",
       "   0.642  0.643  0.644  0.645  0.646  0.647  0.648  \n",
       "0      0      0      0      0      0      0      0  \n",
       "1      0      0      0      0      0      0      0  \n",
       "2      0      0      0      0      0      0      0  \n",
       "3      0      0      0      0      0      0      0  \n",
       "4      0      0      0      0      0      0      0  \n",
       "\n",
       "[5 rows x 785 columns]"
      ]
     },
     "execution_count": 3,
     "metadata": {},
     "output_type": "execute_result"
    }
   ],
   "source": [
    "df = load_data()\n",
    "df.head()"
   ]
  },
  {
   "cell_type": "code",
   "execution_count": 4,
   "metadata": {},
   "outputs": [
    {
     "name": "stdout",
     "output_type": "stream",
     "text": [
      "Shape: (372450, 785)\n",
      "Columns: Index(['0', '0.1', '0.2', '0.3', '0.4', '0.5', '0.6', '0.7', '0.8', '0.9',\n",
      "       ...\n",
      "       '0.639', '0.640', '0.641', '0.642', '0.643', '0.644', '0.645', '0.646',\n",
      "       '0.647', '0.648'],\n",
      "      dtype='object', length=785)\n",
      "Unique Entities: {0, 1, 2, 3, 4, 5, 6, 7, 8, 9, 10, 11, 12, 13, 14, 15, 16, 17, 18, 19, 20, 21, 22, 23, 24, 25}\n"
     ]
    }
   ],
   "source": [
    "describe_data(df)"
   ]
  },
  {
   "cell_type": "markdown",
   "metadata": {},
   "source": [
    "## Understanding the data\n",
    "\n",
    "Target Variable: First column is the Target Column which has 26 uniquely encoded entities ==> [0-25] <br/>\n",
    "Independent Variable: Rest 784 columns are the pixel values of each handwritten alphabet <br/>"
   ]
  },
  {
   "cell_type": "code",
   "execution_count": 5,
   "metadata": {},
   "outputs": [
    {
     "data": {
      "text/plain": [
       "{0: 13869,\n",
       " 1: 8668,\n",
       " 2: 23409,\n",
       " 3: 10134,\n",
       " 4: 11440,\n",
       " 5: 1163,\n",
       " 6: 5762,\n",
       " 7: 7218,\n",
       " 8: 1120,\n",
       " 9: 8493,\n",
       " 10: 5603,\n",
       " 11: 11586,\n",
       " 12: 12336,\n",
       " 13: 19010,\n",
       " 14: 57825,\n",
       " 15: 19341,\n",
       " 16: 5812,\n",
       " 17: 11566,\n",
       " 18: 48419,\n",
       " 19: 22495,\n",
       " 20: 29008,\n",
       " 21: 4182,\n",
       " 22: 10784,\n",
       " 23: 6272,\n",
       " 24: 10859,\n",
       " 25: 6076}"
      ]
     },
     "execution_count": 5,
     "metadata": {},
     "output_type": "execute_result"
    }
   ],
   "source": [
    "#finding the no of samples each class has\n",
    "no_of_sample={}\n",
    "for i in range(len(df)):\n",
    "    if df['0'][i] not in no_of_sample:\n",
    "        no_of_sample.update({df['0'][i]:1})\n",
    "    else:\n",
    "        no_of_sample[df['0'][i]]+=1\n",
    "no_of_sample"
   ]
  },
  {
   "cell_type": "markdown",
   "metadata": {},
   "source": [
    "We see that the dataset is fucking imbalanced! So we will treat it accordingly!"
   ]
  },
  {
   "cell_type": "code",
   "execution_count": 6,
   "metadata": {},
   "outputs": [
    {
     "data": {
      "text/plain": [
       "1120"
      ]
     },
     "execution_count": 6,
     "metadata": {},
     "output_type": "execute_result"
    }
   ],
   "source": [
    "min(no_of_sample.values())"
   ]
  },
  {
   "cell_type": "code",
   "execution_count": 7,
   "metadata": {},
   "outputs": [
    {
     "data": {
      "text/plain": [
       "57825"
      ]
     },
     "execution_count": 7,
     "metadata": {},
     "output_type": "execute_result"
    }
   ],
   "source": [
    "max(no_of_sample.values())"
   ]
  },
  {
   "cell_type": "code",
   "execution_count": 8,
   "metadata": {},
   "outputs": [],
   "source": [
    "#spc==sample per class\n",
    "spc=min(no_of_sample.values())"
   ]
  },
  {
   "cell_type": "markdown",
   "metadata": {},
   "source": [
    "## Plotting an Image"
   ]
  },
  {
   "cell_type": "code",
   "execution_count": 9,
   "metadata": {},
   "outputs": [
    {
     "data": {
      "image/png": "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