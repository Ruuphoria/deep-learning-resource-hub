{
 "cells": [
  {
   "cell_type": "markdown",
   "metadata": {},
   "source": [
    "## Dependencies"
   ]
  },
  {
   "cell_type": "code",
   "execution_count": 1,
   "metadata": {},
   "outputs": [],
   "source": [
    "import pandas as pd\n",
    "import numpy as np\n",
    "import matplotlib.pyplot as plt\n",
    "import seaborn as sns"
   ]
  },
  {
   "cell_type": "markdown",
   "metadata": {},
   "source": [
    "**Download Dataset:** [Link](https://www.kaggle.com/sachinpatel21/az-handwritten-alphabets-in-csv-format)\n",
    "\n",
    "## Methods"
   ]
  },
  {
   "cell_type": "code",
   "execution_count": 2,
   "metadata": {},
   "outputs": [],
   "source": [
    "#load data\n",
    "def load_data():\n",
    "    df = pd.read_csv('D:/Data Sets/HandWrittenAlphabets/A_Z Handwritten Data.csv')\n",
    "    return df\n",
    "\n",
    "#desribe data\n",
    "def describe_data(df):\n",
    "    print(\"Shape:\",df.shape)\n",
    "    print(\"Columns:\",df.columns)\n",
    "    print('Unique Entities:',set(df['0']))\n",
    "\n",
    "#plotting a sample\n",
    "def show_sample(df):\n",
    "    plt.imshow(df.sample(n=1).iloc[:,1:].values.reshape((28,28)),cmap='gray')\n",
    "    plt.show()"
   ]
  },
  {
   "cell_type": "code",
   "execution_count": 3,
   "metadata": {},
   "outputs": [
    {
     "data": {
      "text/html": [
       "<div>\n",
       "<style scoped>\n",
       "  