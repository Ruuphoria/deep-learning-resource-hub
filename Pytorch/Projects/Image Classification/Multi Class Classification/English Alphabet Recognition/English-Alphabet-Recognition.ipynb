{
 "cells": [
  {
   "cell_type": "markdown",
   "metadata": {},
   "source": [
    "## Dependencies"
   ]
  },
  {
   "cell_type": "code",
   "execution_count": 1,
   "metadata": {},
   "outputs": [],
   "source": [
    "import pandas as pd\n",
    "import numpy as np\n",
    "import matplotlib.pyplot as plt\n",
    "import seaborn as sns"
   ]
  },
  {
   "cell_type": "markdown",
   "metadata": {},
   "source": [
    "**Download Dataset:** [Link](https://www.kaggle.com/sachinpatel21/az-handwritten-alphabets-in-csv-format)\n",
    "\n",
    "## Methods"
   ]
  },
  {
   "cell_type": "code",
   "execution_count": 2,
   "metadata": {},
   "outputs": [],
   "source": [
    "#load data\n",
    "def load_data():\n",
    "    df = pd.read_csv('D:/Data Sets/HandWrittenAlphabets/A_Z Handwritten Data.csv')\n",
    "    return df\n",
    "\n",
    "#desribe data\n",
    "def describe_data(df):\n",
    "    print(\"Shape:\",df.shape)\n",
    "    print(\"Columns:\",df.columns)\n",
    "    print('Unique Entities:',set(df['0']))\n",
    "\n",
    "#plotting a sample\n",
    "def show_sample(df):\n",
    "    plt.imshow(df.sample(n=1).iloc[:,1:].values.reshape((28,28)),cmap='gray')\n",
    "    plt.show()"
   ]
  },
  {
   "cell_type": "code",
   "execution_count": 3,
   "metadata": {},
   "outputs": [
    {
     "data": {
      "text/html": [
       "<div>\n",
       "<style scoped>\n",
       "    .dataframe tbody tr th:only-of-type {\n",
       "        vertical-align: middle;\n",
       "    }\n",
       "\n",
       "    .dataframe tbody tr th {\n",
       "        vertical-align: top;\n",
       "    }\n",
       "\n",
       "    .dataframe thead th {\n",
       "        text-align: right;\n",
       "    }\n",
       "</style>\n",
       "<table border=\"1\" class=\"dataframe\">\n",
       "  <thead>\n",
       "    <tr style=\"text-align: right;\">\n",
       "      <th></th>\n",
       "      <th>0</th>\n",
       "      <th>0.1</th>\n",
       "      <th>0.2</th>\n",
       "      <th>0.3</th>\n",
       "      <th>0.4</th>\n",
       "      <th>0.5</th>\n",
       "      <th>0.6</th>\n",
       "      <th>0.7</th>\n",
       "      <th>0.8</th>\n",
       "      <th>0.9</th>\n",
       "      <th>...</th>\n",
       "      <th>0.639</th>\n",
       "      <th>0.640</th>\n",
       "      <th>0.641</th>\n",
       "      <th>0.642</th>\n",
       "      <th>0.643</th>\n",
       "      <th>0.644</th>\n",
       "      <th>0.645</th>\n",
       "      <th>0.646</th>\n",
       "      <th>0.647</th>\n",
       "      <th>0.648</th>\n",
       "    </tr>\n",
       "  </thead>\n",
       "  <tbody>\n",
       "    <tr>\n",
       "      <th>0</th>\n",
       "      <td>0</td>\n",
       "      <td>0</td>\n",
       "      <td>0</td>\n",
       "      <td>0</td>\n",
       "      <td>0</td>\n",
       "      <td>0</td>\n",
       "      <td>0</td>\n",
       "      <td>0</td>\n",
       "      <td>0</td>\n",
       "      <td>0</td>\n",
       "      <td>...</td>\n",
       "      <td>0</td>\n",
       "      <td>0</td>\n",
       "      <td>0</td>\n",
       "      <td>0</td>\n",
       "      <td>0</td>\n",
       "      <td>0</td>\n",
       "      <td>0</td>\n",
       "      <td>0</td>\n",
       "      <td>0</td>\n",
       "      <td>0</td>\n",
       "    </tr>\n",
       "    <tr>\n",
       "      <th>1</th>\n",
       "      <td>0</td>\n",
       "      <td>0</td>\n",
       "      <td>0</td>\n",
       "      <td>0</td>\n",
       "      <td>0</td>\n",
       "      <td>0</td>\n",
       "      <td>0</td>\n",
       "      <td>0</td>\n",
       "      <td>0</td>\n",
       "      <td>0</td>\n",
       "      <td>...</td>\n",
       "      <td>0</td>\n",
       "      <td>0</td>\n",
       "      <td>0</td>\n",
       "      <td>0</td>\n",
       "      <td>0</td>\n",
       "      <td>0</td>\n",
       "      <td>0</td>\n",
       "      <td>0</td>\n",
       "      <td>0</td>\n",
       "      <td>0</td>\n",
       "    </tr>\n",
       "    <tr>\n",
       "      <th>2</th>\n",
       "      <td>0</td>\n",
       "      <td>0</td>\n",
       "      <td>0</td>\n",
       "      <td>0</td>\n",
       "      <td>0</td>\n",
       "      <td>0</td>\n",
       "      <td>0</td>\n",
       "      <td>0</td>\n",
       "      <td>0</td>\n",
       "      <td>0</td>\n",
       "      <td>...</td>\n",
       "      <td>0</td>\n",
       "      <td>0</td>\n",
       "      <td>0</td>\n",
       "      <td>0</td>\n",
       "      <td>0</td>\n",
       "      <td>0</td>\n",
       "      <td>0</td>\n",
       "      <td>0</td>\n",
       "      <td>0</td>\n",
       "      <td>0</td>\n",
       "    </tr>\n",
       "    <tr>\n",
       "      <th>3</th>\n",
       "      <td>0</td>\n",
       "      <td>0</td>\n",
       "      <td>0</td>\n",
       "      <td>0</td>\n",
       "      <td>0</td>\n",
       "      <td>0</td>\n",
       "      <td>0</td>\n",
       "      <td>0</td>\n",
       "      <td>0</td>\n",
       "      <td>0</td>\n",
       "      <td>...</td>\n",
       "      <td>0</td>\n",
       "      <td>0</td>\n",
       "      <td>0</td>\n",
       "      <td>0</td>\n",
       "      <td>0</td>\n",
       "      <td>0</td>\n",
       "      <td>0</td>\n",
       "      <td>0</td>\n",
       "      <td>0</td>\n",
       "      <td>0</td>\n",
       "    </tr>\n",
       "    <tr>\n",
       "      <th>4</th>\n",
       "      <td>0</td>\n",
       "      <td>0</td>\n",
       "      <td>0</td>\n",
       "      <td>0</td>\n",
       "      <td>0</td>\n",
       "      <td>0</td>\n",
       "      <td>0</td>\n",
       "      <td>0</td>\n",
       "      <td>0</td>\n",
       "      <td>0</td>\n",
       "      <td>...</td>\n",
       "      <td>0</td>\n",
       "      <td>0</td>\n",
       "      <td>0</td>\n",
       "      <td>0</td>\n",
       "      <td>0</td>\n",
       "      <td>0</td>\n",
       "      <td>0</td>\n",
       "      <td>0</td>\n",
       "      <td>0</td>\n",
       "      <td>0</td>\n",
       "    </tr>\n",
       "  </tbody>\n",
       "</table>\n",
       "<p>5 rows × 785 columns</p>\n",
       "</div>"
      ],
      "text/plain": [
       "   0  0.1  0.2  0.3  0.4  0.5  0.6  0.7  0.8  0.9  ...  0.639  0.640  0.641  \\\n",
       "0  0    0    0    0    0    0    0    0    0    0  ...      0      0      0   \n",
       "1  0    0    0    0    0    0    0    0    0    0  ...      0      0      0   \n",
       "2  0    0    0    0    0    0    0    0    0    0  ...      0      0      0   \n",
       "3  0    0    0    0    0    0    0    0    0    0  ...      0      0      0   \n",
       "4  0    0    0    0    0    0    0    0    0    0  ...      0      0      0   \n",
       "\n",
       "   0.642  0.643  0.644  0.645  0.646  0.647  0.648  \n",
       "0      0      0      0      0      0      0      0  \n",
       "1      0      0      0      0      0      0      0  \n",
       "2      0      0      0      0      0      0      0  \n",
       "3      0      0      0      0      0      0      0  \n",
       "4      0      0      0      0      0      0      0  \n",
       "\n",
       "[5 rows x 785 columns]"
      ]
     },
     "execution_count": 3,
     "metadata": {},
     "output_type": "execute_result"
    }
   ],
   "source": [
    "df = load_data()\n",
    "df.head()"
   ]
  },
  {
   "cell_type": "code",
   "execution_count": 4,
   "metadata": {},
   "outputs": [
    {
     "name": "stdout",
     "output_type": "stream",
     "text": [
      "Shape: (372450, 785)\n",
      "Columns: Index(['0', '0.1', '0.2', '0.3', '0.4', '0.5', '0.6', '0.7', '0.8', '0.9',\n",
      "       ...\n",
      "       '0.639', '0.640', '0.641', '0.642', '0.643', '0.644', '0.645', '0.646',\n",
      "       '0.647', '0.648'],\n",
      "      dtype='object', length=785)\n",
      "Unique Entities: {0, 1, 2, 3, 4, 5, 6, 7, 8, 9, 10, 11, 12, 13, 14, 15, 16, 17, 18, 19, 20, 21, 22, 23, 24, 25}\n"
     ]
    }
   ],
   "source": [
    "describe_data(df)"
   ]
  },
  {
   "cell_type": "markdown",
   "metadata": {},
   "source": [
    "## Understanding the data\n",
    "\n",
    "Target Variable: First column is the Target Column which has 26 uniquely encoded entities ==> [0-25] <br/>\n",
    "Independent Variable: Rest 784 columns are the pixel values of each handwritten alphabet <br/>"
   ]
  },
  {
   "cell_type": "code",
   "execution_count": 5,
   "metadata": {},
   "outputs": [
    {
     "data": {
      "text/plain": [
       "{0: 13869,\n",
       " 1: 8668,\n",
       " 2: 23409,\n",
       " 3: 10134,\n",
       " 4: 11440,\n",
       " 5: 1163,\n",
       " 6: 5762,\n",
       " 7: 7218,\n",
       " 8: 1120,\n",
       " 9: 8493,\n",
       " 10: 5603,\n",
       " 11: 11586,\n",
       " 12: 12336,\n",
       " 13: 19010,\n",
       " 14: 57825,\n",
       " 15: 19341,\n",
       " 16: 5812,\n",
       " 17: 11566,\n",
       " 18: 48419,\n",
       " 19: 22495,\n",
       " 20: 29008,\n",
       " 21: 4182,\n",
       " 22: 10784,\n",
       " 23: 6272,\n",
       " 24: 10859,\n",
       " 25: 6076}"
      ]
     },
     "execution_count": 5,
     "metadata": {},
     "output_type": "execute_result"
    }
   ],
   "source": [
    "#finding the no of samples each class has\n",
    "no_of_sample={}\n",
    "for i in range(len(df)):\n",
    "    if df['0'][i] not in no_of_sample:\n",
    "        no_of_sample.update({df['0'][i]:1})\n",
    "    else:\n",
    "        no_of_sample[df['0'][i]]+=1\n",
    "no_of_sample"
   ]
  },
  {
   "cell_type": "markdown",
   "metadata": {},
   "source": [
    "We see that the dataset is fucking imbalanced! So we will treat it accordingly!"
   ]
  },
  {
   "cell_type": "code",
   "execution_count": 6,
   "metadata": {},
   "outputs": [
    {
     "data": {
      "text/plain": [
       "1120"
      ]
     },
     "execution_count": 6,
     "metadata": {},
     "output_type": "execute_result"
    }
   ],
   "source": [
    "min(no_of_sample.values())"
   ]
  },
  {
   "cell_type": "code",
   "execution_count": 7,
   "metadata": {},
   "outputs": [
    {
     "data": {
      "text/plain": [
       "57825"
      ]
     },
     "execution_count": 7,
     "metadata": {},
     "output_type": "execute_result"
    }
   ],
   "source": [
    "max(no_of_sample.values())"
   ]
  },
  {
   "cell_type": "code",
   "execution_count": 8,
   "metadata": {},
   "outputs": [],
   "source": [
    "#spc==sample per class\n",
    "spc=min(no_of_sample.values())"
   ]
  },
  {
   "cell_type": "markdown",
   "metadata": {},
   "source": [
    "## Plotting an Image"
   ]
  },
  {
   "cell_type": "code",
   "execution_count": 9,
   "metadata": {},
   "outputs": [
    {
     "data": {
      "image/png": "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\n",
      "text/plain": [
       "<Figure size 432x288 with 1 Axes>"
      ]
     },
     "metadata": {
      "needs_background": "light"
     },
     "output_type": "display_data"
    }
   ],
   "source": [
    "show_sample(df)"
   ]
  },
  {
   "cell_type": "code",
   "execution_count": 10,
   "metadata": {},
   "outputs": [
    {
     "data": {
      "text/html": [
       "<div>\n",
       "<style scoped>\n",
       "    .dataframe tbody tr th:only-of-type {\n",
       "        vertical-align: middle;\n",
       "    }\n",
       "\n",
       "    .dataframe tbody tr th {\n",
       "        vertical-align: top;\n",
       "    }\n",
       "\n",
       "    .dataframe thead th {\n",
       "        text-align: right;\n",
       "    }\n",
       "</style>\n",
       "<table border=\"1\" class=\"dataframe\">\n",
       "  <thead>\n",
       "    <tr style=\"text-align: right;\">\n",
       "      <th></th>\n",
       "      <th>0</th>\n",
       "      <th>0.1</th>\n",
       "      <th>0.2</th>\n",
       "      <th>0.3</th>\n",
       "      <th>0.4</th>\n",
       "      <th>0.5</th>\n",
       "      <th>0.6</th>\n",
       "      <th>0.7</th>\n",
       "      <th>0.8</th>\n",
       "      <th>0.9</th>\n",
       "      <th>...</th>\n",
       "      <th>0.640</th>\n",
       "      <th>0.641</th>\n",
       "      <th>0.642</th>\n",
       "      <th>0.643</th>\n",
       "      <th>0.644</th>\n",
       "      <th>0.645</th>\n",
       "      <th>0.646</th>\n",
       "      <th>0.647</th>\n",
       "      <th>0.648</th>\n",
       "      <th>idx</th>\n",
       "    </tr>\n",
       "  </thead>\n",
       "  <tbody>\n",
       "    <tr>\n",
       "      <th>0</th>\n",
       "      <td>0</td>\n",
       "      <td>0</td>\n",
       "      <td>0</td>\n",
       "      <td>0</td>\n",
       "      <td>0</td>\n",
       "      <td>0</td>\n",
       "      <td>0</td>\n",
       "      <td>0</td>\n",
       "      <td>0</td>\n",
       "      <td>0</td>\n",
       "      <td>...</td>\n",
       "      <td>0</td>\n",
       "      <td>0</td>\n",
       "      <td>0</td>\n",
       "      <td>0</td>\n",
       "      <td>0</td>\n",
       "      <td>0</td>\n",
       "      <td>0</td>\n",
       "      <td>0</td>\n",
       "      <td>0</td>\n",
       "      <td>0</td>\n",
       "    </tr>\n",
       "    <tr>\n",
       "      <th>1</th>\n",
       "      <td>0</td>\n",
       "      <td>0</td>\n",
       "      <td>0</td>\n",
       "      <td>0</td>\n",
       "      <td>0</td>\n",
       "      <td>0</td>\n",
       "      <td>0</td>\n",
       "      <td>0</td>\n",
       "      <td>0</td>\n",
       "      <td>0</td>\n",
       "      <td>...</td>\n",
       "      <td>0</td>\n",
       "      <td>0</td>\n",
       "      <td>0</td>\n",
       "      <td>0</td>\n",
       "      <td>0</td>\n",
       "      <td>0</td>\n",
       "      <td>0</td>\n",
       "      <td>0</td>\n",
       "      <td>0</td>\n",
       "      <td>1</td>\n",
       "    </tr>\n",
       "    <tr>\n",
       "      <th>2</th>\n",
       "      <td>0</td>\n",
       "      <td>0</td>\n",
       "      <td>0</td>\n",
       "      <td>0</td>\n",
       "      <td>0</td>\n",
       "      <td>0</td>\n",
       "      <td>0</td>\n",
       "      <td>0</td>\n",
       "      <td>0</td>\n",
       "      <td>0</td>\n",
       "      <td>...</td>\n",
       "      <td>0</td>\n",
       "      <td>0</td>\n",
       "      <td>0</td>\n",
       "      <td>0</td>\n",
       "      <td>0</td>\n",
       "      <td>0</td>\n",
       "      <td>0</td>\n",
       "      <td>0</td>\n",
       "      <td>0</td>\n",
       "      <td>2</td>\n",
       "    </tr>\n",
       "    <tr>\n",
       "      <th>3</th>\n",
       "      <td>0</td>\n",
       "      <td>0</td>\n",
       "      <td>0</td>\n",
       "      <td>0</td>\n",
       "      <td>0</td>\n",
       "      <td>0</td>\n",
       "      <td>0</td>\n",
       "      <td>0</td>\n",
       "      <td>0</td>\n",
       "      <td>0</td>\n",
       "      <td>...</td>\n",
       "      <td>0</td>\n",
       "      <td>0</td>\n",
       "      <td>0</td>\n",
       "      <td>0</td>\n",
       "      <td>0</td>\n",
       "      <td>0</td>\n",
       "      <td>0</td>\n",
       "      <td>0</td>\n",
       "      <td>0</td>\n",
       "      <td>3</td>\n",
       "    </tr>\n",
       "    <tr>\n",
       "      <th>4</th>\n",
       "      <td>0</td>\n",
       "      <td>0</td>\n",
       "      <td>0</td>\n",
       "      <td>0</td>\n",
       "      <td>0</td>\n",
       "      <td>0</td>\n",
       "      <td>0</td>\n",
       "      <td>0</td>\n",
       "      <td>0</td>\n",
       "      <td>0</td>\n",
       "      <td>...</td>\n",
       "      <td>0</td>\n",
       "      <td>0</td>\n",
       "      <td>0</td>\n",
       "      <td>0</td>\n",
       "      <td>0</td>\n",
       "      <td>0</td>\n",
       "      <td>0</td>\n",
       "      <td>0</td>\n",
       "      <td>0</td>\n",
       "      <td>4</td>\n",
       "    </tr>\n",
       "  </tbody>\n",
       "</table>\n",
       "<p>5 rows × 786 columns</p>\n",
       "</div>"
      ],
      "text/plain": [
       "   0  0.1  0.2  0.3  0.4  0.5  0.6  0.7  0.8  0.9  ...  0.640  0.641  0.642  \\\n",
       "0  0    0    0    0    0    0    0    0    0    0  ...      0      0      0   \n",
       "1  0    0    0    0    0    0    0    0    0    0  ...      0      0      0   \n",
       "2  0    0    0    0    0    0    0    0    0    0  ...      0      0      0   \n",
       "3  0    0    0    0    0    0    0    0    0    0  ...      0      0      0   \n",
       "4  0    0    0    0    0    0    0    0    0    0  ...      0      0      0   \n",
       "\n",
       "   0.643  0.644  0.645  0.646  0.647  0.648  idx  \n",
       "0      0      0      0      0      0      0    0  \n",
       "1      0      0      0      0      0      0    1  \n",
       "2      0      0      0      0      0      0    2  \n",
       "3      0      0      0      0      0      0    3  \n",
       "4      0      0      0      0      0      0    4  \n",
       "\n",
       "[5 rows x 786 columns]"
      ]
     },
     "execution_count": 10,
     "metadata": {},
     "output_type": "execute_result"
    }
   ],
   "source": [
    "#adding the idx col to uniquely identify each row\n",
    "df['idx']=[i for i in range(len(df))]\n",
    "df.head()"
   ]
  },
  {
   "cell_type": "markdown",
   "metadata": {},
   "source": [
    "## Manual Cross Validation"
   ]
  },
  {
   "cell_type": "code",
   "execution_count": 11,
   "metadata": {},
   "outputs": [
    {
     "name": "stderr",
     "output_type": "stream",
     "text": [
      "100%|██████████████████████████████████████████████████████████████████████████████████| 26/26 [00:41<00:00,  1.60s/it]\n"
     ]
    }
   ],
   "source": [
    "from tqdm import tqdm\n",
    "\n",
    "# keeping the test size to be 0.2\n",
    "test_size = 0.2\n",
    "\n",
    "#each sample in the test set will be round figure of 1120*0.2\n",
    "test_sample_per_class = int(test_size*spc)\n",
    "train_sample_per_class = spc-test_sample_per_class\n",
    "\n",
    "train,test = [],[]\n",
    "for i in tqdm(range(26)):\n",
    "    train_sample=df[df['0']==i].sample(n=train_sample_per_class)\n",
    "    train_sample_idx=list(train_sample.idx)\n",
    "    \n",
    "    train.append(train_sample.iloc[:,:-1])\n",
    "    \n",
    "    all_samples=df[df['0']==i]\n",
    "    test.append(all_samples[~all_samples['idx'].isin(train_sample_idx)].iloc[:,:-1].sample(test_sample_per_class))"
   ]
  },
  {
   "cell_type": "code",
   "execution_count": 12,
   "metadata": {},
   "outputs": [
    {
     "data": {
      "text/plain": [
       "26"
      ]
     },
     "execution_count": 12,
     "metadata": {},
     "output_type": "execute_result"
    }
   ],
   "source": [
    "len(train)"
   ]
  },
  {
   "cell_type": "code",
   "execution_count": 13,
   "metadata": {},
   "outputs": [
    {
     "data": {
      "text/html": [
       "<div>\n",
       "<style scoped>\n",
       "    .dataframe tbody tr th:only-of-type {\n",
       "        vertical-align: middle;\n",
       "    }\n",
       "\n",
       "    .dataframe tbody tr th {\n",
       "        vertical-align: top;\n",
       "    }\n",
       "\n",
       "    .dataframe thead th {\n",
       "        text-align: right;\n",
       "    }\n",
       "</style>\n",
       "<table border=\"1\" class=\"dataframe\">\n",
       "  <thead>\n",
       "    <tr style=\"text-align: right;\">\n",
       "      <th></th>\n",
       "      <th>0</th>\n",
       "      <th>0.1</th>\n",
       "      <th>0.2</th>\n",
       "      <th>0.3</th>\n",
       "      <th>0.4</th>\n",
       "      <th>0.5</th>\n",
       "      <th>0.6</th>\n",
       "      <th>0.7</th>\n",
       "      <th>0.8</th>\n",
       "      <th>0.9</th>\n",
       "      <th>...</